{
 "cells": [
  {
   "cell_type": "code",
   "execution_count": 54,
   "id": "initial_id",
   "metadata": {
    "collapsed": true,
    "ExecuteTime": {
     "end_time": "2023-10-14T21:50:42.817060300Z",
     "start_time": "2023-10-14T21:50:42.135025400Z"
    }
   },
   "outputs": [],
   "source": [
    "import pandas as pd\n",
    "import matplotlib.pyplot as plt\n",
    "import seaborn as sns\n",
    "import math\n",
    "import joblib"
   ]
  },
  {
   "cell_type": "code",
   "execution_count": 55,
   "outputs": [],
   "source": [
    "tr_tr_new = joblib.load('./joblib/tr_tr_new.joblib')"
   ],
   "metadata": {
    "collapsed": false,
    "ExecuteTime": {
     "end_time": "2023-10-14T21:50:43.601080200Z",
     "start_time": "2023-10-14T21:50:42.140088100Z"
    }
   },
   "id": "92e6989a9d8baa6e"
  },
  {
   "cell_type": "code",
   "execution_count": 56,
   "outputs": [
    {
     "data": {
      "text/plain": "                D5  C10   C7  D9   C8  D8   C3  C12  dist1  TransactionDT  \\\nTransactionID                                                               \n2987000        NaN  0.0  0.0 NaN  0.0 NaN  0.0  0.0   19.0          86400   \n2987001        NaN  0.0  0.0 NaN  0.0 NaN  0.0  0.0    NaN          86401   \n2987002        NaN  0.0  0.0 NaN  0.0 NaN  0.0  0.0  287.0          86469   \n2987003        0.0  0.0  0.0 NaN  0.0 NaN  0.0  0.0    NaN          86499   \n2987004        NaN  1.0  0.0 NaN  1.0 NaN  0.0  0.0    NaN          86506   \n\n               ...                id_31  id_32      id_33           id_34  \\\nTransactionID  ...                                                          \n2987000        ...                  NaN    NaN        NaN             NaN   \n2987001        ...                  NaN    NaN        NaN             NaN   \n2987002        ...                  NaN    NaN        NaN             NaN   \n2987003        ...                  NaN    NaN        NaN             NaN   \n2987004        ...  samsung browser 6.2   32.0  2220x1080  match_status:2   \n\n               id_35 id_36 id_37 id_38  DeviceType  \\\nTransactionID                                        \n2987000          NaN   NaN   NaN   NaN         NaN   \n2987001          NaN   NaN   NaN   NaN         NaN   \n2987002          NaN   NaN   NaN   NaN         NaN   \n2987003          NaN   NaN   NaN   NaN         NaN   \n2987004            T     F     T     T      mobile   \n\n                                  DeviceInfo  \nTransactionID                                 \n2987000                                  NaN  \n2987001                                  NaN  \n2987002                                  NaN  \n2987003                                  NaN  \n2987004        SAMSUNG SM-G892A Build/NRD90M  \n\n[5 rows x 215 columns]",
      "text/html": "<div>\n<style scoped>\n    .dataframe tbody tr th:only-of-type {\n        vertical-align: middle;\n    }\n\n    .dataframe tbody tr th {\n        vertical-align: top;\n    }\n\n    .dataframe thead th {\n        text-align: right;\n    }\n</style>\n<table border=\"1\" class=\"dataframe\">\n  <thead>\n    <tr style=\"text-align: right;\">\n      <th></th>\n      <th>D5</th>\n      <th>C10</th>\n      <th>C7</th>\n      <th>D9</th>\n      <th>C8</th>\n      <th>D8</th>\n      <th>C3</th>\n      <th>C12</th>\n      <th>dist1</th>\n      <th>TransactionDT</th>\n      <th>...</th>\n      <th>id_31</th>\n      <th>id_32</th>\n      <th>id_33</th>\n      <th>id_34</th>\n      <th>id_35</th>\n      <th>id_36</th>\n      <th>id_37</th>\n      <th>id_38</th>\n      <th>DeviceType</th>\n      <th>DeviceInfo</th>\n    </tr>\n    <tr>\n      <th>TransactionID</th>\n      <th></th>\n      <th></th>\n      <th></th>\n      <th></th>\n      <th></th>\n      <th></th>\n      <th></th>\n      <th></th>\n      <th></th>\n      <th></th>\n      <th></th>\n      <th></th>\n      <th></th>\n      <th></th>\n      <th></th>\n      <th></th>\n      <th></th>\n      <th></th>\n      <th></th>\n      <th></th>\n      <th></th>\n    </tr>\n  </thead>\n  <tbody>\n    <tr>\n      <th>2987000</th>\n      <td>NaN</td>\n      <td>0.0</td>\n      <td>0.0</td>\n      <td>NaN</td>\n      <td>0.0</td>\n      <td>NaN</td>\n      <td>0.0</td>\n      <td>0.0</td>\n      <td>19.0</td>\n      <td>86400</td>\n      <td>...</td>\n      <td>NaN</td>\n      <td>NaN</td>\n      <td>NaN</td>\n      <td>NaN</td>\n      <td>NaN</td>\n      <td>NaN</td>\n      <td>NaN</td>\n      <td>NaN</td>\n      <td>NaN</td>\n      <td>NaN</td>\n    </tr>\n    <tr>\n      <th>2987001</th>\n      <td>NaN</td>\n      <td>0.0</td>\n      <td>0.0</td>\n      <td>NaN</td>\n      <td>0.0</td>\n      <td>NaN</td>\n      <td>0.0</td>\n      <td>0.0</td>\n      <td>NaN</td>\n      <td>86401</td>\n      <td>...</td>\n      <td>NaN</td>\n      <td>NaN</td>\n      <td>NaN</td>\n      <td>NaN</td>\n      <td>NaN</td>\n      <td>NaN</td>\n      <td>NaN</td>\n      <td>NaN</td>\n      <td>NaN</td>\n      <td>NaN</td>\n    </tr>\n    <tr>\n      <th>2987002</th>\n      <td>NaN</td>\n      <td>0.0</td>\n      <td>0.0</td>\n      <td>NaN</td>\n      <td>0.0</td>\n      <td>NaN</td>\n      <td>0.0</td>\n      <td>0.0</td>\n      <td>287.0</td>\n      <td>86469</td>\n      <td>...</td>\n      <td>NaN</td>\n      <td>NaN</td>\n      <td>NaN</td>\n      <td>NaN</td>\n      <td>NaN</td>\n      <td>NaN</td>\n      <td>NaN</td>\n      <td>NaN</td>\n      <td>NaN</td>\n      <td>NaN</td>\n    </tr>\n    <tr>\n      <th>2987003</th>\n      <td>0.0</td>\n      <td>0.0</td>\n      <td>0.0</td>\n      <td>NaN</td>\n      <td>0.0</td>\n      <td>NaN</td>\n      <td>0.0</td>\n      <td>0.0</td>\n      <td>NaN</td>\n      <td>86499</td>\n      <td>...</td>\n      <td>NaN</td>\n      <td>NaN</td>\n      <td>NaN</td>\n      <td>NaN</td>\n      <td>NaN</td>\n      <td>NaN</td>\n      <td>NaN</td>\n      <td>NaN</td>\n      <td>NaN</td>\n      <td>NaN</td>\n    </tr>\n    <tr>\n      <th>2987004</th>\n      <td>NaN</td>\n      <td>1.0</td>\n      <td>0.0</td>\n      <td>NaN</td>\n      <td>1.0</td>\n      <td>NaN</td>\n      <td>0.0</td>\n      <td>0.0</td>\n      <td>NaN</td>\n      <td>86506</td>\n      <td>...</td>\n      <td>samsung browser 6.2</td>\n      <td>32.0</td>\n      <td>2220x1080</td>\n      <td>match_status:2</td>\n      <td>T</td>\n      <td>F</td>\n      <td>T</td>\n      <td>T</td>\n      <td>mobile</td>\n      <td>SAMSUNG SM-G892A Build/NRD90M</td>\n    </tr>\n  </tbody>\n</table>\n<p>5 rows × 215 columns</p>\n</div>"
     },
     "execution_count": 56,
     "metadata": {},
     "output_type": "execute_result"
    }
   ],
   "source": [
    "tr_tr_new.head()"
   ],
   "metadata": {
    "collapsed": false,
    "ExecuteTime": {
     "end_time": "2023-10-14T21:50:43.622061400Z",
     "start_time": "2023-10-14T21:50:43.602074900Z"
    }
   },
   "id": "b4c97f9e91f097df"
  },
  {
   "cell_type": "code",
   "execution_count": 57,
   "outputs": [],
   "source": [
    "te_tr_new = joblib.load('./joblib/te_tr_new.joblib')"
   ],
   "metadata": {
    "collapsed": false,
    "ExecuteTime": {
     "end_time": "2023-10-14T21:50:45.020425100Z",
     "start_time": "2023-10-14T21:50:43.621062100Z"
    }
   },
   "id": "7d65ab9b1afeaea7"
  },
  {
   "cell_type": "code",
   "execution_count": 58,
   "outputs": [
    {
     "data": {
      "text/plain": "                 D5  C10   C7  D9   C8  D8   C3  C12   dist1  TransactionDT  \\\nTransactionID                                                                 \n3663549        27.0  0.0  0.0 NaN  0.0 NaN  0.0  1.0     1.0       18403224   \n3663550         7.0  0.0  0.0 NaN  0.0 NaN  0.0  1.0     4.0       18403263   \n3663551        10.0  0.0  0.0 NaN  0.0 NaN  0.0  0.0  2635.0       18403310   \n3663552        41.0  0.0  0.0 NaN  0.0 NaN  0.0  0.0    17.0       18403310   \n3663553         0.0  0.0  0.0 NaN  0.0 NaN  0.0  0.0     6.0       18403317   \n\n               ...  id-31  id-32  id-33  id-34  id-35 id-36 id-37 id-38  \\\nTransactionID  ...                                                        \n3663549        ...    NaN    NaN    NaN    NaN    NaN   NaN   NaN   NaN   \n3663550        ...    NaN    NaN    NaN    NaN    NaN   NaN   NaN   NaN   \n3663551        ...    NaN    NaN    NaN    NaN    NaN   NaN   NaN   NaN   \n3663552        ...    NaN    NaN    NaN    NaN    NaN   NaN   NaN   NaN   \n3663553        ...    NaN    NaN    NaN    NaN    NaN   NaN   NaN   NaN   \n\n               DeviceType  DeviceInfo  \nTransactionID                          \n3663549               NaN         NaN  \n3663550               NaN         NaN  \n3663551               NaN         NaN  \n3663552               NaN         NaN  \n3663553               NaN         NaN  \n\n[5 rows x 214 columns]",
      "text/html": "<div>\n<style scoped>\n    .dataframe tbody tr th:only-of-type {\n        vertical-align: middle;\n    }\n\n    .dataframe tbody tr th {\n        vertical-align: top;\n    }\n\n    .dataframe thead th {\n        text-align: right;\n    }\n</style>\n<table border=\"1\" class=\"dataframe\">\n  <thead>\n    <tr style=\"text-align: right;\">\n      <th></th>\n      <th>D5</th>\n      <th>C10</th>\n      <th>C7</th>\n      <th>D9</th>\n      <th>C8</th>\n      <th>D8</th>\n      <th>C3</th>\n      <th>C12</th>\n      <th>dist1</th>\n      <th>TransactionDT</th>\n      <th>...</th>\n      <th>id-31</th>\n      <th>id-32</th>\n      <th>id-33</th>\n      <th>id-34</th>\n      <th>id-35</th>\n      <th>id-36</th>\n      <th>id-37</th>\n      <th>id-38</th>\n      <th>DeviceType</th>\n      <th>DeviceInfo</th>\n    </tr>\n    <tr>\n      <th>TransactionID</th>\n      <th></th>\n      <th></th>\n      <th></th>\n      <th></th>\n      <th></th>\n      <th></th>\n      <th></th>\n      <th></th>\n      <th></th>\n      <th></th>\n      <th></th>\n      <th></th>\n      <th></th>\n      <th></th>\n      <th></th>\n      <th></th>\n      <th></th>\n      <th></th>\n      <th></th>\n      <th></th>\n      <th></th>\n    </tr>\n  </thead>\n  <tbody>\n    <tr>\n      <th>3663549</th>\n      <td>27.0</td>\n      <td>0.0</td>\n      <td>0.0</td>\n      <td>NaN</td>\n      <td>0.0</td>\n      <td>NaN</td>\n      <td>0.0</td>\n      <td>1.0</td>\n      <td>1.0</td>\n      <td>18403224</td>\n      <td>...</td>\n      <td>NaN</td>\n      <td>NaN</td>\n      <td>NaN</td>\n      <td>NaN</td>\n      <td>NaN</td>\n      <td>NaN</td>\n      <td>NaN</td>\n      <td>NaN</td>\n      <td>NaN</td>\n      <td>NaN</td>\n    </tr>\n    <tr>\n      <th>3663550</th>\n      <td>7.0</td>\n      <td>0.0</td>\n      <td>0.0</td>\n      <td>NaN</td>\n      <td>0.0</td>\n      <td>NaN</td>\n      <td>0.0</td>\n      <td>1.0</td>\n      <td>4.0</td>\n      <td>18403263</td>\n      <td>...</td>\n      <td>NaN</td>\n      <td>NaN</td>\n      <td>NaN</td>\n      <td>NaN</td>\n      <td>NaN</td>\n      <td>NaN</td>\n      <td>NaN</td>\n      <td>NaN</td>\n      <td>NaN</td>\n      <td>NaN</td>\n    </tr>\n    <tr>\n      <th>3663551</th>\n      <td>10.0</td>\n      <td>0.0</td>\n      <td>0.0</td>\n      <td>NaN</td>\n      <td>0.0</td>\n      <td>NaN</td>\n      <td>0.0</td>\n      <td>0.0</td>\n      <td>2635.0</td>\n      <td>18403310</td>\n      <td>...</td>\n      <td>NaN</td>\n      <td>NaN</td>\n      <td>NaN</td>\n      <td>NaN</td>\n      <td>NaN</td>\n      <td>NaN</td>\n      <td>NaN</td>\n      <td>NaN</td>\n      <td>NaN</td>\n      <td>NaN</td>\n    </tr>\n    <tr>\n      <th>3663552</th>\n      <td>41.0</td>\n      <td>0.0</td>\n      <td>0.0</td>\n      <td>NaN</td>\n      <td>0.0</td>\n      <td>NaN</td>\n      <td>0.0</td>\n      <td>0.0</td>\n      <td>17.0</td>\n      <td>18403310</td>\n      <td>...</td>\n      <td>NaN</td>\n      <td>NaN</td>\n      <td>NaN</td>\n      <td>NaN</td>\n      <td>NaN</td>\n      <td>NaN</td>\n      <td>NaN</td>\n      <td>NaN</td>\n      <td>NaN</td>\n      <td>NaN</td>\n    </tr>\n    <tr>\n      <th>3663553</th>\n      <td>0.0</td>\n      <td>0.0</td>\n      <td>0.0</td>\n      <td>NaN</td>\n      <td>0.0</td>\n      <td>NaN</td>\n      <td>0.0</td>\n      <td>0.0</td>\n      <td>6.0</td>\n      <td>18403317</td>\n      <td>...</td>\n      <td>NaN</td>\n      <td>NaN</td>\n      <td>NaN</td>\n      <td>NaN</td>\n      <td>NaN</td>\n      <td>NaN</td>\n      <td>NaN</td>\n      <td>NaN</td>\n      <td>NaN</td>\n      <td>NaN</td>\n    </tr>\n  </tbody>\n</table>\n<p>5 rows × 214 columns</p>\n</div>"
     },
     "execution_count": 58,
     "metadata": {},
     "output_type": "execute_result"
    }
   ],
   "source": [
    "te_tr_new.head()"
   ],
   "metadata": {
    "collapsed": false,
    "ExecuteTime": {
     "end_time": "2023-10-14T21:50:45.042858700Z",
     "start_time": "2023-10-14T21:50:45.022422800Z"
    }
   },
   "id": "999eb2611f3c923c"
  },
  {
   "cell_type": "code",
   "execution_count": 59,
   "outputs": [],
   "source": [
    "# tr_tr_new.drop(columns=['isFraud'], inplace=True)"
   ],
   "metadata": {
    "collapsed": false,
    "ExecuteTime": {
     "end_time": "2023-10-14T21:50:45.080413600Z",
     "start_time": "2023-10-14T21:50:45.036848Z"
    }
   },
   "id": "c55f446a424a3ff3"
  },
  {
   "cell_type": "code",
   "execution_count": 60,
   "outputs": [
    {
     "name": "stdout",
     "output_type": "stream",
     "text": [
      "(590540, 215) (506691, 214)\n"
     ]
    }
   ],
   "source": [
    "print(tr_tr_new.shape, te_tr_new.shape)"
   ],
   "metadata": {
    "collapsed": false,
    "ExecuteTime": {
     "end_time": "2023-10-14T21:50:45.080984900Z",
     "start_time": "2023-10-14T21:50:45.057159Z"
    }
   },
   "id": "f205e72d0b51b931"
  },
  {
   "cell_type": "code",
   "execution_count": 61,
   "outputs": [
    {
     "data": {
      "text/plain": "D5            float64\nC10           float64\nC7            float64\nD9            float64\nC8            float64\n               ...   \nid_36          object\nid_37          object\nid_38          object\nDeviceType     object\nDeviceInfo     object\nLength: 215, dtype: object"
     },
     "execution_count": 61,
     "metadata": {},
     "output_type": "execute_result"
    }
   ],
   "source": [
    "tr_tr_new.dtypes"
   ],
   "metadata": {
    "collapsed": false,
    "ExecuteTime": {
     "end_time": "2023-10-14T21:50:45.142769500Z",
     "start_time": "2023-10-14T21:50:45.073366700Z"
    }
   },
   "id": "68b76aad148d49f6"
  },
  {
   "cell_type": "code",
   "execution_count": 62,
   "outputs": [],
   "source": [
    "# for col in ['ProductCD', 'card4', 'card6']:\n",
    "#     aux = pd.concat([tr_tr_new[[col]], te_tr_new[[col]]])\n",
    "#     col_aux = aux[col].value_counts().to_dict()   \n",
    "#     tr_tr_new[col] = tr_tr_new[col].map(col_aux)\n",
    "#     tr_tr_new[col]  = te_tr_new[col].map(col_aux)"
   ],
   "metadata": {
    "collapsed": false,
    "ExecuteTime": {
     "end_time": "2023-10-14T21:50:45.189968700Z",
     "start_time": "2023-10-14T21:50:45.084496800Z"
    }
   },
   "id": "5c793c466b7b4848"
  },
  {
   "cell_type": "code",
   "execution_count": 63,
   "outputs": [],
   "source": [
    "# columns_to_map = ['M1','M2','M3','M5','M6','M7','M8','M9']\n",
    "# \n",
    "# for x in columns_to_map + ['M4']:\n",
    "#     if x in columns_to_map:\n",
    "#         tr_tr_new[x] = tr_tr_new[x].map({'T':1, 'F':0})\n",
    "#         te_tr_new[x] = te_tr_new[x].map({'T':1, 'F':0})\n",
    "#     else:\n",
    "#         aux = pd.concat([tr_tr_new[[x]], te_tr_new[[x]]])\n",
    "#         col_aux = aux[x].value_counts().to_dict()   \n",
    "#         tr_tr_new[x] = tr_tr_new[x].map(col_aux)\n",
    "#         te_tr_new[x] = te_tr_new[x].map(col_aux)"
   ],
   "metadata": {
    "collapsed": false,
    "ExecuteTime": {
     "end_time": "2023-10-14T21:50:45.226046800Z",
     "start_time": "2023-10-14T21:50:45.091920100Z"
    }
   },
   "id": "eb11f5d0ee6993c6"
  },
  {
   "cell_type": "code",
   "execution_count": 64,
   "outputs": [],
   "source": [
    "te_tr_new.rename(columns=lambda col: col.replace('id-', 'id_'), inplace=True)"
   ],
   "metadata": {
    "collapsed": false,
    "ExecuteTime": {
     "end_time": "2023-10-14T21:50:45.269111600Z",
     "start_time": "2023-10-14T21:50:45.103373200Z"
    }
   },
   "id": "f72e0b2d84632e57"
  },
  {
   "cell_type": "code",
   "execution_count": 65,
   "outputs": [
    {
     "data": {
      "text/plain": "['id_01',\n 'id_02',\n 'id_03',\n 'id_04',\n 'id_05',\n 'id_06',\n 'id_07',\n 'id_08',\n 'id_09',\n 'id_10',\n 'id_11',\n 'id_12',\n 'id_13',\n 'id_14',\n 'id_15',\n 'id_16',\n 'id_17',\n 'id_18',\n 'id_19',\n 'id_20',\n 'id_21',\n 'id_22',\n 'id_23',\n 'id_24',\n 'id_25',\n 'id_26',\n 'id_27',\n 'id_28',\n 'id_29',\n 'id_30',\n 'id_31',\n 'id_32',\n 'id_33',\n 'id_34',\n 'id_35',\n 'id_36',\n 'id_37',\n 'id_38']"
     },
     "execution_count": 65,
     "metadata": {},
     "output_type": "execute_result"
    }
   ],
   "source": [
    "[col for col in tr_tr_new.columns if col.startswith('id_')]"
   ],
   "metadata": {
    "collapsed": false,
    "ExecuteTime": {
     "end_time": "2023-10-14T21:50:45.269111600Z",
     "start_time": "2023-10-14T21:50:45.114300200Z"
    }
   },
   "id": "89eb83effcb70958"
  },
  {
   "cell_type": "code",
   "execution_count": 66,
   "outputs": [],
   "source": [
    "cat_var = ['ProductCD', \n",
    "           'card6', 'card2', 'card5', 'card1', 'card4', 'card3',\n",
    "           'addr2', 'addr1',\n",
    "           'P_emaildomain',\n",
    "           'R_emaildomain',\n",
    "           'M6', 'M7', 'M8', 'M4', 'M9', 'M1', 'M2', 'M5', 'M3',\n",
    "           'DeviceType',\n",
    "           'DeviceInfo',\n",
    "           'id_12', 'id_13', 'id_14', 'id_15', 'id_16', 'id_17', 'id_18', 'id_19',\n",
    "           'id_20', 'id_21', 'id_22', 'id_23', 'id_24', 'id_25', 'id_26', 'id_27',\n",
    "           'id_28', 'id_29', 'id_30', 'id_31', 'id_32', 'id_33', 'id_34', 'id_35', \n",
    "           'id_36', 'id_37', 'id_38']"
   ],
   "metadata": {
    "collapsed": false,
    "ExecuteTime": {
     "end_time": "2023-10-14T21:50:45.269111600Z",
     "start_time": "2023-10-14T21:50:45.131411100Z"
    }
   },
   "id": "955d32fbcbd56fff"
  },
  {
   "cell_type": "code",
   "execution_count": 67,
   "outputs": [],
   "source": [
    "import numpy as np\n",
    "from sklearn.preprocessing import LabelEncoder\n",
    "\n",
    "\n",
    "for col in cat_var:\n",
    "    le = LabelEncoder()\n",
    "    \n",
    "    # Convert NaN to \"N/A\", assuming you want to treat it as a separate category\n",
    "    tr_tr_new[col] = tr_tr_new[col].fillna('N/A').astype(str)\n",
    "    te_tr_new[col] = te_tr_new[col].fillna('N/A').astype(str)\n",
    "    \n",
    "    # Fit on the training data\n",
    "    le.fit(tr_tr_new[col])\n",
    "    \n",
    "    # Create a mapping for unseen labels in test set\n",
    "    unseen_labels = set(te_tr_new[col]) - set(le.classes_)\n",
    "    \n",
    "    # If unseen labels exist, add them to the classes_\n",
    "    if unseen_labels:\n",
    "        new_classes = np.concatenate([le.classes_, np.array(list(unseen_labels))])\n",
    "        le.classes_ = new_classes\n",
    "    \n",
    "    # Transform the data\n",
    "    tr_tr_new[col] = le.transform(tr_tr_new[col])\n",
    "    te_tr_new[col] = le.transform(te_tr_new[col])\n"
   ],
   "metadata": {
    "collapsed": false,
    "ExecuteTime": {
     "end_time": "2023-10-14T21:50:57.973115500Z",
     "start_time": "2023-10-14T21:50:45.140774200Z"
    }
   },
   "id": "7ce6f243881a120a"
  },
  {
   "cell_type": "code",
   "execution_count": 68,
   "outputs": [
    {
     "data": {
      "text/plain": "D5            float64\nC10           float64\nC7            float64\nD9            float64\nC8            float64\n               ...   \nid_36           int32\nid_37           int32\nid_38           int32\nDeviceType      int32\nDeviceInfo      int32\nLength: 215, dtype: object"
     },
     "execution_count": 68,
     "metadata": {},
     "output_type": "execute_result"
    }
   ],
   "source": [
    "tr_tr_new.dtypes"
   ],
   "metadata": {
    "collapsed": false,
    "ExecuteTime": {
     "end_time": "2023-10-14T21:50:57.985589200Z",
     "start_time": "2023-10-14T21:50:57.974114500Z"
    }
   },
   "id": "7a12c653fae18f30"
  },
  {
   "cell_type": "code",
   "execution_count": 69,
   "outputs": [],
   "source": [
    "def optimize_dtypes(df):\n",
    "    for col in df.columns:\n",
    "        col_dtype = df[col].dtype\n",
    "        if col_dtype == 'float64':\n",
    "            df[col] = pd.to_numeric(df[col], downcast='float')\n",
    "        elif col_dtype == 'int64' or col_dtype == 'int32':\n",
    "            df[col] = pd.to_numeric(df[col], downcast='integer')\n",
    "    return df\n",
    "\n",
    "# Apply the optimization function on your datasets\n",
    "tr_tr_new = optimize_dtypes(tr_tr_new)\n",
    "te_tr_new = optimize_dtypes(te_tr_new)\n"
   ],
   "metadata": {
    "collapsed": false,
    "ExecuteTime": {
     "end_time": "2023-10-14T21:51:04.291569300Z",
     "start_time": "2023-10-14T21:50:57.981081700Z"
    }
   },
   "id": "61063fe6d79be04c"
  },
  {
   "cell_type": "code",
   "execution_count": 70,
   "outputs": [
    {
     "data": {
      "text/plain": "D5            float32\nC10           float32\nC7            float32\nD9            float32\nC8            float32\n               ...   \nid_36            int8\nid_37            int8\nid_38            int8\nDeviceType       int8\nDeviceInfo      int16\nLength: 215, dtype: object"
     },
     "execution_count": 70,
     "metadata": {},
     "output_type": "execute_result"
    }
   ],
   "source": [
    "tr_tr_new.dtypes"
   ],
   "metadata": {
    "collapsed": false,
    "ExecuteTime": {
     "end_time": "2023-10-14T21:51:04.297229100Z",
     "start_time": "2023-10-14T21:51:04.291569300Z"
    }
   },
   "id": "e8d82ffa8c994f37"
  },
  {
   "cell_type": "code",
   "execution_count": 71,
   "outputs": [],
   "source": [
    "non_categorical_vars = list(set(tr_tr_new.columns) - set(cat_var))"
   ],
   "metadata": {
    "collapsed": false,
    "ExecuteTime": {
     "end_time": "2023-10-14T21:51:04.309999300Z",
     "start_time": "2023-10-14T21:51:04.297229100Z"
    }
   },
   "id": "94ac9f555542b3ef"
  },
  {
   "cell_type": "code",
   "execution_count": 72,
   "outputs": [],
   "source": [
    "# one_hot_vars = ['ProductCD', 'M6', 'M7', 'M8', 'M4', 'M9', 'M1', 'M2', 'M5', 'M3', 'DeviceType', 'id_12',\n",
    "#                 'id_15','id_16', 'id_23', 'id_27', 'id_28', 'id_29', 'id_32', 'id_34','id_35', 'id_36', 'id_37', 'id_38']"
   ],
   "metadata": {
    "collapsed": false,
    "ExecuteTime": {
     "end_time": "2023-10-14T21:51:04.340377300Z",
     "start_time": "2023-10-14T21:51:04.311002400Z"
    }
   },
   "id": "4ec646640a1d4385"
  },
  {
   "cell_type": "code",
   "execution_count": 73,
   "outputs": [
    {
     "data": {
      "text/plain": "id_38\n1    369714\n0     95058\n2     41919\nName: count, dtype: int64"
     },
     "execution_count": 73,
     "metadata": {},
     "output_type": "execute_result"
    }
   ],
   "source": [
    "te_tr_new['id_38'].value_counts()"
   ],
   "metadata": {
    "collapsed": false,
    "ExecuteTime": {
     "end_time": "2023-10-14T21:51:04.352194100Z",
     "start_time": "2023-10-14T21:51:04.336183700Z"
    }
   },
   "id": "2639e6af1b7d2b60"
  },
  {
   "cell_type": "code",
   "execution_count": 74,
   "outputs": [],
   "source": [
    "# from sklearn.preprocessing import LabelEncoder\n",
    "# \n",
    "# target_encode_vars = list(set(cat_var) - set(one_hot_vars))\n",
    "# \n",
    "# # Perform label encoding on the specified variables\n",
    "# label_encoders = {}  # Store each encoder for potential use later\n",
    "# \n",
    "# for var in target_encode_vars:\n",
    "#     le = LabelEncoder()\n",
    "#     \n",
    "#     # Fit on combined data to ensure all categories are known (useful for unseen categories in the test set)\n",
    "#     combined_data = pd.concat([tr_tr_new[var], te_tr_new[var]], axis=0)\n",
    "#     le.fit(combined_data)\n",
    "#     \n",
    "#     tr_tr_new[var] = le.transform(tr_tr_new[var])\n",
    "#     te_tr_new[var] = le.transform(te_tr_new[var])\n",
    "#     \n",
    "#     label_encoders[var] = le"
   ],
   "metadata": {
    "collapsed": false,
    "ExecuteTime": {
     "end_time": "2023-10-14T21:51:04.356994600Z",
     "start_time": "2023-10-14T21:51:04.349192700Z"
    }
   },
   "id": "4462db8ace6ded00"
  },
  {
   "cell_type": "code",
   "execution_count": 75,
   "outputs": [],
   "source": [
    "# from sklearn.preprocessing import OneHotEncoder\n",
    "# \n",
    "# # 3) Define \"model\"\n",
    "# ohe = OneHotEncoder(sparse_output=False, drop='first', handle_unknown='ignore')\n",
    "# \n",
    "# # 4) Train \"model\" on the training dataset\n",
    "# ohe.fit(tr_tr_new[one_hot_vars])"
   ],
   "metadata": {
    "collapsed": false,
    "ExecuteTime": {
     "end_time": "2023-10-14T21:51:04.368080200Z",
     "start_time": "2023-10-14T21:51:04.356994600Z"
    }
   },
   "id": "8fba590ae4091813"
  },
  {
   "cell_type": "code",
   "execution_count": 76,
   "outputs": [],
   "source": [
    "# 5) \"Predict\" for both train and test datasets\n",
    "# tr_ohe = pd.DataFrame(ohe.transform(tr_tr_new[one_hot_vars]))"
   ],
   "metadata": {
    "collapsed": false,
    "ExecuteTime": {
     "end_time": "2023-10-14T21:51:04.379124600Z",
     "start_time": "2023-10-14T21:51:04.366073600Z"
    }
   },
   "id": "ab4a20e195e42f04"
  },
  {
   "cell_type": "code",
   "execution_count": 77,
   "outputs": [],
   "source": [
    "# tr_ohe.head()"
   ],
   "metadata": {
    "collapsed": false,
    "ExecuteTime": {
     "end_time": "2023-10-14T21:51:04.394256800Z",
     "start_time": "2023-10-14T21:51:04.377124400Z"
    }
   },
   "id": "747e4be74173aceb"
  },
  {
   "cell_type": "code",
   "execution_count": 78,
   "outputs": [],
   "source": [
    "# te_ohe = pd.DataFrame(ohe.transform(te_tr_new[one_hot_vars]))"
   ],
   "metadata": {
    "collapsed": false,
    "ExecuteTime": {
     "end_time": "2023-10-14T21:51:04.409808400Z",
     "start_time": "2023-10-14T21:51:04.387171700Z"
    }
   },
   "id": "4a32f8e3bd586dde"
  },
  {
   "cell_type": "code",
   "execution_count": 79,
   "outputs": [],
   "source": [
    "# # Optional: Name the columns\n",
    "# tr_ohe.columns = ohe.get_feature_names_out()\n",
    "# te_ohe.columns = ohe.get_feature_names_out()\n",
    "# \n",
    "# # Combine numerical and categorical for both train and test datasets\n",
    "# tr_tr_new = pd.concat((tr_tr_new[non_categorical_vars], tr_ohe), axis=1)\n",
    "# te_tr_new = pd.concat((te_tr_new[non_categorical_vars], te_ohe), axis=1)"
   ],
   "metadata": {
    "collapsed": false,
    "ExecuteTime": {
     "end_time": "2023-10-14T21:51:04.409808400Z",
     "start_time": "2023-10-14T21:51:04.396275900Z"
    }
   },
   "id": "69b40b103ed8f1f2"
  },
  {
   "cell_type": "code",
   "execution_count": 80,
   "outputs": [
    {
     "data": {
      "text/plain": "['./joblib/te_tr_encoded.joblib']"
     },
     "execution_count": 80,
     "metadata": {},
     "output_type": "execute_result"
    }
   ],
   "source": [
    "import joblib\n",
    "\n",
    "joblib.dump(tr_tr_new, './joblib/tr_tr_encoded.joblib')\n",
    "joblib.dump(te_tr_new, './joblib/te_tr_encoded.joblib')"
   ],
   "metadata": {
    "collapsed": false,
    "ExecuteTime": {
     "end_time": "2023-10-14T21:51:04.988712600Z",
     "start_time": "2023-10-14T21:51:04.408805100Z"
    }
   },
   "id": "7df88e55afeab470"
  },
  {
   "cell_type": "markdown",
   "source": [],
   "metadata": {
    "collapsed": false
   },
   "id": "b5bfc30b6fba6411"
  }
 ],
 "metadata": {
  "kernelspec": {
   "display_name": "Python 3",
   "language": "python",
   "name": "python3"
  },
  "language_info": {
   "codemirror_mode": {
    "name": "ipython",
    "version": 2
   },
   "file_extension": ".py",
   "mimetype": "text/x-python",
   "name": "python",
   "nbconvert_exporter": "python",
   "pygments_lexer": "ipython2",
   "version": "2.7.6"
  }
 },
 "nbformat": 4,
 "nbformat_minor": 5
}
