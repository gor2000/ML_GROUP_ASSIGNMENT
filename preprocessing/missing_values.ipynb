{
 "cells": [
  {
   "cell_type": "code",
   "execution_count": 111,
   "id": "initial_id",
   "metadata": {
    "collapsed": true,
    "ExecuteTime": {
     "end_time": "2023-10-14T21:51:59.155003500Z",
     "start_time": "2023-10-14T21:51:59.144057900Z"
    }
   },
   "outputs": [],
   "source": [
    "import pandas as pd\n",
    "import matplotlib.pyplot as plt\n",
    "import seaborn as sns\n",
    "import math\n",
    "import joblib"
   ]
  },
  {
   "cell_type": "code",
   "execution_count": 112,
   "outputs": [],
   "source": [
    "tr_tr_new = joblib.load('joblib/tr_tr_encoded.joblib')"
   ],
   "metadata": {
    "collapsed": false,
    "ExecuteTime": {
     "end_time": "2023-10-14T21:52:01.907200800Z",
     "start_time": "2023-10-14T21:52:01.658249800Z"
    }
   },
   "id": "4a49dbfc430beb43"
  },
  {
   "cell_type": "code",
   "execution_count": 113,
   "outputs": [],
   "source": [
    "te_tr_new = joblib.load('joblib/te_tr_encoded.joblib')"
   ],
   "metadata": {
    "collapsed": false,
    "ExecuteTime": {
     "end_time": "2023-10-14T21:52:04.745980900Z",
     "start_time": "2023-10-14T21:52:04.559349300Z"
    }
   },
   "id": "ce7dea385c080a42"
  },
  {
   "cell_type": "code",
   "execution_count": 114,
   "outputs": [
    {
     "name": "stdout",
     "output_type": "stream",
     "text": [
      "(590540, 215) (506691, 214)\n"
     ]
    }
   ],
   "source": [
    "print(tr_tr_new.shape, te_tr_new.shape)"
   ],
   "metadata": {
    "collapsed": false,
    "ExecuteTime": {
     "end_time": "2023-10-14T21:52:19.579394900Z",
     "start_time": "2023-10-14T21:52:19.571542Z"
    }
   },
   "id": "3abd138dc2706d31"
  },
  {
   "cell_type": "code",
   "execution_count": 115,
   "outputs": [
    {
     "data": {
      "text/plain": "['D5',\n 'D9',\n 'D8',\n 'dist1',\n 'D3',\n 'D12',\n 'D7',\n 'D15',\n 'D1',\n 'D11',\n 'D14',\n 'dist2',\n 'D10',\n 'D2',\n 'D13',\n 'D4',\n 'D6',\n 'V281',\n 'V283',\n 'V289',\n 'V296',\n 'V301',\n 'V314',\n 'V1',\n 'V3',\n 'V4',\n 'V6',\n 'V8',\n 'V11',\n 'V13',\n 'V14',\n 'V17',\n 'V20',\n 'V23',\n 'V26',\n 'V27',\n 'V30',\n 'V36',\n 'V37',\n 'V40',\n 'V41',\n 'V44',\n 'V47',\n 'V48',\n 'V54',\n 'V56',\n 'V59',\n 'V62',\n 'V65',\n 'V67',\n 'V68',\n 'V70',\n 'V76',\n 'V78',\n 'V80',\n 'V82',\n 'V86',\n 'V88',\n 'V89',\n 'V91',\n 'V96',\n 'V98',\n 'V99',\n 'V104',\n 'V107',\n 'V108',\n 'V109',\n 'V111',\n 'V115',\n 'V117',\n 'V120',\n 'V121',\n 'V123',\n 'V127',\n 'V129',\n 'V130',\n 'V136',\n 'V138',\n 'V139',\n 'V142',\n 'V147',\n 'V156',\n 'V162',\n 'V165',\n 'V160',\n 'V166',\n 'V178',\n 'V187',\n 'V173',\n 'V182',\n 'V199',\n 'V203',\n 'V205',\n 'V207',\n 'V215',\n 'V218',\n 'V223',\n 'V224',\n 'V226',\n 'V228',\n 'V229',\n 'V235',\n 'V237',\n 'V240',\n 'V258',\n 'V257',\n 'V253',\n 'V252',\n 'V260',\n 'V261',\n 'V264',\n 'V266',\n 'V267',\n 'V274',\n 'V277',\n 'V220',\n 'V221',\n 'V234',\n 'V238',\n 'V250',\n 'V271',\n 'V294',\n 'V284',\n 'V285',\n 'V286',\n 'V291',\n 'V297',\n 'V302',\n 'V303',\n 'V305',\n 'V307',\n 'V309',\n 'V310',\n 'V320',\n 'V332',\n 'V325',\n 'V335',\n 'V338',\n 'id_01',\n 'id_02',\n 'id_03',\n 'id_04',\n 'id_05',\n 'id_06',\n 'id_07',\n 'id_08',\n 'id_09',\n 'id_10',\n 'id_11']"
     },
     "execution_count": 115,
     "metadata": {},
     "output_type": "execute_result"
    }
   ],
   "source": [
    "tr_tr_new.columns[tr_tr_new.isnull().any()].tolist()"
   ],
   "metadata": {
    "collapsed": false,
    "ExecuteTime": {
     "end_time": "2023-10-14T21:52:23.624257800Z",
     "start_time": "2023-10-14T21:52:23.547018200Z"
    }
   },
   "id": "833530377188a99b"
  },
  {
   "cell_type": "code",
   "execution_count": 116,
   "outputs": [],
   "source": [
    "# Fill missing values with median for training data\n",
    "tr_tr_new.fillna(tr_tr_new.median(), inplace=True)\n",
    "\n",
    "# Fill missing values with median for testing data\n",
    "te_tr_new.fillna(tr_tr_new.median(), inplace=True)  # Note: Use training data median for test data to avoid data leakage\n"
   ],
   "metadata": {
    "collapsed": false,
    "ExecuteTime": {
     "end_time": "2023-10-14T21:52:28.004633800Z",
     "start_time": "2023-10-14T21:52:25.068448900Z"
    }
   },
   "id": "314d5a2b2788d31b"
  },
  {
   "cell_type": "code",
   "execution_count": 94,
   "outputs": [
    {
     "data": {
      "text/plain": "[]"
     },
     "execution_count": 94,
     "metadata": {},
     "output_type": "execute_result"
    }
   ],
   "source": [
    "tr_tr_new.columns[tr_tr_new.isnull().any()].tolist()"
   ],
   "metadata": {
    "collapsed": false,
    "ExecuteTime": {
     "end_time": "2023-10-14T21:40:12.960050100Z",
     "start_time": "2023-10-14T21:40:12.873663900Z"
    }
   },
   "id": "73238105308dc553"
  },
  {
   "cell_type": "code",
   "execution_count": 95,
   "outputs": [
    {
     "data": {
      "text/plain": "isFraud\n0    569877\n1     20663\nName: count, dtype: int64"
     },
     "execution_count": 95,
     "metadata": {},
     "output_type": "execute_result"
    }
   ],
   "source": [
    "tr_tr_new['isFraud'].value_counts()"
   ],
   "metadata": {
    "collapsed": false,
    "ExecuteTime": {
     "end_time": "2023-10-14T21:40:14.675086Z",
     "start_time": "2023-10-14T21:40:14.620671500Z"
    }
   },
   "id": "a97e81d36a137b81"
  }
 ],
 "metadata": {
  "kernelspec": {
   "display_name": "Python 3",
   "language": "python",
   "name": "python3"
  },
  "language_info": {
   "codemirror_mode": {
    "name": "ipython",
    "version": 2
   },
   "file_extension": ".py",
   "mimetype": "text/x-python",
   "name": "python",
   "nbconvert_exporter": "python",
   "pygments_lexer": "ipython2",
   "version": "2.7.6"
  }
 },
 "nbformat": 4,
 "nbformat_minor": 5
}
