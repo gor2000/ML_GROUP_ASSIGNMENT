{
 "cells": [
  {
   "cell_type": "code",
   "execution_count": 1,
   "outputs": [],
   "source": [
    "import lightgbm as lgb\n",
    "import joblib\n",
    "from sklearn.metrics import roc_auc_score\n",
    "from sklearn.model_selection import train_test_split\n"
   ],
   "metadata": {
    "collapsed": false,
    "ExecuteTime": {
     "end_time": "2023-10-19T14:20:56.371043100Z",
     "start_time": "2023-10-19T14:20:56.225816200Z"
    }
   },
   "id": "dca14a5dd5c7d4de"
  },
  {
   "cell_type": "code",
   "execution_count": 2,
   "outputs": [],
   "source": [
    "# Load the dataset\n",
    "tr_tr_new = joblib.load('../joblib/tr_tr_encoded.joblib')"
   ],
   "metadata": {
    "collapsed": false,
    "ExecuteTime": {
     "end_time": "2023-10-19T14:21:07.430721700Z",
     "start_time": "2023-10-19T14:21:07.258083900Z"
    }
   },
   "id": "af78a6945e241c10"
  },
  {
   "cell_type": "code",
   "execution_count": 3,
   "outputs": [],
   "source": [
    "te_tr_new = joblib.load('../joblib/te_tr_encoded.joblib')"
   ],
   "metadata": {
    "collapsed": false,
    "ExecuteTime": {
     "end_time": "2023-10-19T14:21:08.471849100Z",
     "start_time": "2023-10-19T14:21:08.316556700Z"
    }
   },
   "id": "d2a88328c24b406b"
  },
  {
   "cell_type": "code",
   "execution_count": 4,
   "outputs": [],
   "source": [
    "# Splitting the dataset into features and target\n",
    "X = tr_tr_new.drop(columns=['isFraud'])\n",
    "y = tr_tr_new['isFraud']\n",
    "\n",
    "X_train, X_valid, y_train, y_valid = train_test_split(X, y, test_size=0.2, random_state=42)"
   ],
   "metadata": {
    "collapsed": false,
    "ExecuteTime": {
     "end_time": "2023-10-19T14:21:10.773197700Z",
     "start_time": "2023-10-19T14:21:09.657558600Z"
    }
   },
   "id": "fb021bc1da334644"
  },
  {
   "cell_type": "code",
   "execution_count": 5,
   "outputs": [
    {
     "name": "stderr",
     "output_type": "stream",
     "text": [
      "J:\\IE\\SECOND TERM\\MLII\\venv\\Lib\\site-packages\\xgboost\\data.py:335: FutureWarning: is_sparse is deprecated and will be removed in a future version. Check `isinstance(dtype, pd.SparseDtype)` instead.\n",
      "  if is_sparse(dtype):\n",
      "J:\\IE\\SECOND TERM\\MLII\\venv\\Lib\\site-packages\\xgboost\\data.py:338: FutureWarning: is_categorical_dtype is deprecated and will be removed in a future version. Use isinstance(dtype, CategoricalDtype) instead\n",
      "  is_categorical_dtype(dtype) or is_pa_ext_categorical_dtype(dtype)\n",
      "J:\\IE\\SECOND TERM\\MLII\\venv\\Lib\\site-packages\\xgboost\\data.py:384: FutureWarning: is_categorical_dtype is deprecated and will be removed in a future version. Use isinstance(dtype, CategoricalDtype) instead\n",
      "  if is_categorical_dtype(dtype):\n",
      "J:\\IE\\SECOND TERM\\MLII\\venv\\Lib\\site-packages\\xgboost\\data.py:359: FutureWarning: is_categorical_dtype is deprecated and will be removed in a future version. Use isinstance(dtype, CategoricalDtype) instead\n",
      "  return is_int or is_bool or is_float or is_categorical_dtype(dtype)\n",
      "J:\\IE\\SECOND TERM\\MLII\\venv\\Lib\\site-packages\\xgboost\\core.py:160: UserWarning: [16:21:20] WARNING: C:\\buildkite-agent\\builds\\buildkite-windows-cpu-autoscaling-group-i-0cec3277c4d9d0165-1\\xgboost\\xgboost-ci-windows\\src\\common\\error_msg.cc:27: The tree method `gpu_hist` is deprecated since 2.0.0. To use GPU training, set the `device` parameter to CUDA instead.\n",
      "\n",
      "    E.g. tree_method = \"hist\", device = \"cuda\"\n",
      "\n",
      "  warnings.warn(smsg, UserWarning)\n",
      "J:\\IE\\SECOND TERM\\MLII\\venv\\Lib\\site-packages\\xgboost\\core.py:160: UserWarning: [16:21:20] WARNING: C:\\buildkite-agent\\builds\\buildkite-windows-cpu-autoscaling-group-i-0cec3277c4d9d0165-1\\xgboost\\xgboost-ci-windows\\src\\common\\error_msg.cc:58: Falling back to prediction using DMatrix due to mismatched devices. This might lead to higher memory usage and slower performance. XGBoost is running on: cuda:0, while the input data is on: cpu.\n",
      "Potential solutions:\n",
      "- Use a data structure that matches the device ordinal in the booster.\n",
      "- Set the device for booster before call to inplace_predict.\n",
      "\n",
      "This warning will only be shown once.\n",
      "\n",
      "  warnings.warn(smsg, UserWarning)\n"
     ]
    }
   ],
   "source": [
    "import numpy as np\n",
    "from sklearn.linear_model import LogisticRegression\n",
    "import pandas as pd\n",
    "\n",
    "# Assuming model_lgbm is your trained LightGBM model and model_xgb is your trained XGBoost model\n",
    "# And X_train, X_valid and y_train are your training and validation data\n",
    "\n",
    "# Get the predictions from both models for your training data\n",
    "model_lgbm = joblib.load('lightgbm_model[0.9534].joblib')\n",
    "train_preds_lgbm = model_lgbm.predict(X_train)\n",
    "model_xgb = joblib.load('../models_libjob/xgboost_model[0.9728].joblib')\n",
    "train_preds_xgb = model_xgb.predict_proba(X_train)[:, 1]"
   ],
   "metadata": {
    "collapsed": false,
    "ExecuteTime": {
     "end_time": "2023-10-19T14:22:13.184664100Z",
     "start_time": "2023-10-19T14:21:13.625640100Z"
    }
   },
   "id": "530dd2a08a865fe7"
  },
  {
   "cell_type": "code",
   "execution_count": 6,
   "outputs": [],
   "source": [
    "# Stack predictions together\n",
    "stacked_train_predictions = np.column_stack((train_preds_lgbm, train_preds_xgb))\n",
    "\n",
    "# Train a logistic regression model on the stacked predictions\n",
    "meta_model = LogisticRegression().fit(stacked_train_predictions, y_train)"
   ],
   "metadata": {
    "collapsed": false,
    "ExecuteTime": {
     "end_time": "2023-10-19T14:22:16.335467500Z",
     "start_time": "2023-10-19T14:22:15.986308500Z"
    }
   },
   "id": "79a3e9fe12c3fa8b"
  },
  {
   "cell_type": "code",
   "execution_count": 7,
   "outputs": [
    {
     "name": "stderr",
     "output_type": "stream",
     "text": [
      "J:\\IE\\SECOND TERM\\MLII\\venv\\Lib\\site-packages\\xgboost\\data.py:335: FutureWarning: is_sparse is deprecated and will be removed in a future version. Check `isinstance(dtype, pd.SparseDtype)` instead.\n",
      "  if is_sparse(dtype):\n",
      "J:\\IE\\SECOND TERM\\MLII\\venv\\Lib\\site-packages\\xgboost\\data.py:338: FutureWarning: is_categorical_dtype is deprecated and will be removed in a future version. Use isinstance(dtype, CategoricalDtype) instead\n",
      "  is_categorical_dtype(dtype) or is_pa_ext_categorical_dtype(dtype)\n",
      "J:\\IE\\SECOND TERM\\MLII\\venv\\Lib\\site-packages\\xgboost\\data.py:384: FutureWarning: is_categorical_dtype is deprecated and will be removed in a future version. Use isinstance(dtype, CategoricalDtype) instead\n",
      "  if is_categorical_dtype(dtype):\n",
      "J:\\IE\\SECOND TERM\\MLII\\venv\\Lib\\site-packages\\xgboost\\data.py:359: FutureWarning: is_categorical_dtype is deprecated and will be removed in a future version. Use isinstance(dtype, CategoricalDtype) instead\n",
      "  return is_int or is_bool or is_float or is_categorical_dtype(dtype)\n"
     ]
    }
   ],
   "source": [
    "# Get predictions for test set (te_tr_new) and stack them\n",
    "test_preds_lgbm = model_lgbm.predict(te_tr_new)\n",
    "test_preds_xgb = model_xgb.predict_proba(te_tr_new)[:, 1]\n",
    "stacked_test_predictions = np.column_stack((test_preds_lgbm, test_preds_xgb))"
   ],
   "metadata": {
    "collapsed": false,
    "ExecuteTime": {
     "end_time": "2023-10-19T14:23:19.590673200Z",
     "start_time": "2023-10-19T14:22:18.159094600Z"
    }
   },
   "id": "ba7c7917d5b14ebc"
  },
  {
   "cell_type": "code",
   "execution_count": 8,
   "outputs": [],
   "source": [
    "# Make final predictions using the meta model\n",
    "final_preds = meta_model.predict_proba(stacked_test_predictions)[:, 1]\n",
    "\n",
    "# Create the output DataFrame\n",
    "output_df = pd.DataFrame({\n",
    "    'TransactionID': te_tr_new.reset_index()['TransactionID'],\n",
    "    'isFraud': final_preds\n",
    "})\n",
    "\n",
    "# Save the DataFrame to a CSV file\n",
    "output_df.to_csv('stacked_predictions.csv', index=False)\n"
   ],
   "metadata": {
    "collapsed": false,
    "ExecuteTime": {
     "end_time": "2023-10-19T14:23:23.029376Z",
     "start_time": "2023-10-19T14:23:21.691348500Z"
    }
   },
   "id": "97c8ea71331ab201"
  }
 ],
 "metadata": {
  "kernelspec": {
   "display_name": "Python 3",
   "language": "python",
   "name": "python3"
  },
  "language_info": {
   "codemirror_mode": {
    "name": "ipython",
    "version": 2
   },
   "file_extension": ".py",
   "mimetype": "text/x-python",
   "name": "python",
   "nbconvert_exporter": "python",
   "pygments_lexer": "ipython2",
   "version": "2.7.6"
  }
 },
 "nbformat": 4,
 "nbformat_minor": 5
}
