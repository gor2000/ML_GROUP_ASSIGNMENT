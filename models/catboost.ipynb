{
 "cells": [
  {
   "cell_type": "code",
   "execution_count": null,
   "id": "initial_id",
   "metadata": {
    "collapsed": true
   },
   "outputs": [],
   "source": [
    "import pandas as pd\n",
    "import matplotlib.pyplot as plt\n",
    "import seaborn as sns\n",
    "import math\n",
    "import joblib"
   ]
  },
  {
   "cell_type": "code",
   "execution_count": null,
   "outputs": [],
   "source": [
    "tr_tr_new = joblib.load('joblib/tr_tr_encoded.joblib')"
   ],
   "metadata": {
    "collapsed": false
   },
   "id": "7ac4e3d45ce82fc7"
  },
  {
   "cell_type": "code",
   "execution_count": null,
   "outputs": [],
   "source": [
    "te_tr_new = joblib.load('joblib/te_tr_encoded.joblib')"
   ],
   "metadata": {
    "collapsed": false
   },
   "id": "2fdc807367293b87"
  },
  {
   "cell_type": "code",
   "execution_count": null,
   "outputs": [],
   "source": [
    "from sklearn.model_selection import train_test_split\n",
    "X = tr_tr_new.drop('isFraud', axis=1)\n",
    "y = tr_tr_new['isFraud']"
   ],
   "metadata": {
    "collapsed": false
   },
   "id": "b5a218791a1e9439"
  },
  {
   "cell_type": "code",
   "execution_count": null,
   "outputs": [],
   "source": [
    "import numpy as np\n",
    "# Import necessary libraries\n",
    "from catboost import CatBoostClassifier, Pool\n",
    "\n",
    "# Load your data (assuming you're using pandas and your data is in dataframe format)\n",
    "# import pandas as pd\n",
    "# train_data = pd.read_csv('path_to_train_data.csv')\n",
    "# test_data = pd.read_csv('path_to_test_data.csv')\n",
    "\n",
    "# For the sake of this example, let's assume you have `tr_tr_new` as your training data\n",
    "# and `te_tr_new` as your testing data, with 'target' as the target column.\n",
    "X_train = tr_tr_new.drop('target', axis=1)\n",
    "y_train = tr_tr_new['target']\n",
    "\n",
    "X_test = te_tr_new.drop('target', axis=1)\n",
    "y_test = te_tr_new['target']\n",
    "\n",
    "# Identify categorical features. CatBoost can handle them natively.\n",
    "categorical_features_indices = np.where(X_train.dtypes != np.float)[0]\n",
    "\n",
    "# Initialize CatBoostClassifier\n",
    "model = CatBoostClassifier(iterations=500, # or any other desired value\n",
    "                           learning_rate=0.05, # or any other desired value\n",
    "                           depth=7, # or any other desired value\n",
    "                           cat_features=categorical_features_indices,\n",
    "                           verbose=100) # set verbose to your desired value or remove for silent training\n",
    "\n",
    "# Train model\n",
    "model.fit(X_train, y_train)\n",
    "\n",
    "# Predict\n",
    "preds_class = model.predict(X_test)\n",
    "preds_proba = model.predict_proba(X_test)\n",
    "\n",
    "# Evaluate model (e.g., using accuracy for classification tasks)\n",
    "from sklearn.metrics import accuracy_score\n",
    "print(\"Accuracy:\", accuracy_score(y_test, preds_class))\n"
   ],
   "metadata": {
    "collapsed": false
   },
   "id": "22427209fe670076"
  }
 ],
 "metadata": {
  "kernelspec": {
   "display_name": "Python 3",
   "language": "python",
   "name": "python3"
  },
  "language_info": {
   "codemirror_mode": {
    "name": "ipython",
    "version": 2
   },
   "file_extension": ".py",
   "mimetype": "text/x-python",
   "name": "python",
   "nbconvert_exporter": "python",
   "pygments_lexer": "ipython2",
   "version": "2.7.6"
  }
 },
 "nbformat": 4,
 "nbformat_minor": 5
}
