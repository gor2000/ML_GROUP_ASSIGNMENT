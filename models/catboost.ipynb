{
 "cells": [
  {
   "cell_type": "code",
   "execution_count": 1,
   "id": "initial_id",
   "metadata": {
    "collapsed": true,
    "ExecuteTime": {
     "end_time": "2023-10-18T07:50:42.746794500Z",
     "start_time": "2023-10-18T07:50:42.671734600Z"
    }
   },
   "outputs": [],
   "source": [
    "import pandas as pd\n",
    "import matplotlib.pyplot as plt\n",
    "import seaborn as sns\n",
    "import math\n",
    "import joblib"
   ]
  },
  {
   "cell_type": "code",
   "execution_count": 2,
   "outputs": [],
   "source": [
    "tr_tr_new = joblib.load('../joblib/tr_tr_new.joblib')"
   ],
   "metadata": {
    "collapsed": false,
    "ExecuteTime": {
     "end_time": "2023-10-18T07:50:52.109670Z",
     "start_time": "2023-10-18T07:50:43.634964800Z"
    }
   },
   "id": "7ac4e3d45ce82fc7"
  },
  {
   "cell_type": "code",
   "execution_count": 3,
   "outputs": [],
   "source": [
    "te_tr_new = joblib.load('../joblib/te_tr_new.joblib')"
   ],
   "metadata": {
    "collapsed": false,
    "ExecuteTime": {
     "end_time": "2023-10-18T07:51:54.976545700Z",
     "start_time": "2023-10-18T07:51:50.160571200Z"
    }
   },
   "id": "2fdc807367293b87"
  },
  {
   "cell_type": "code",
   "execution_count": 4,
   "outputs": [],
   "source": [
    "import numpy as np\n",
    "from catboost import CatBoostClassifier, Pool"
   ],
   "metadata": {
    "collapsed": false,
    "ExecuteTime": {
     "end_time": "2023-10-18T07:51:58.427708200Z",
     "start_time": "2023-10-18T07:51:56.787478200Z"
    }
   },
   "id": "4ba0a55ff9fec0e6"
  },
  {
   "cell_type": "code",
   "execution_count": null,
   "outputs": [],
   "source": [
    "def optimize_dtypes(df):\n",
    "    for col in df.columns:\n",
    "        col_dtype = df[col].dtype\n",
    "        if col_dtype == 'float64':\n",
    "            df[col] = pd.to_numeric(df[col], downcast='float')\n",
    "        elif col_dtype == 'int64' or col_dtype == 'int32':\n",
    "            df[col] = pd.to_numeric(df[col], downcast='integer')\n",
    "    return df\n",
    "\n",
    "# Apply the optimization function on your datasets\n",
    "tr_tr_new = optimize_dtypes(tr_tr_new)\n",
    "te_tr_new = optimize_dtypes(te_tr_new)"
   ],
   "metadata": {
    "collapsed": false
   },
   "id": "ae46250c8b6defa7"
  },
  {
   "cell_type": "code",
   "execution_count": 5,
   "outputs": [],
   "source": [
    "# Identify categorical features. CatBoost can handle them natively.\n",
    "cat_var = ['ProductCD',\n",
    "           'card6', 'card2', 'card5', 'card1', 'card4', 'card3',\n",
    "           'addr2', 'addr1',\n",
    "           'P_emaildomain',\n",
    "           'R_emaildomain',\n",
    "           'M6', 'M7', 'M8', 'M4', 'M9', 'M1', 'M2', 'M5', 'M3',\n",
    "           'DeviceType',\n",
    "           'DeviceInfo',\n",
    "           'id_12', 'id_13', 'id_14', 'id_15', 'id_16', 'id_17', 'id_18', 'id_19',\n",
    "           'id_20', 'id_21', 'id_22', 'id_23', 'id_24', 'id_25', 'id_26', 'id_27',\n",
    "           'id_28', 'id_29', 'id_30', 'id_31', 'id_32', 'id_33', 'id_34', 'id_35',\n",
    "           'id_36', 'id_37', 'id_38']"
   ],
   "metadata": {
    "collapsed": false,
    "ExecuteTime": {
     "end_time": "2023-10-18T07:52:00.458730600Z",
     "start_time": "2023-10-18T07:52:00.443694400Z"
    }
   },
   "id": "9b4071a5aba1d1e3"
  },
  {
   "cell_type": "code",
   "execution_count": 6,
   "outputs": [],
   "source": [
    "te_tr_new.rename(columns=lambda col: col.replace('id-', 'id_'), inplace=True)"
   ],
   "metadata": {
    "collapsed": false,
    "ExecuteTime": {
     "end_time": "2023-10-18T07:52:03.527225500Z",
     "start_time": "2023-10-18T07:52:03.416942500Z"
    }
   },
   "id": "92e866cbc1619222"
  },
  {
   "cell_type": "code",
   "execution_count": 7,
   "outputs": [],
   "source": [
    "for col in cat_var:\n",
    "    tr_tr_new[col] = tr_tr_new[col].astype(str)\n",
    "    te_tr_new[col] = te_tr_new[col].astype(str)"
   ],
   "metadata": {
    "collapsed": false,
    "ExecuteTime": {
     "end_time": "2023-10-18T07:52:18.834454800Z",
     "start_time": "2023-10-18T07:52:06.229506Z"
    }
   },
   "id": "5e1fd34a88e04e33"
  },
  {
   "cell_type": "code",
   "execution_count": 8,
   "outputs": [],
   "source": [
    "from sklearn.model_selection import train_test_split\n",
    "X = tr_tr_new.drop('isFraud', axis=1)\n",
    "y = tr_tr_new['isFraud']"
   ],
   "metadata": {
    "collapsed": false,
    "ExecuteTime": {
     "end_time": "2023-10-18T07:52:21.060817100Z",
     "start_time": "2023-10-18T07:52:20.216952700Z"
    }
   },
   "id": "b5a218791a1e9439"
  },
  {
   "cell_type": "code",
   "execution_count": 9,
   "outputs": [
    {
     "name": "stdout",
     "output_type": "stream",
     "text": [
      "Training set size: 472432\n",
      "Validation set size: 59054\n",
      "Test set size: 59054\n"
     ]
    }
   ],
   "source": [
    "# Split the data into training and temp sets (80% train, 20% temp)\n",
    "X_train, X_temp, y_train, y_temp = train_test_split(X, y, test_size=0.2, random_state=42)\n",
    "\n",
    "# Split the temp data into validation and test sets (50% validation, 50% test)\n",
    "X_val, X_test, y_val, y_test = train_test_split(X_temp, y_temp, test_size=0.5, random_state=42)\n",
    "\n",
    "print(f\"Training set size: {len(X_train)}\")\n",
    "print(f\"Validation set size: {len(X_val)}\")\n",
    "print(f\"Test set size: {len(X_test)}\")"
   ],
   "metadata": {
    "collapsed": false,
    "ExecuteTime": {
     "end_time": "2023-10-18T07:52:25.812450200Z",
     "start_time": "2023-10-18T07:52:22.369704700Z"
    }
   },
   "id": "36224152b0b185b8"
  },
  {
   "cell_type": "code",
   "execution_count": 66,
   "outputs": [],
   "source": [
    "# Initialize CatBoostClassifier\n",
    "model = CatBoostClassifier(\n",
    "    iterations=500,\n",
    "    learning_rate=0.07,\n",
    "    depth=7,\n",
    "    cat_features=cat_var,\n",
    "    eval_metric='AUC',  # Changed metric to AUC\n",
    "    random_seed=42,\n",
    "    loss_function='Logloss',\n",
    "    metric_period=500,\n",
    "    task_type='GPU'\n",
    ")"
   ],
   "metadata": {
    "collapsed": false,
    "ExecuteTime": {
     "end_time": "2023-10-15T10:31:44.982237900Z",
     "start_time": "2023-10-15T10:31:44.968174400Z"
    }
   },
   "id": "dc4659daf665a40f"
  },
  {
   "cell_type": "code",
   "execution_count": 68,
   "outputs": [
    {
     "data": {
      "text/plain": "MetricVisualizer(layout=Layout(align_self='stretch', height='500px'))",
      "application/vnd.jupyter.widget-view+json": {
       "version_major": 2,
       "version_minor": 0,
       "model_id": "e3b2d059978d473cb0ac39b19824d39d"
      }
     },
     "metadata": {},
     "output_type": "display_data"
    },
    {
     "name": "stdout",
     "output_type": "stream",
     "text": [
      "0:\ttest: 0.7390227\tbest: 0.7390227 (0)\ttotal: 298ms\tremaining: 2m 28s\n",
      "499:\ttest: 0.9583119\tbest: 0.9583119 (499)\ttotal: 2m 3s\tremaining: 0us\n",
      "bestTest = 0.9583119154\n",
      "bestIteration = 499\n"
     ]
    },
    {
     "data": {
      "text/plain": "<catboost.core.CatBoostClassifier at 0x230ec449950>"
     },
     "execution_count": 68,
     "metadata": {},
     "output_type": "execute_result"
    }
   ],
   "source": [
    "import warnings\n",
    "\n",
    "warnings.filterwarnings('ignore')\n",
    "model.fit(\n",
    "    X_train, y_train,\n",
    "    cat_features=cat_var,\n",
    "    eval_set=(X_val, y_val),\n",
    "    logging_level='Verbose',  # Output to stdout\n",
    "    plot=True  # Plotting training and validation error (if you run this notebook locally)\n",
    ")"
   ],
   "metadata": {
    "collapsed": false,
    "ExecuteTime": {
     "end_time": "2023-10-15T10:34:16.284757300Z",
     "start_time": "2023-10-15T10:31:51.011737200Z"
    }
   },
   "id": "a2daa6c8727ff979"
  },
  {
   "cell_type": "code",
   "execution_count": 69,
   "outputs": [
    {
     "name": "stdout",
     "output_type": "stream",
     "text": [
      "AUC: 0.9628169734061687\n"
     ]
    }
   ],
   "source": [
    "from sklearn.metrics import roc_auc_score\n",
    "\n",
    "# Predict probabilities for the positive class\n",
    "preds_proba = model.predict_proba(X_test)[:, 1]\n",
    "\n",
    "# Evaluate model using AUC\n",
    "auc_score = roc_auc_score(y_test, preds_proba)\n",
    "print(\"AUC:\", auc_score)"
   ],
   "metadata": {
    "collapsed": false,
    "ExecuteTime": {
     "end_time": "2023-10-15T10:38:52.442578200Z",
     "start_time": "2023-10-15T10:38:51.046141200Z"
    }
   },
   "id": "22427209fe670076"
  },
  {
   "cell_type": "code",
   "execution_count": 72,
   "outputs": [],
   "source": [
    "pred_te_tr_new_p = model.predict_proba(te_tr_new)[:, 1]\n",
    "\n",
    "# Create the output DataFrame\n",
    "output_df = pd.DataFrame({\n",
    "    'TransactionID': te_tr_new.reset_index()['TransactionID'],\n",
    "    'isFraud': pred_te_tr_new_p\n",
    "})\n",
    "\n",
    "# Save the DataFrame to a CSV file\n",
    "output_df.to_csv('predicted_fraud_catboost.csv', index=False)\n"
   ],
   "metadata": {
    "collapsed": false,
    "ExecuteTime": {
     "end_time": "2023-10-15T10:41:51.788369700Z",
     "start_time": "2023-10-15T10:41:35.707255200Z"
    }
   },
   "id": "3afd10c2366738a3"
  },
  {
   "cell_type": "code",
   "execution_count": 74,
   "outputs": [
    {
     "data": {
      "text/plain": "['../models_libjob/cb[0.9316][0.9087].joblib']"
     },
     "execution_count": 74,
     "metadata": {},
     "output_type": "execute_result"
    }
   ],
   "source": [
    "joblib.dump(model, '../models_libjob/cb[0.9316][0.9087].joblib')"
   ],
   "metadata": {
    "collapsed": false,
    "ExecuteTime": {
     "end_time": "2023-10-15T10:47:30.960365500Z",
     "start_time": "2023-10-15T10:47:29.427474500Z"
    }
   },
   "id": "a2a7aa13831d7751"
  },
  {
   "cell_type": "code",
   "execution_count": 10,
   "outputs": [
    {
     "name": "stderr",
     "output_type": "stream",
     "text": [
      "Default metric period is 5 because AUC is/are not implemented for GPU\n",
      "Default metric period is 5 because AUC is/are not implemented for GPU\n",
      "Default metric period is 5 because AUC is/are not implemented for GPU\n",
      "Default metric period is 5 because AUC is/are not implemented for GPU\n",
      "Default metric period is 5 because AUC is/are not implemented for GPU\n"
     ]
    },
    {
     "name": "stdout",
     "output_type": "stream",
     "text": [
      "   iterations  learning_rate  depth loss_function  metric_period  mean_auc\n",
      "0        2000           0.07      7       Logloss            500  0.970661\n"
     ]
    }
   ],
   "source": [
    "import pandas as pd\n",
    "from catboost import CatBoostClassifier\n",
    "from sklearn.model_selection import KFold\n",
    "from sklearn.metrics import roc_auc_score\n",
    "import itertools\n",
    "\n",
    "params_grid = {\n",
    "    'iterations': [2000],\n",
    "    'learning_rate': [0.07],\n",
    "    'depth': [7],\n",
    "    'loss_function': ['Logloss'],\n",
    "    'metric_period': [500]\n",
    "}\n",
    "\n",
    "# Convert all categorical features to string type\n",
    "for col in cat_var:\n",
    "    X[col] = X[col].astype(str)\n",
    "\n",
    "# Initialize a DataFrame to store results\n",
    "cv_results = pd.DataFrame(columns=['iterations', 'learning_rate', 'depth','loss_function', 'metric_period','mean_auc'])\n",
    "\n",
    "kf = KFold(n_splits=5, shuffle=True, random_state=42)\n",
    "num_iter = 0\n",
    "\n",
    "for params in itertools.product(*params_grid.values()):\n",
    "    # Unpack the current parameter set\n",
    "    iterations, learning_rate, depth, loss_function, metric_period = params\n",
    "    \n",
    "    aucs = []\n",
    "    for train_index, val_index in kf.split(X):\n",
    "        X_train_fold, X_val_fold = X.iloc[train_index], X.iloc[val_index]\n",
    "        y_train_fold, y_val_fold = y.iloc[train_index], y.iloc[val_index]\n",
    "        \n",
    "        model = CatBoostClassifier(\n",
    "            iterations=iterations,\n",
    "            learning_rate=learning_rate,\n",
    "            depth=depth,\n",
    "            eval_metric='AUC',\n",
    "            task_type='GPU',\n",
    "            cat_features=cat_var,\n",
    "            random_seed=42,\n",
    "            verbose=True\n",
    "        )\n",
    "        \n",
    "        model.fit(X_train_fold, y_train_fold)\n",
    "        preds_proba = model.predict_proba(X_val_fold)[:, 1]\n",
    "        fold_auc = roc_auc_score(y_val_fold, preds_proba)\n",
    "        aucs.append(fold_auc)\n",
    "    \n",
    "    mean_auc = sum(aucs) / len(aucs)\n",
    "    cv_results.loc[num_iter] = [iterations, learning_rate, depth, loss_function, metric_period, mean_auc]\n",
    "    num_iter += 1\n",
    "\n",
    "print(cv_results)\n"
   ],
   "metadata": {
    "collapsed": false,
    "ExecuteTime": {
     "end_time": "2023-10-18T08:39:27.664459100Z",
     "start_time": "2023-10-18T07:53:21.735079900Z"
    }
   },
   "id": "7034e03b9ff2287a"
  },
  {
   "cell_type": "code",
   "execution_count": 11,
   "outputs": [
    {
     "name": "stdout",
     "output_type": "stream",
     "text": [
      "iterations           2000\n",
      "learning_rate        0.07\n",
      "depth                   7\n",
      "loss_function     Logloss\n",
      "metric_period         500\n",
      "mean_auc         0.970661\n",
      "Name: 0, dtype: object\n"
     ]
    }
   ],
   "source": [
    "best_params = cv_results.sort_values(by='mean_auc', ascending=False).iloc[0]\n",
    "\n",
    "print(best_params)"
   ],
   "metadata": {
    "collapsed": false,
    "ExecuteTime": {
     "end_time": "2023-10-18T08:47:45.038009800Z",
     "start_time": "2023-10-18T08:47:45.004993200Z"
    }
   },
   "id": "bb0f37851466eee0"
  },
  {
   "cell_type": "code",
   "execution_count": 12,
   "outputs": [
    {
     "data": {
      "text/plain": "7"
     },
     "execution_count": 12,
     "metadata": {},
     "output_type": "execute_result"
    }
   ],
   "source": [
    "best_params['depth']"
   ],
   "metadata": {
    "collapsed": false,
    "ExecuteTime": {
     "end_time": "2023-10-18T08:47:49.227380900Z",
     "start_time": "2023-10-18T08:47:49.217879100Z"
    }
   },
   "id": "1383748df9a08ef5"
  },
  {
   "cell_type": "code",
   "execution_count": 13,
   "outputs": [],
   "source": [
    "best_model = CatBoostClassifier(\n",
    "    iterations=int(best_params['iterations']),\n",
    "    learning_rate=float(best_params['learning_rate']),\n",
    "    depth=int(best_params['depth']),\n",
    "    cat_features=cat_var,\n",
    "    eval_metric='AUC',  # Changed metric to AUC\n",
    "    random_seed=42,\n",
    "    loss_function=best_params['loss_function'],\n",
    "    metric_period=int(best_params['metric_period']),\n",
    "    task_type='GPU'\n",
    ")"
   ],
   "metadata": {
    "collapsed": false,
    "ExecuteTime": {
     "end_time": "2023-10-18T08:48:24.047036Z",
     "start_time": "2023-10-18T08:48:24.034513300Z"
    }
   },
   "id": "d07827f8ee94ed4"
  },
  {
   "cell_type": "code",
   "execution_count": 14,
   "outputs": [
    {
     "data": {
      "text/plain": "MetricVisualizer(layout=Layout(align_self='stretch', height='500px'))",
      "application/vnd.jupyter.widget-view+json": {
       "version_major": 2,
       "version_minor": 0,
       "model_id": "9f0d1c5ce4fe4a6db7c5e050bf7f19ae"
      }
     },
     "metadata": {},
     "output_type": "display_data"
    },
    {
     "name": "stdout",
     "output_type": "stream",
     "text": [
      "0:\ttest: 0.7390227\tbest: 0.7390227 (0)\ttotal: 370ms\tremaining: 12m 19s\n",
      "500:\ttest: 0.9589244\tbest: 0.9589244 (500)\ttotal: 2m 13s\tremaining: 6m 38s\n",
      "1000:\ttest: 0.9638178\tbest: 0.9638178 (1000)\ttotal: 4m 26s\tremaining: 4m 26s\n",
      "1500:\ttest: 0.9658615\tbest: 0.9658615 (1500)\ttotal: 6m 38s\tremaining: 2m 12s\n",
      "1999:\ttest: 0.9676477\tbest: 0.9676477 (1999)\ttotal: 8m 48s\tremaining: 0us\n",
      "bestTest = 0.9676477313\n",
      "bestIteration = 1999\n"
     ]
    },
    {
     "data": {
      "text/plain": "<catboost.core.CatBoostClassifier at 0x23d9ffe8210>"
     },
     "execution_count": 14,
     "metadata": {},
     "output_type": "execute_result"
    }
   ],
   "source": [
    "best_model.fit(\n",
    "    X_train, y_train,\n",
    "    cat_features=cat_var,\n",
    "    eval_set=(X_val, y_val),\n",
    "    logging_level='Verbose',  # Output to stdout\n",
    "    plot=True  # Plotting training and validation error (if you run this notebook locally)\n",
    ")"
   ],
   "metadata": {
    "collapsed": false,
    "ExecuteTime": {
     "end_time": "2023-10-18T08:57:54.056258100Z",
     "start_time": "2023-10-18T08:48:35.820265500Z"
    }
   },
   "id": "77e912534c8f9cf5"
  },
  {
   "cell_type": "code",
   "execution_count": 17,
   "outputs": [
    {
     "data": {
      "text/plain": "['../models_libjob/cb[0.9727].joblib']"
     },
     "execution_count": 17,
     "metadata": {},
     "output_type": "execute_result"
    }
   ],
   "source": [
    "joblib.dump(best_model, '../models_libjob/cb[0.9727].joblib')"
   ],
   "metadata": {
    "collapsed": false,
    "ExecuteTime": {
     "end_time": "2023-10-18T09:05:00.112806100Z",
     "start_time": "2023-10-18T09:04:57.333032200Z"
    }
   },
   "id": "a1e0bc0b5d68f2ee"
  },
  {
   "cell_type": "code",
   "execution_count": 18,
   "outputs": [
    {
     "name": "stdout",
     "output_type": "stream",
     "text": [
      "Metric train = 0.9841 - Metric val = 0.9891 - Metric test = 0.9900\n"
     ]
    }
   ],
   "source": [
    "pred_train_p = model.predict_proba(X_train)\n",
    "pred_val_p = model.predict_proba(X_val)\n",
    "pred_test_p = model.predict_proba(X_test)\n",
    "# Calcular métricas de evaluación\n",
    "auc_train = roc_auc_score(y_train, pred_train_p[:,1])\n",
    "auc_val = roc_auc_score(y_val, pred_val_p[:,1])\n",
    "auc_test = roc_auc_score(y_test, pred_test_p[:,1])\n",
    "# print error\n",
    "print('Metric train = %.4f - Metric val = %.4f - Metric test = %.4f'\n",
    "      % (auc_train, auc_val, auc_test))"
   ],
   "metadata": {
    "collapsed": false,
    "ExecuteTime": {
     "end_time": "2023-10-18T09:05:27.547054900Z",
     "start_time": "2023-10-18T09:05:11.006864700Z"
    }
   },
   "id": "29b20558d95e8a44"
  },
  {
   "cell_type": "code",
   "execution_count": null,
   "outputs": [],
   "source": [
    "joblib.dump(best_model, '../models_libjob/cb[0.9900].joblib')"
   ],
   "metadata": {
    "collapsed": false
   },
   "id": "9bd7c67012bb5596"
  },
  {
   "cell_type": "code",
   "execution_count": 20,
   "outputs": [],
   "source": [
    "pred_te_tr_new_p = model.predict_proba(te_tr_new)[:, 1]\n",
    "\n",
    "# Create the output DataFrame\n",
    "output_df = pd.DataFrame({\n",
    "    'TransactionID': te_tr_new.reset_index()['TransactionID'],\n",
    "    'isFraud': pred_te_tr_new_p\n",
    "})\n",
    "\n",
    "# Save the DataFrame to a CSV file\n",
    "output_df.to_csv('predicted_fraud_catboost[5].csv', index=False)\n"
   ],
   "metadata": {
    "collapsed": false,
    "ExecuteTime": {
     "end_time": "2023-10-18T09:07:36.927792800Z",
     "start_time": "2023-10-18T09:07:18.846218800Z"
    }
   },
   "id": "e3ef20360f859b8f"
  },
  {
   "cell_type": "code",
   "execution_count": null,
   "outputs": [],
   "source": [
    "joblib.dump(best_model, '../models_libjob/cb[0.9316][0.9087].joblib')"
   ],
   "metadata": {
    "collapsed": false
   },
   "id": "440b5d6fed9723bd"
  }
 ],
 "metadata": {
  "kernelspec": {
   "display_name": "Python 3",
   "language": "python",
   "name": "python3"
  },
  "language_info": {
   "codemirror_mode": {
    "name": "ipython",
    "version": 2
   },
   "file_extension": ".py",
   "mimetype": "text/x-python",
   "name": "python",
   "nbconvert_exporter": "python",
   "pygments_lexer": "ipython2",
   "version": "2.7.6"
  }
 },
 "nbformat": 4,
 "nbformat_minor": 5
}
