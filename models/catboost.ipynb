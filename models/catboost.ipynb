{
 "cells": [
  {
   "cell_type": "code",
   "execution_count": 94,
   "id": "initial_id",
   "metadata": {
    "collapsed": true,
    "ExecuteTime": {
     "end_time": "2023-10-15T11:40:58.545922200Z",
     "start_time": "2023-10-15T11:40:58.531891300Z"
    }
   },
   "outputs": [],
   "source": [
    "import pandas as pd\n",
    "import matplotlib.pyplot as plt\n",
    "import seaborn as sns\n",
    "import math\n",
    "import joblib"
   ]
  },
  {
   "cell_type": "code",
   "execution_count": 95,
   "outputs": [],
   "source": [
    "tr_tr_new = joblib.load('../joblib/tr_tr_new.joblib')"
   ],
   "metadata": {
    "collapsed": false,
    "ExecuteTime": {
     "end_time": "2023-10-15T11:41:04.704585200Z",
     "start_time": "2023-10-15T11:41:01.661673700Z"
    }
   },
   "id": "7ac4e3d45ce82fc7"
  },
  {
   "cell_type": "code",
   "execution_count": 96,
   "outputs": [],
   "source": [
    "te_tr_new = joblib.load('../joblib/te_tr_new.joblib')"
   ],
   "metadata": {
    "collapsed": false,
    "ExecuteTime": {
     "end_time": "2023-10-15T11:41:06.449445900Z",
     "start_time": "2023-10-15T11:41:04.655059200Z"
    }
   },
   "id": "2fdc807367293b87"
  },
  {
   "cell_type": "code",
   "execution_count": 97,
   "outputs": [],
   "source": [
    "import numpy as np\n",
    "from catboost import CatBoostClassifier, Pool"
   ],
   "metadata": {
    "collapsed": false,
    "ExecuteTime": {
     "end_time": "2023-10-15T11:41:06.449445900Z",
     "start_time": "2023-10-15T11:41:06.409289500Z"
    }
   },
   "id": "4ba0a55ff9fec0e6"
  },
  {
   "cell_type": "code",
   "execution_count": 98,
   "outputs": [],
   "source": [
    "# Identify categorical features. CatBoost can handle them natively.\n",
    "cat_var = ['ProductCD',\n",
    "           'card6', 'card2', 'card5', 'card1', 'card4', 'card3',\n",
    "           'addr2', 'addr1',\n",
    "           'P_emaildomain',\n",
    "           'R_emaildomain',\n",
    "           'M6', 'M7', 'M8', 'M4', 'M9', 'M1', 'M2', 'M5', 'M3',\n",
    "           'DeviceType',\n",
    "           'DeviceInfo',\n",
    "           'id_12', 'id_13', 'id_14', 'id_15', 'id_16', 'id_17', 'id_18', 'id_19',\n",
    "           'id_20', 'id_21', 'id_22', 'id_23', 'id_24', 'id_25', 'id_26', 'id_27',\n",
    "           'id_28', 'id_29', 'id_30', 'id_31', 'id_32', 'id_33', 'id_34', 'id_35',\n",
    "           'id_36', 'id_37', 'id_38']"
   ],
   "metadata": {
    "collapsed": false,
    "ExecuteTime": {
     "end_time": "2023-10-15T11:41:09.316878800Z",
     "start_time": "2023-10-15T11:41:09.261740600Z"
    }
   },
   "id": "9b4071a5aba1d1e3"
  },
  {
   "cell_type": "code",
   "execution_count": 99,
   "outputs": [],
   "source": [
    "te_tr_new.rename(columns=lambda col: col.replace('id-', 'id_'), inplace=True)"
   ],
   "metadata": {
    "collapsed": false,
    "ExecuteTime": {
     "end_time": "2023-10-15T11:41:11.973432200Z",
     "start_time": "2023-10-15T11:41:11.923656400Z"
    }
   },
   "id": "92e866cbc1619222"
  },
  {
   "cell_type": "code",
   "execution_count": 100,
   "outputs": [],
   "source": [
    "for col in cat_var:\n",
    "    tr_tr_new[col] = tr_tr_new[col].astype(str)\n",
    "    te_tr_new[col] = te_tr_new[col].astype(str)"
   ],
   "metadata": {
    "collapsed": false,
    "ExecuteTime": {
     "end_time": "2023-10-15T11:41:26.156993300Z",
     "start_time": "2023-10-15T11:41:15.037305300Z"
    }
   },
   "id": "5e1fd34a88e04e33"
  },
  {
   "cell_type": "code",
   "execution_count": 101,
   "outputs": [],
   "source": [
    "from sklearn.model_selection import train_test_split\n",
    "X = tr_tr_new.drop('isFraud', axis=1)\n",
    "y = tr_tr_new['isFraud']"
   ],
   "metadata": {
    "collapsed": false,
    "ExecuteTime": {
     "end_time": "2023-10-15T11:41:29.272664600Z",
     "start_time": "2023-10-15T11:41:28.505808500Z"
    }
   },
   "id": "b5a218791a1e9439"
  },
  {
   "cell_type": "code",
   "execution_count": 102,
   "outputs": [
    {
     "name": "stdout",
     "output_type": "stream",
     "text": [
      "Training set size: 472432\n",
      "Validation set size: 59054\n",
      "Test set size: 59054\n"
     ]
    }
   ],
   "source": [
    "# Split the data into training and temp sets (80% train, 20% temp)\n",
    "X_train, X_temp, y_train, y_temp = train_test_split(X, y, test_size=0.2, random_state=42)\n",
    "\n",
    "# Split the temp data into validation and test sets (50% validation, 50% test)\n",
    "X_val, X_test, y_val, y_test = train_test_split(X_temp, y_temp, test_size=0.5, random_state=42)\n",
    "\n",
    "print(f\"Training set size: {len(X_train)}\")\n",
    "print(f\"Validation set size: {len(X_val)}\")\n",
    "print(f\"Test set size: {len(X_test)}\")"
   ],
   "metadata": {
    "collapsed": false,
    "ExecuteTime": {
     "end_time": "2023-10-15T11:41:35.121731600Z",
     "start_time": "2023-10-15T11:41:31.763994Z"
    }
   },
   "id": "36224152b0b185b8"
  },
  {
   "cell_type": "code",
   "execution_count": 66,
   "outputs": [],
   "source": [
    "# Initialize CatBoostClassifier\n",
    "model = CatBoostClassifier(\n",
    "    iterations=500,\n",
    "    learning_rate=0.07,\n",
    "    depth=7,\n",
    "    cat_features=cat_var,\n",
    "    eval_metric='AUC',  # Changed metric to AUC\n",
    "    random_seed=42,\n",
    "    loss_function='Logloss',\n",
    "    metric_period=500,\n",
    "    task_type='GPU'\n",
    ")"
   ],
   "metadata": {
    "collapsed": false,
    "ExecuteTime": {
     "end_time": "2023-10-15T10:31:44.982237900Z",
     "start_time": "2023-10-15T10:31:44.968174400Z"
    }
   },
   "id": "dc4659daf665a40f"
  },
  {
   "cell_type": "code",
   "execution_count": 68,
   "outputs": [
    {
     "data": {
      "text/plain": "MetricVisualizer(layout=Layout(align_self='stretch', height='500px'))",
      "application/vnd.jupyter.widget-view+json": {
       "version_major": 2,
       "version_minor": 0,
       "model_id": "e3b2d059978d473cb0ac39b19824d39d"
      }
     },
     "metadata": {},
     "output_type": "display_data"
    },
    {
     "name": "stdout",
     "output_type": "stream",
     "text": [
      "0:\ttest: 0.7390227\tbest: 0.7390227 (0)\ttotal: 298ms\tremaining: 2m 28s\n",
      "499:\ttest: 0.9583119\tbest: 0.9583119 (499)\ttotal: 2m 3s\tremaining: 0us\n",
      "bestTest = 0.9583119154\n",
      "bestIteration = 499\n"
     ]
    },
    {
     "data": {
      "text/plain": "<catboost.core.CatBoostClassifier at 0x230ec449950>"
     },
     "execution_count": 68,
     "metadata": {},
     "output_type": "execute_result"
    }
   ],
   "source": [
    "import warnings\n",
    "\n",
    "warnings.filterwarnings('ignore')\n",
    "model.fit(\n",
    "    X_train, y_train,\n",
    "    cat_features=cat_var,\n",
    "    eval_set=(X_val, y_val),\n",
    "    logging_level='Verbose',  # Output to stdout\n",
    "    plot=True  # Plotting training and validation error (if you run this notebook locally)\n",
    ")"
   ],
   "metadata": {
    "collapsed": false,
    "ExecuteTime": {
     "end_time": "2023-10-15T10:34:16.284757300Z",
     "start_time": "2023-10-15T10:31:51.011737200Z"
    }
   },
   "id": "a2daa6c8727ff979"
  },
  {
   "cell_type": "code",
   "execution_count": 69,
   "outputs": [
    {
     "name": "stdout",
     "output_type": "stream",
     "text": [
      "AUC: 0.9628169734061687\n"
     ]
    }
   ],
   "source": [
    "from sklearn.metrics import roc_auc_score\n",
    "\n",
    "# Predict probabilities for the positive class\n",
    "preds_proba = model.predict_proba(X_test)[:, 1]\n",
    "\n",
    "# Evaluate model using AUC\n",
    "auc_score = roc_auc_score(y_test, preds_proba)\n",
    "print(\"AUC:\", auc_score)"
   ],
   "metadata": {
    "collapsed": false,
    "ExecuteTime": {
     "end_time": "2023-10-15T10:38:52.442578200Z",
     "start_time": "2023-10-15T10:38:51.046141200Z"
    }
   },
   "id": "22427209fe670076"
  },
  {
   "cell_type": "code",
   "execution_count": 72,
   "outputs": [],
   "source": [
    "pred_te_tr_new_p = model.predict_proba(te_tr_new)[:, 1]\n",
    "\n",
    "# Create the output DataFrame\n",
    "output_df = pd.DataFrame({\n",
    "    'TransactionID': te_tr_new.reset_index()['TransactionID'],\n",
    "    'isFraud': pred_te_tr_new_p\n",
    "})\n",
    "\n",
    "# Save the DataFrame to a CSV file\n",
    "output_df.to_csv('predicted_fraud_catboost.csv', index=False)\n"
   ],
   "metadata": {
    "collapsed": false,
    "ExecuteTime": {
     "end_time": "2023-10-15T10:41:51.788369700Z",
     "start_time": "2023-10-15T10:41:35.707255200Z"
    }
   },
   "id": "3afd10c2366738a3"
  },
  {
   "cell_type": "code",
   "execution_count": 74,
   "outputs": [
    {
     "data": {
      "text/plain": "['../models_libjob/cb[0.9316][0.9087].joblib']"
     },
     "execution_count": 74,
     "metadata": {},
     "output_type": "execute_result"
    }
   ],
   "source": [
    "joblib.dump(model, '../models_libjob/cb[0.9316][0.9087].joblib')"
   ],
   "metadata": {
    "collapsed": false,
    "ExecuteTime": {
     "end_time": "2023-10-15T10:47:30.960365500Z",
     "start_time": "2023-10-15T10:47:29.427474500Z"
    }
   },
   "id": "a2a7aa13831d7751"
  },
  {
   "cell_type": "code",
   "execution_count": 116,
   "outputs": [
    {
     "name": "stderr",
     "output_type": "stream",
     "text": [
      "Default metric period is 5 because AUC is/are not implemented for GPU\n",
      "Default metric period is 5 because AUC is/are not implemented for GPU\n",
      "Default metric period is 5 because AUC is/are not implemented for GPU\n",
      "Default metric period is 5 because AUC is/are not implemented for GPU\n",
      "Default metric period is 5 because AUC is/are not implemented for GPU\n",
      "Default metric period is 5 because AUC is/are not implemented for GPU\n",
      "Default metric period is 5 because AUC is/are not implemented for GPU\n",
      "Default metric period is 5 because AUC is/are not implemented for GPU\n",
      "Default metric period is 5 because AUC is/are not implemented for GPU\n",
      "Default metric period is 5 because AUC is/are not implemented for GPU\n"
     ]
    },
    {
     "name": "stdout",
     "output_type": "stream",
     "text": [
      "   iterations  learning_rate  depth loss_function  metric_period  mean_auc\n",
      "0        5000           0.07      7       Logloss            500  0.975606\n",
      "1        5000           0.07      8       Logloss            500  0.976749\n"
     ]
    }
   ],
   "source": [
    "import pandas as pd\n",
    "from catboost import CatBoostClassifier\n",
    "from sklearn.model_selection import KFold\n",
    "from sklearn.metrics import roc_auc_score\n",
    "import itertools\n",
    "\n",
    "params_grid = {\n",
    "    'iterations': [5000],\n",
    "    'learning_rate': [0.07],\n",
    "    'depth': [7,8],\n",
    "    'loss_function': ['Logloss'],\n",
    "    'metric_period': [500]\n",
    "}\n",
    "\n",
    "# Convert all categorical features to string type\n",
    "for col in cat_var:\n",
    "    X[col] = X[col].astype(str)\n",
    "\n",
    "# Initialize a DataFrame to store results\n",
    "cv_results = pd.DataFrame(columns=['iterations', 'learning_rate', 'depth','loss_function', 'metric_period','mean_auc'])\n",
    "\n",
    "kf = KFold(n_splits=5, shuffle=True, random_state=42)\n",
    "num_iter = 0\n",
    "\n",
    "for params in itertools.product(*params_grid.values()):\n",
    "    # Unpack the current parameter set\n",
    "    iterations, learning_rate, depth, loss_function, metric_period = params\n",
    "    \n",
    "    aucs = []\n",
    "    for train_index, val_index in kf.split(X):\n",
    "        X_train_fold, X_val_fold = X.iloc[train_index], X.iloc[val_index]\n",
    "        y_train_fold, y_val_fold = y.iloc[train_index], y.iloc[val_index]\n",
    "        \n",
    "        model = CatBoostClassifier(\n",
    "            iterations=iterations,\n",
    "            learning_rate=learning_rate,\n",
    "            depth=depth,\n",
    "            eval_metric='AUC',\n",
    "            task_type='GPU',\n",
    "            cat_features=cat_var,\n",
    "            random_seed=42,\n",
    "            verbose=0\n",
    "        )\n",
    "        \n",
    "        model.fit(X_train_fold, y_train_fold)\n",
    "        preds_proba = model.predict_proba(X_val_fold)[:, 1]\n",
    "        fold_auc = roc_auc_score(y_val_fold, preds_proba)\n",
    "        aucs.append(fold_auc)\n",
    "    \n",
    "    mean_auc = sum(aucs) / len(aucs)\n",
    "    cv_results.loc[num_iter] = [iterations, learning_rate, depth, loss_function, metric_period, mean_auc]\n",
    "    num_iter += 1\n",
    "\n",
    "print(cv_results)\n"
   ],
   "metadata": {
    "collapsed": false,
    "ExecuteTime": {
     "end_time": "2023-10-15T16:50:43.369154800Z",
     "start_time": "2023-10-15T13:06:29.109714600Z"
    }
   },
   "id": "7034e03b9ff2287a"
  },
  {
   "cell_type": "code",
   "execution_count": 117,
   "outputs": [
    {
     "name": "stdout",
     "output_type": "stream",
     "text": [
      "iterations           5000\n",
      "learning_rate        0.07\n",
      "depth                   8\n",
      "loss_function     Logloss\n",
      "metric_period         500\n",
      "mean_auc         0.976749\n",
      "Name: 1, dtype: object\n"
     ]
    }
   ],
   "source": [
    "best_params = cv_results.sort_values(by='mean_auc', ascending=False).iloc[0]\n",
    "\n",
    "print(best_params)"
   ],
   "metadata": {
    "collapsed": false,
    "ExecuteTime": {
     "end_time": "2023-10-15T21:33:55.741428500Z",
     "start_time": "2023-10-15T21:33:55.725021700Z"
    }
   },
   "id": "bb0f37851466eee0"
  },
  {
   "cell_type": "code",
   "execution_count": 110,
   "outputs": [
    {
     "data": {
      "text/plain": "8"
     },
     "execution_count": 110,
     "metadata": {},
     "output_type": "execute_result"
    }
   ],
   "source": [
    "best_params['depth']"
   ],
   "metadata": {
    "collapsed": false,
    "ExecuteTime": {
     "end_time": "2023-10-15T13:00:20.529505300Z",
     "start_time": "2023-10-15T13:00:20.494754400Z"
    }
   },
   "id": "1383748df9a08ef5"
  },
  {
   "cell_type": "code",
   "execution_count": 118,
   "outputs": [],
   "source": [
    "best_model = CatBoostClassifier(\n",
    "    iterations=int(best_params['iterations']),\n",
    "    learning_rate=float(best_params['learning_rate']),\n",
    "    depth=int(best_params['depth']),\n",
    "    cat_features=cat_var,\n",
    "    eval_metric='AUC',  # Changed metric to AUC\n",
    "    random_seed=42,\n",
    "    loss_function=best_params['loss_function'],\n",
    "    metric_period=int(best_params['metric_period']),\n",
    "    task_type='GPU'\n",
    ")"
   ],
   "metadata": {
    "collapsed": false,
    "ExecuteTime": {
     "end_time": "2023-10-15T21:34:08.563024800Z",
     "start_time": "2023-10-15T21:34:08.551998400Z"
    }
   },
   "id": "d07827f8ee94ed4"
  },
  {
   "cell_type": "code",
   "execution_count": 119,
   "outputs": [
    {
     "data": {
      "text/plain": "MetricVisualizer(layout=Layout(align_self='stretch', height='500px'))",
      "application/vnd.jupyter.widget-view+json": {
       "version_major": 2,
       "version_minor": 0,
       "model_id": "7ea76e017bb34bec9d4217497282eccf"
      }
     },
     "metadata": {},
     "output_type": "display_data"
    },
    {
     "name": "stdout",
     "output_type": "stream",
     "text": [
      "0:\ttest: 0.8016908\tbest: 0.8016908 (0)\ttotal: 340ms\tremaining: 28m 17s\n",
      "500:\ttest: 0.9606386\tbest: 0.9606386 (500)\ttotal: 2m 22s\tremaining: 21m 21s\n",
      "1000:\ttest: 0.9651848\tbest: 0.9651848 (1000)\ttotal: 4m 43s\tremaining: 18m 53s\n",
      "1500:\ttest: 0.9678751\tbest: 0.9678751 (1500)\ttotal: 7m 3s\tremaining: 16m 27s\n",
      "2000:\ttest: 0.9692303\tbest: 0.9692303 (2000)\ttotal: 9m 24s\tremaining: 14m 5s\n",
      "2500:\ttest: 0.9706382\tbest: 0.9706382 (2500)\ttotal: 11m 45s\tremaining: 11m 45s\n",
      "3000:\ttest: 0.9713688\tbest: 0.9713688 (3000)\ttotal: 14m 6s\tremaining: 9m 23s\n",
      "3500:\ttest: 0.9722379\tbest: 0.9722379 (3500)\ttotal: 16m 27s\tremaining: 7m 2s\n",
      "4000:\ttest: 0.9727167\tbest: 0.9727167 (4000)\ttotal: 18m 47s\tremaining: 4m 41s\n",
      "4500:\ttest: 0.9732828\tbest: 0.9732828 (4500)\ttotal: 21m 8s\tremaining: 2m 20s\n",
      "4999:\ttest: 0.9736134\tbest: 0.9736134 (4999)\ttotal: 23m 30s\tremaining: 0us\n",
      "bestTest = 0.973613441\n",
      "bestIteration = 4999\n"
     ]
    },
    {
     "data": {
      "text/plain": "<catboost.core.CatBoostClassifier at 0x22febc22990>"
     },
     "execution_count": 119,
     "metadata": {},
     "output_type": "execute_result"
    }
   ],
   "source": [
    "best_model.fit(\n",
    "    X_train, y_train,\n",
    "    cat_features=cat_var,\n",
    "    eval_set=(X_val, y_val),\n",
    "    logging_level='Verbose',  # Output to stdout\n",
    "    plot=True  # Plotting training and validation error (if you run this notebook locally)\n",
    ")"
   ],
   "metadata": {
    "collapsed": false,
    "ExecuteTime": {
     "end_time": "2023-10-15T21:58:22.931106700Z",
     "start_time": "2023-10-15T21:34:14.088494Z"
    }
   },
   "id": "77e912534c8f9cf5"
  },
  {
   "cell_type": "code",
   "execution_count": 120,
   "outputs": [],
   "source": [
    "pred_te_tr_new_p = best_model.predict_proba(te_tr_new)[:, 1]\n",
    "\n",
    "# Create the output DataFrame\n",
    "output_df = pd.DataFrame({\n",
    "    'TransactionID': te_tr_new.reset_index()['TransactionID'],\n",
    "    'isFraud': pred_te_tr_new_p\n",
    "})\n",
    "\n",
    "# Save the DataFrame to a CSV file\n",
    "output_df.to_csv('predicted_fraud_catboost[3].csv', index=False)\n"
   ],
   "metadata": {
    "collapsed": false,
    "ExecuteTime": {
     "end_time": "2023-10-15T22:01:19.823425700Z",
     "start_time": "2023-10-15T22:00:47.656671400Z"
    }
   },
   "id": "e3ef20360f859b8f"
  },
  {
   "cell_type": "code",
   "execution_count": null,
   "outputs": [],
   "source": [
    "joblib.dump(best_model, '../models_libjob/cb[0.9316][0.9087].joblib')"
   ],
   "metadata": {
    "collapsed": false
   },
   "id": "440b5d6fed9723bd"
  }
 ],
 "metadata": {
  "kernelspec": {
   "display_name": "Python 3",
   "language": "python",
   "name": "python3"
  },
  "language_info": {
   "codemirror_mode": {
    "name": "ipython",
    "version": 2
   },
   "file_extension": ".py",
   "mimetype": "text/x-python",
   "name": "python",
   "nbconvert_exporter": "python",
   "pygments_lexer": "ipython2",
   "version": "2.7.6"
  }
 },
 "nbformat": 4,
 "nbformat_minor": 5
}
