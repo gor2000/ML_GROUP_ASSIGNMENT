{
 "cells": [
  {
   "cell_type": "code",
   "execution_count": 111,
   "id": "initial_id",
   "metadata": {
    "collapsed": true,
    "ExecuteTime": {
     "end_time": "2023-10-14T21:51:59.155003500Z",
     "start_time": "2023-10-14T21:51:59.144057900Z"
    }
   },
   "outputs": [],
   "source": [
    "import pandas as pd\n",
    "import matplotlib.pyplot as plt\n",
    "import seaborn as sns\n",
    "import math\n",
    "import joblib"
   ]
  },
  {
   "cell_type": "code",
   "execution_count": 112,
   "outputs": [],
   "source": [
    "tr_tr_new = joblib.load('joblib/tr_tr_encoded.joblib')"
   ],
   "metadata": {
    "collapsed": false,
    "ExecuteTime": {
     "end_time": "2023-10-14T21:52:01.907200800Z",
     "start_time": "2023-10-14T21:52:01.658249800Z"
    }
   },
   "id": "4a49dbfc430beb43"
  },
  {
   "cell_type": "code",
   "execution_count": 113,
   "outputs": [],
   "source": [
    "te_tr_new = joblib.load('joblib/te_tr_encoded.joblib')"
   ],
   "metadata": {
    "collapsed": false,
    "ExecuteTime": {
     "end_time": "2023-10-14T21:52:04.745980900Z",
     "start_time": "2023-10-14T21:52:04.559349300Z"
    }
   },
   "id": "ce7dea385c080a42"
  },
  {
   "cell_type": "code",
   "execution_count": 114,
   "outputs": [
    {
     "name": "stdout",
     "output_type": "stream",
     "text": [
      "(590540, 215) (506691, 214)\n"
     ]
    }
   ],
   "source": [
    "print(tr_tr_new.shape, te_tr_new.shape)"
   ],
   "metadata": {
    "collapsed": false,
    "ExecuteTime": {
     "end_time": "2023-10-14T21:52:19.579394900Z",
     "start_time": "2023-10-14T21:52:19.571542Z"
    }
   },
   "id": "3abd138dc2706d31"
  },
  {
   "cell_type": "code",
   "execution_count": 115,
   "outputs": [
    {
     "data": {
      "text/plain": "['D5',\n 'D9',\n 'D8',\n 'dist1',\n 'D3',\n 'D12',\n 'D7',\n 'D15',\n 'D1',\n 'D11',\n 'D14',\n 'dist2',\n 'D10',\n 'D2',\n 'D13',\n 'D4',\n 'D6',\n 'V281',\n 'V283',\n 'V289',\n 'V296',\n 'V301',\n 'V314',\n 'V1',\n 'V3',\n 'V4',\n 'V6',\n 'V8',\n 'V11',\n 'V13',\n 'V14',\n 'V17',\n 'V20',\n 'V23',\n 'V26',\n 'V27',\n 'V30',\n 'V36',\n 'V37',\n 'V40',\n 'V41',\n 'V44',\n 'V47',\n 'V48',\n 'V54',\n 'V56',\n 'V59',\n 'V62',\n 'V65',\n 'V67',\n 'V68',\n 'V70',\n 'V76',\n 'V78',\n 'V80',\n 'V82',\n 'V86',\n 'V88',\n 'V89',\n 'V91',\n 'V96',\n 'V98',\n 'V99',\n 'V104',\n 'V107',\n 'V108',\n 'V109',\n 'V111',\n 'V115',\n 'V117',\n 'V120',\n 'V121',\n 'V123',\n 'V127',\n 'V129',\n 'V130',\n 'V136',\n 'V138',\n 'V139',\n 'V142',\n 'V147',\n 'V156',\n 'V162',\n 'V165',\n 'V160',\n 'V166',\n 'V178',\n 'V187',\n 'V173',\n 'V182',\n 'V199',\n 'V203',\n 'V205',\n 'V207',\n 'V215',\n 'V218',\n 'V223',\n 'V224',\n 'V226',\n 'V228',\n 'V229',\n 'V235',\n 'V237',\n 'V240',\n 'V258',\n 'V257',\n 'V253',\n 'V252',\n 'V260',\n 'V261',\n 'V264',\n 'V266',\n 'V267',\n 'V274',\n 'V277',\n 'V220',\n 'V221',\n 'V234',\n 'V238',\n 'V250',\n 'V271',\n 'V294',\n 'V284',\n 'V285',\n 'V286',\n 'V291',\n 'V297',\n 'V302',\n 'V303',\n 'V305',\n 'V307',\n 'V309',\n 'V310',\n 'V320',\n 'V332',\n 'V325',\n 'V335',\n 'V338',\n 'id_01',\n 'id_02',\n 'id_03',\n 'id_04',\n 'id_05',\n 'id_06',\n 'id_07',\n 'id_08',\n 'id_09',\n 'id_10',\n 'id_11']"
     },
     "execution_count": 115,
     "metadata": {},
     "output_type": "execute_result"
    }
   ],
   "source": [
    "tr_tr_new.columns[tr_tr_new.isnull().any()].tolist()"
   ],
   "metadata": {
    "collapsed": false,
    "ExecuteTime": {
     "end_time": "2023-10-14T21:52:23.624257800Z",
     "start_time": "2023-10-14T21:52:23.547018200Z"
    }
   },
   "id": "833530377188a99b"
  },
  {
   "cell_type": "code",
   "execution_count": 116,
   "outputs": [],
   "source": [
    "# Fill missing values with median for training data\n",
    "tr_tr_new.fillna(tr_tr_new.median(), inplace=True)\n",
    "\n",
    "# Fill missing values with median for testing data\n",
    "te_tr_new.fillna(tr_tr_new.median(), inplace=True)  # Note: Use training data median for test data to avoid data leakage\n"
   ],
   "metadata": {
    "collapsed": false,
    "ExecuteTime": {
     "end_time": "2023-10-14T21:52:28.004633800Z",
     "start_time": "2023-10-14T21:52:25.068448900Z"
    }
   },
   "id": "314d5a2b2788d31b"
  },
  {
   "cell_type": "code",
   "execution_count": 94,
   "outputs": [
    {
     "data": {
      "text/plain": "[]"
     },
     "execution_count": 94,
     "metadata": {},
     "output_type": "execute_result"
    }
   ],
   "source": [
    "tr_tr_new.columns[tr_tr_new.isnull().any()].tolist()"
   ],
   "metadata": {
    "collapsed": false,
    "ExecuteTime": {
     "end_time": "2023-10-14T21:40:12.960050100Z",
     "start_time": "2023-10-14T21:40:12.873663900Z"
    }
   },
   "id": "73238105308dc553"
  },
  {
   "cell_type": "code",
   "execution_count": 95,
   "outputs": [
    {
     "data": {
      "text/plain": "isFraud\n0    569877\n1     20663\nName: count, dtype: int64"
     },
     "execution_count": 95,
     "metadata": {},
     "output_type": "execute_result"
    }
   ],
   "source": [
    "tr_tr_new['isFraud'].value_counts()"
   ],
   "metadata": {
    "collapsed": false,
    "ExecuteTime": {
     "end_time": "2023-10-14T21:40:14.675086Z",
     "start_time": "2023-10-14T21:40:14.620671500Z"
    }
   },
   "id": "a97e81d36a137b81"
  },
  {
   "cell_type": "code",
   "execution_count": 117,
   "outputs": [],
   "source": [
    "from xgboost import XGBClassifier as model_constructor\n",
    "from sklearn.metrics import roc_auc_score as metric"
   ],
   "metadata": {
    "collapsed": false,
    "ExecuteTime": {
     "end_time": "2023-10-14T21:52:34.874005400Z",
     "start_time": "2023-10-14T21:52:34.857969100Z"
    }
   },
   "id": "dd8b25fa14b540ee"
  },
  {
   "cell_type": "code",
   "execution_count": 118,
   "outputs": [],
   "source": [
    "from sklearn.model_selection import train_test_split\n",
    "X = tr_tr_new.drop('isFraud', axis=1)\n",
    "y = tr_tr_new['isFraud']"
   ],
   "metadata": {
    "collapsed": false,
    "ExecuteTime": {
     "end_time": "2023-10-14T21:52:36.145042800Z",
     "start_time": "2023-10-14T21:52:35.828239900Z"
    }
   },
   "id": "b47d00fa12e385f"
  },
  {
   "cell_type": "code",
   "execution_count": 119,
   "outputs": [
    {
     "name": "stdout",
     "output_type": "stream",
     "text": [
      "Training set size: 472432\n",
      "Validation set size: 59054\n",
      "Test set size: 59054\n"
     ]
    }
   ],
   "source": [
    "# Split the data into training and temp sets (80% train, 20% temp)\n",
    "X_train, X_temp, y_train, y_temp = train_test_split(X, y, test_size=0.2, random_state=42)\n",
    "\n",
    "# Split the temp data into validation and test sets (50% validation, 50% test)\n",
    "X_val, X_test, y_val, y_test = train_test_split(X_temp, y_temp, test_size=0.5, random_state=42)\n",
    "\n",
    "print(f\"Training set size: {len(X_train)}\")\n",
    "print(f\"Validation set size: {len(X_val)}\")\n",
    "print(f\"Test set size: {len(X_test)}\")\n"
   ],
   "metadata": {
    "collapsed": false,
    "ExecuteTime": {
     "end_time": "2023-10-14T21:52:38.938784700Z",
     "start_time": "2023-10-14T21:52:37.863017900Z"
    }
   },
   "id": "f43662df51fa770f"
  },
  {
   "cell_type": "code",
   "execution_count": 120,
   "outputs": [],
   "source": [
    "# [3] Define model\n",
    "model = model_constructor(early_stopping_rounds = 10,\n",
    "                      n_estimators = 1000,\n",
    "                      eval_metric = \"auc\",\n",
    "                          device='cuda',\n",
    "                      random_state = 42)"
   ],
   "metadata": {
    "collapsed": false,
    "ExecuteTime": {
     "end_time": "2023-10-14T21:52:40.861120100Z",
     "start_time": "2023-10-14T21:52:40.844863200Z"
    }
   },
   "id": "784582dab6ed49e6"
  },
  {
   "cell_type": "code",
   "execution_count": 121,
   "outputs": [
    {
     "name": "stdout",
     "output_type": "stream",
     "text": [
      "[0]\tvalidation_0-auc:0.78129\n",
      "[1]\tvalidation_0-auc:0.82027\n",
      "[2]\tvalidation_0-auc:0.84753\n",
      "[3]\tvalidation_0-auc:0.85690\n",
      "[4]\tvalidation_0-auc:0.86068\n",
      "[5]\tvalidation_0-auc:0.86778\n",
      "[6]\tvalidation_0-auc:0.87640\n",
      "[7]\tvalidation_0-auc:0.87999\n",
      "[8]\tvalidation_0-auc:0.88406\n",
      "[9]\tvalidation_0-auc:0.88790\n",
      "[10]\tvalidation_0-auc:0.89203\n",
      "[11]\tvalidation_0-auc:0.89294\n",
      "[12]\tvalidation_0-auc:0.89504\n",
      "[13]\tvalidation_0-auc:0.89832\n",
      "[14]\tvalidation_0-auc:0.90140\n",
      "[15]\tvalidation_0-auc:0.90509\n",
      "[16]\tvalidation_0-auc:0.90627\n",
      "[17]\tvalidation_0-auc:0.90793\n",
      "[18]\tvalidation_0-auc:0.90991\n",
      "[19]\tvalidation_0-auc:0.91282\n",
      "[20]\tvalidation_0-auc:0.91359\n",
      "[21]\tvalidation_0-auc:0.91383\n",
      "[22]\tvalidation_0-auc:0.91467\n",
      "[23]\tvalidation_0-auc:0.91507\n",
      "[24]\tvalidation_0-auc:0.91619\n",
      "[25]\tvalidation_0-auc:0.91635\n",
      "[26]\tvalidation_0-auc:0.91684\n",
      "[27]\tvalidation_0-auc:0.91795\n",
      "[28]\tvalidation_0-auc:0.91884\n",
      "[29]\tvalidation_0-auc:0.91969\n",
      "[30]\tvalidation_0-auc:0.92058\n",
      "[31]\tvalidation_0-auc:0.92109\n",
      "[32]\tvalidation_0-auc:0.92150\n",
      "[33]\tvalidation_0-auc:0.92165\n",
      "[34]\tvalidation_0-auc:0.92193\n",
      "[35]\tvalidation_0-auc:0.92250\n",
      "[36]\tvalidation_0-auc:0.92310\n",
      "[37]\tvalidation_0-auc:0.92367\n",
      "[38]\tvalidation_0-auc:0.92383\n",
      "[39]\tvalidation_0-auc:0.92423\n",
      "[40]\tvalidation_0-auc:0.92434\n",
      "[41]\tvalidation_0-auc:0.92524\n",
      "[42]\tvalidation_0-auc:0.92534\n",
      "[43]\tvalidation_0-auc:0.92551\n",
      "[44]\tvalidation_0-auc:0.92575\n",
      "[45]\tvalidation_0-auc:0.92636\n",
      "[46]\tvalidation_0-auc:0.92652\n",
      "[47]\tvalidation_0-auc:0.92649\n",
      "[48]\tvalidation_0-auc:0.92711\n",
      "[49]\tvalidation_0-auc:0.92705\n",
      "[50]\tvalidation_0-auc:0.92723\n",
      "[51]\tvalidation_0-auc:0.92738\n",
      "[52]\tvalidation_0-auc:0.92804\n",
      "[53]\tvalidation_0-auc:0.92855\n",
      "[54]\tvalidation_0-auc:0.92853\n",
      "[55]\tvalidation_0-auc:0.92865\n",
      "[56]\tvalidation_0-auc:0.93002\n",
      "[57]\tvalidation_0-auc:0.93034\n",
      "[58]\tvalidation_0-auc:0.93082\n",
      "[59]\tvalidation_0-auc:0.93114\n",
      "[60]\tvalidation_0-auc:0.93114\n",
      "[61]\tvalidation_0-auc:0.93169\n",
      "[62]\tvalidation_0-auc:0.93289\n",
      "[63]\tvalidation_0-auc:0.93333\n",
      "[64]\tvalidation_0-auc:0.93354\n",
      "[65]\tvalidation_0-auc:0.93439\n",
      "[66]\tvalidation_0-auc:0.93492\n",
      "[67]\tvalidation_0-auc:0.93516\n",
      "[68]\tvalidation_0-auc:0.93571\n",
      "[69]\tvalidation_0-auc:0.93581\n",
      "[70]\tvalidation_0-auc:0.93616\n",
      "[71]\tvalidation_0-auc:0.93611\n",
      "[72]\tvalidation_0-auc:0.93611\n",
      "[73]\tvalidation_0-auc:0.93683\n",
      "[74]\tvalidation_0-auc:0.93681\n",
      "[75]\tvalidation_0-auc:0.93695\n",
      "[76]\tvalidation_0-auc:0.93722\n",
      "[77]\tvalidation_0-auc:0.93728\n",
      "[78]\tvalidation_0-auc:0.93748\n",
      "[79]\tvalidation_0-auc:0.93744\n",
      "[80]\tvalidation_0-auc:0.93758\n",
      "[81]\tvalidation_0-auc:0.93786\n",
      "[82]\tvalidation_0-auc:0.93790\n",
      "[83]\tvalidation_0-auc:0.93787\n",
      "[84]\tvalidation_0-auc:0.93840\n",
      "[85]\tvalidation_0-auc:0.93860\n",
      "[86]\tvalidation_0-auc:0.93888\n",
      "[87]\tvalidation_0-auc:0.93917\n",
      "[88]\tvalidation_0-auc:0.93922\n",
      "[89]\tvalidation_0-auc:0.93925\n",
      "[90]\tvalidation_0-auc:0.93966\n",
      "[91]\tvalidation_0-auc:0.93993\n",
      "[92]\tvalidation_0-auc:0.94002\n",
      "[93]\tvalidation_0-auc:0.94013\n",
      "[94]\tvalidation_0-auc:0.94032\n",
      "[95]\tvalidation_0-auc:0.94037\n",
      "[96]\tvalidation_0-auc:0.94040\n",
      "[97]\tvalidation_0-auc:0.94038\n",
      "[98]\tvalidation_0-auc:0.94070\n",
      "[99]\tvalidation_0-auc:0.94075\n",
      "[100]\tvalidation_0-auc:0.94067\n",
      "[101]\tvalidation_0-auc:0.94070\n",
      "[102]\tvalidation_0-auc:0.94110\n",
      "[103]\tvalidation_0-auc:0.94124\n",
      "[104]\tvalidation_0-auc:0.94125\n",
      "[105]\tvalidation_0-auc:0.94212\n",
      "[106]\tvalidation_0-auc:0.94264\n",
      "[107]\tvalidation_0-auc:0.94271\n",
      "[108]\tvalidation_0-auc:0.94284\n",
      "[109]\tvalidation_0-auc:0.94300\n",
      "[110]\tvalidation_0-auc:0.94304\n",
      "[111]\tvalidation_0-auc:0.94322\n",
      "[112]\tvalidation_0-auc:0.94347\n",
      "[113]\tvalidation_0-auc:0.94363\n",
      "[114]\tvalidation_0-auc:0.94364\n",
      "[115]\tvalidation_0-auc:0.94378\n",
      "[116]\tvalidation_0-auc:0.94415\n",
      "[117]\tvalidation_0-auc:0.94442\n",
      "[118]\tvalidation_0-auc:0.94446\n",
      "[119]\tvalidation_0-auc:0.94455\n",
      "[120]\tvalidation_0-auc:0.94463\n",
      "[121]\tvalidation_0-auc:0.94476\n",
      "[122]\tvalidation_0-auc:0.94485\n",
      "[123]\tvalidation_0-auc:0.94479\n",
      "[124]\tvalidation_0-auc:0.94498\n",
      "[125]\tvalidation_0-auc:0.94507\n",
      "[126]\tvalidation_0-auc:0.94517\n",
      "[127]\tvalidation_0-auc:0.94566\n",
      "[128]\tvalidation_0-auc:0.94604\n",
      "[129]\tvalidation_0-auc:0.94657\n",
      "[130]\tvalidation_0-auc:0.94666\n",
      "[131]\tvalidation_0-auc:0.94683\n",
      "[132]\tvalidation_0-auc:0.94684\n",
      "[133]\tvalidation_0-auc:0.94687\n",
      "[134]\tvalidation_0-auc:0.94728\n",
      "[135]\tvalidation_0-auc:0.94781\n",
      "[136]\tvalidation_0-auc:0.94826\n",
      "[137]\tvalidation_0-auc:0.94839\n",
      "[138]\tvalidation_0-auc:0.94862\n",
      "[139]\tvalidation_0-auc:0.94866\n",
      "[140]\tvalidation_0-auc:0.94878\n",
      "[141]\tvalidation_0-auc:0.94895\n",
      "[142]\tvalidation_0-auc:0.94898\n",
      "[143]\tvalidation_0-auc:0.94898\n",
      "[144]\tvalidation_0-auc:0.94902\n",
      "[145]\tvalidation_0-auc:0.94904\n",
      "[146]\tvalidation_0-auc:0.94909\n",
      "[147]\tvalidation_0-auc:0.94900\n",
      "[148]\tvalidation_0-auc:0.94908\n",
      "[149]\tvalidation_0-auc:0.94908\n",
      "[150]\tvalidation_0-auc:0.94902\n",
      "[151]\tvalidation_0-auc:0.94905\n",
      "[152]\tvalidation_0-auc:0.94919\n",
      "[153]\tvalidation_0-auc:0.94931\n",
      "[154]\tvalidation_0-auc:0.94944\n",
      "[155]\tvalidation_0-auc:0.94948\n",
      "[156]\tvalidation_0-auc:0.94965\n",
      "[157]\tvalidation_0-auc:0.94965\n",
      "[158]\tvalidation_0-auc:0.94979\n",
      "[159]\tvalidation_0-auc:0.95007\n",
      "[160]\tvalidation_0-auc:0.95009\n",
      "[161]\tvalidation_0-auc:0.95029\n",
      "[162]\tvalidation_0-auc:0.95035\n",
      "[163]\tvalidation_0-auc:0.95018\n",
      "[164]\tvalidation_0-auc:0.95017\n",
      "[165]\tvalidation_0-auc:0.95030\n",
      "[166]\tvalidation_0-auc:0.95022\n",
      "[167]\tvalidation_0-auc:0.95041\n",
      "[168]\tvalidation_0-auc:0.95052\n",
      "[169]\tvalidation_0-auc:0.95063\n",
      "[170]\tvalidation_0-auc:0.95072\n",
      "[171]\tvalidation_0-auc:0.95071\n",
      "[172]\tvalidation_0-auc:0.95084\n",
      "[173]\tvalidation_0-auc:0.95095\n",
      "[174]\tvalidation_0-auc:0.95130\n",
      "[175]\tvalidation_0-auc:0.95144\n",
      "[176]\tvalidation_0-auc:0.95168\n",
      "[177]\tvalidation_0-auc:0.95175\n",
      "[178]\tvalidation_0-auc:0.95183\n",
      "[179]\tvalidation_0-auc:0.95181\n",
      "[180]\tvalidation_0-auc:0.95188\n",
      "[181]\tvalidation_0-auc:0.95198\n",
      "[182]\tvalidation_0-auc:0.95196\n",
      "[183]\tvalidation_0-auc:0.95187\n",
      "[184]\tvalidation_0-auc:0.95192\n",
      "[185]\tvalidation_0-auc:0.95200\n",
      "[186]\tvalidation_0-auc:0.95203\n",
      "[187]\tvalidation_0-auc:0.95202\n",
      "[188]\tvalidation_0-auc:0.95208\n",
      "[189]\tvalidation_0-auc:0.95253\n",
      "[190]\tvalidation_0-auc:0.95267\n",
      "[191]\tvalidation_0-auc:0.95270\n",
      "[192]\tvalidation_0-auc:0.95277\n",
      "[193]\tvalidation_0-auc:0.95277\n",
      "[194]\tvalidation_0-auc:0.95274\n",
      "[195]\tvalidation_0-auc:0.95293\n",
      "[196]\tvalidation_0-auc:0.95295\n",
      "[197]\tvalidation_0-auc:0.95296\n",
      "[198]\tvalidation_0-auc:0.95312\n",
      "[199]\tvalidation_0-auc:0.95310\n",
      "[200]\tvalidation_0-auc:0.95316\n",
      "[201]\tvalidation_0-auc:0.95325\n",
      "[202]\tvalidation_0-auc:0.95332\n",
      "[203]\tvalidation_0-auc:0.95365\n",
      "[204]\tvalidation_0-auc:0.95365\n",
      "[205]\tvalidation_0-auc:0.95383\n",
      "[206]\tvalidation_0-auc:0.95397\n",
      "[207]\tvalidation_0-auc:0.95404\n",
      "[208]\tvalidation_0-auc:0.95431\n",
      "[209]\tvalidation_0-auc:0.95452\n",
      "[210]\tvalidation_0-auc:0.95457\n",
      "[211]\tvalidation_0-auc:0.95462\n",
      "[212]\tvalidation_0-auc:0.95476\n",
      "[213]\tvalidation_0-auc:0.95474\n",
      "[214]\tvalidation_0-auc:0.95487\n",
      "[215]\tvalidation_0-auc:0.95488\n",
      "[216]\tvalidation_0-auc:0.95494\n",
      "[217]\tvalidation_0-auc:0.95489\n",
      "[218]\tvalidation_0-auc:0.95507\n",
      "[219]\tvalidation_0-auc:0.95545\n",
      "[220]\tvalidation_0-auc:0.95544\n",
      "[221]\tvalidation_0-auc:0.95550\n",
      "[222]\tvalidation_0-auc:0.95544\n",
      "[223]\tvalidation_0-auc:0.95542\n",
      "[224]\tvalidation_0-auc:0.95545\n",
      "[225]\tvalidation_0-auc:0.95555\n",
      "[226]\tvalidation_0-auc:0.95563\n",
      "[227]\tvalidation_0-auc:0.95572\n",
      "[228]\tvalidation_0-auc:0.95583\n",
      "[229]\tvalidation_0-auc:0.95581\n",
      "[230]\tvalidation_0-auc:0.95588\n",
      "[231]\tvalidation_0-auc:0.95601\n",
      "[232]\tvalidation_0-auc:0.95594\n",
      "[233]\tvalidation_0-auc:0.95601\n",
      "[234]\tvalidation_0-auc:0.95627\n",
      "[235]\tvalidation_0-auc:0.95623\n",
      "[236]\tvalidation_0-auc:0.95622\n",
      "[237]\tvalidation_0-auc:0.95623\n",
      "[238]\tvalidation_0-auc:0.95628\n",
      "[239]\tvalidation_0-auc:0.95628\n",
      "[240]\tvalidation_0-auc:0.95633\n",
      "[241]\tvalidation_0-auc:0.95632\n",
      "[242]\tvalidation_0-auc:0.95643\n",
      "[243]\tvalidation_0-auc:0.95657\n",
      "[244]\tvalidation_0-auc:0.95658\n",
      "[245]\tvalidation_0-auc:0.95688\n",
      "[246]\tvalidation_0-auc:0.95689\n",
      "[247]\tvalidation_0-auc:0.95688\n",
      "[248]\tvalidation_0-auc:0.95688\n",
      "[249]\tvalidation_0-auc:0.95691\n",
      "[250]\tvalidation_0-auc:0.95690\n",
      "[251]\tvalidation_0-auc:0.95685\n",
      "[252]\tvalidation_0-auc:0.95677\n",
      "[253]\tvalidation_0-auc:0.95683\n",
      "[254]\tvalidation_0-auc:0.95689\n",
      "[255]\tvalidation_0-auc:0.95693\n",
      "[256]\tvalidation_0-auc:0.95699\n",
      "[257]\tvalidation_0-auc:0.95698\n",
      "[258]\tvalidation_0-auc:0.95718\n",
      "[259]\tvalidation_0-auc:0.95721\n",
      "[260]\tvalidation_0-auc:0.95731\n",
      "[261]\tvalidation_0-auc:0.95763\n",
      "[262]\tvalidation_0-auc:0.95789\n",
      "[263]\tvalidation_0-auc:0.95787\n",
      "[264]\tvalidation_0-auc:0.95784\n",
      "[265]\tvalidation_0-auc:0.95803\n",
      "[266]\tvalidation_0-auc:0.95801\n",
      "[267]\tvalidation_0-auc:0.95808\n",
      "[268]\tvalidation_0-auc:0.95806\n",
      "[269]\tvalidation_0-auc:0.95807\n",
      "[270]\tvalidation_0-auc:0.95822\n",
      "[271]\tvalidation_0-auc:0.95819\n",
      "[272]\tvalidation_0-auc:0.95827\n",
      "[273]\tvalidation_0-auc:0.95829\n",
      "[274]\tvalidation_0-auc:0.95826\n",
      "[275]\tvalidation_0-auc:0.95821\n",
      "[276]\tvalidation_0-auc:0.95844\n",
      "[277]\tvalidation_0-auc:0.95851\n",
      "[278]\tvalidation_0-auc:0.95848\n",
      "[279]\tvalidation_0-auc:0.95849\n",
      "[280]\tvalidation_0-auc:0.95851\n",
      "[281]\tvalidation_0-auc:0.95850\n",
      "[282]\tvalidation_0-auc:0.95853\n",
      "[283]\tvalidation_0-auc:0.95851\n",
      "[284]\tvalidation_0-auc:0.95866\n",
      "[285]\tvalidation_0-auc:0.95869\n",
      "[286]\tvalidation_0-auc:0.95870\n",
      "[287]\tvalidation_0-auc:0.95871\n",
      "[288]\tvalidation_0-auc:0.95880\n",
      "[289]\tvalidation_0-auc:0.95883\n",
      "[290]\tvalidation_0-auc:0.95883\n",
      "[291]\tvalidation_0-auc:0.95882\n",
      "[292]\tvalidation_0-auc:0.95898\n",
      "[293]\tvalidation_0-auc:0.95914\n",
      "[294]\tvalidation_0-auc:0.95912\n",
      "[295]\tvalidation_0-auc:0.95927\n",
      "[296]\tvalidation_0-auc:0.95915\n",
      "[297]\tvalidation_0-auc:0.95920\n",
      "[298]\tvalidation_0-auc:0.95932\n",
      "[299]\tvalidation_0-auc:0.95936\n",
      "[300]\tvalidation_0-auc:0.95937\n",
      "[301]\tvalidation_0-auc:0.95940\n",
      "[302]\tvalidation_0-auc:0.95941\n",
      "[303]\tvalidation_0-auc:0.95933\n",
      "[304]\tvalidation_0-auc:0.95936\n",
      "[305]\tvalidation_0-auc:0.95954\n",
      "[306]\tvalidation_0-auc:0.95953\n",
      "[307]\tvalidation_0-auc:0.95955\n",
      "[308]\tvalidation_0-auc:0.95955\n",
      "[309]\tvalidation_0-auc:0.95966\n",
      "[310]\tvalidation_0-auc:0.95968\n",
      "[311]\tvalidation_0-auc:0.95967\n",
      "[312]\tvalidation_0-auc:0.95963\n",
      "[313]\tvalidation_0-auc:0.95964\n",
      "[314]\tvalidation_0-auc:0.95964\n",
      "[315]\tvalidation_0-auc:0.95963\n",
      "[316]\tvalidation_0-auc:0.95972\n",
      "[317]\tvalidation_0-auc:0.95973\n",
      "[318]\tvalidation_0-auc:0.95979\n",
      "[319]\tvalidation_0-auc:0.95983\n",
      "[320]\tvalidation_0-auc:0.95982\n",
      "[321]\tvalidation_0-auc:0.95981\n",
      "[322]\tvalidation_0-auc:0.95981\n",
      "[323]\tvalidation_0-auc:0.95998\n",
      "[324]\tvalidation_0-auc:0.96006\n",
      "[325]\tvalidation_0-auc:0.96005\n",
      "[326]\tvalidation_0-auc:0.96003\n",
      "[327]\tvalidation_0-auc:0.96005\n",
      "[328]\tvalidation_0-auc:0.96003\n",
      "[329]\tvalidation_0-auc:0.96003\n",
      "[330]\tvalidation_0-auc:0.96011\n",
      "[331]\tvalidation_0-auc:0.96004\n",
      "[332]\tvalidation_0-auc:0.96016\n",
      "[333]\tvalidation_0-auc:0.96015\n",
      "[334]\tvalidation_0-auc:0.96015\n",
      "[335]\tvalidation_0-auc:0.96017\n",
      "[336]\tvalidation_0-auc:0.96016\n",
      "[337]\tvalidation_0-auc:0.96024\n",
      "[338]\tvalidation_0-auc:0.96016\n",
      "[339]\tvalidation_0-auc:0.96018\n",
      "[340]\tvalidation_0-auc:0.96028\n",
      "[341]\tvalidation_0-auc:0.96032\n",
      "[342]\tvalidation_0-auc:0.96036\n",
      "[343]\tvalidation_0-auc:0.96044\n",
      "[344]\tvalidation_0-auc:0.96043\n",
      "[345]\tvalidation_0-auc:0.96039\n",
      "[346]\tvalidation_0-auc:0.96046\n",
      "[347]\tvalidation_0-auc:0.96051\n",
      "[348]\tvalidation_0-auc:0.96062\n",
      "[349]\tvalidation_0-auc:0.96067\n",
      "[350]\tvalidation_0-auc:0.96076\n",
      "[351]\tvalidation_0-auc:0.96083\n",
      "[352]\tvalidation_0-auc:0.96090\n",
      "[353]\tvalidation_0-auc:0.96080\n",
      "[354]\tvalidation_0-auc:0.96096\n",
      "[355]\tvalidation_0-auc:0.96096\n",
      "[356]\tvalidation_0-auc:0.96104\n",
      "[357]\tvalidation_0-auc:0.96112\n",
      "[358]\tvalidation_0-auc:0.96105\n",
      "[359]\tvalidation_0-auc:0.96102\n",
      "[360]\tvalidation_0-auc:0.96110\n",
      "[361]\tvalidation_0-auc:0.96121\n",
      "[362]\tvalidation_0-auc:0.96129\n",
      "[363]\tvalidation_0-auc:0.96137\n",
      "[364]\tvalidation_0-auc:0.96142\n",
      "[365]\tvalidation_0-auc:0.96143\n",
      "[366]\tvalidation_0-auc:0.96153\n",
      "[367]\tvalidation_0-auc:0.96154\n",
      "[368]\tvalidation_0-auc:0.96172\n",
      "[369]\tvalidation_0-auc:0.96191\n",
      "[370]\tvalidation_0-auc:0.96203\n",
      "[371]\tvalidation_0-auc:0.96204\n",
      "[372]\tvalidation_0-auc:0.96211\n",
      "[373]\tvalidation_0-auc:0.96199\n",
      "[374]\tvalidation_0-auc:0.96195\n",
      "[375]\tvalidation_0-auc:0.96191\n",
      "[376]\tvalidation_0-auc:0.96191\n",
      "[377]\tvalidation_0-auc:0.96194\n",
      "[378]\tvalidation_0-auc:0.96202\n",
      "[379]\tvalidation_0-auc:0.96205\n",
      "[380]\tvalidation_0-auc:0.96221\n",
      "[381]\tvalidation_0-auc:0.96211\n",
      "[382]\tvalidation_0-auc:0.96209\n",
      "[383]\tvalidation_0-auc:0.96207\n",
      "[384]\tvalidation_0-auc:0.96219\n",
      "[385]\tvalidation_0-auc:0.96234\n",
      "[386]\tvalidation_0-auc:0.96247\n",
      "[387]\tvalidation_0-auc:0.96246\n",
      "[388]\tvalidation_0-auc:0.96249\n",
      "[389]\tvalidation_0-auc:0.96255\n",
      "[390]\tvalidation_0-auc:0.96262\n",
      "[391]\tvalidation_0-auc:0.96268\n",
      "[392]\tvalidation_0-auc:0.96272\n",
      "[393]\tvalidation_0-auc:0.96276\n",
      "[394]\tvalidation_0-auc:0.96278\n",
      "[395]\tvalidation_0-auc:0.96287\n",
      "[396]\tvalidation_0-auc:0.96289\n",
      "[397]\tvalidation_0-auc:0.96295\n",
      "[398]\tvalidation_0-auc:0.96299\n",
      "[399]\tvalidation_0-auc:0.96320\n",
      "[400]\tvalidation_0-auc:0.96328\n",
      "[401]\tvalidation_0-auc:0.96327\n",
      "[402]\tvalidation_0-auc:0.96309\n",
      "[403]\tvalidation_0-auc:0.96318\n",
      "[404]\tvalidation_0-auc:0.96314\n",
      "[405]\tvalidation_0-auc:0.96311\n",
      "[406]\tvalidation_0-auc:0.96308\n",
      "[407]\tvalidation_0-auc:0.96315\n",
      "[408]\tvalidation_0-auc:0.96318\n",
      "[409]\tvalidation_0-auc:0.96314\n",
      "[410]\tvalidation_0-auc:0.96328\n"
     ]
    },
    {
     "data": {
      "text/plain": "XGBClassifier(base_score=None, booster=None, callbacks=None,\n              colsample_bylevel=None, colsample_bynode=None,\n              colsample_bytree=None, device='cuda', early_stopping_rounds=10,\n              enable_categorical=False, eval_metric='auc', feature_types=None,\n              gamma=None, grow_policy=None, importance_type=None,\n              interaction_constraints=None, learning_rate=None, max_bin=None,\n              max_cat_threshold=None, max_cat_to_onehot=None,\n              max_delta_step=None, max_depth=None, max_leaves=None,\n              min_child_weight=None, missing=nan, monotone_constraints=None,\n              multi_strategy=None, n_estimators=1000, n_jobs=None,\n              num_parallel_tree=None, random_state=42, ...)",
      "text/html": "<style>#sk-container-id-8 {color: black;}#sk-container-id-8 pre{padding: 0;}#sk-container-id-8 div.sk-toggleable {background-color: white;}#sk-container-id-8 label.sk-toggleable__label {cursor: pointer;display: block;width: 100%;margin-bottom: 0;padding: 0.3em;box-sizing: border-box;text-align: center;}#sk-container-id-8 label.sk-toggleable__label-arrow:before {content: \"▸\";float: left;margin-right: 0.25em;color: #696969;}#sk-container-id-8 label.sk-toggleable__label-arrow:hover:before {color: black;}#sk-container-id-8 div.sk-estimator:hover label.sk-toggleable__label-arrow:before {color: black;}#sk-container-id-8 div.sk-toggleable__content {max-height: 0;max-width: 0;overflow: hidden;text-align: left;background-color: #f0f8ff;}#sk-container-id-8 div.sk-toggleable__content pre {margin: 0.2em;color: black;border-radius: 0.25em;background-color: #f0f8ff;}#sk-container-id-8 input.sk-toggleable__control:checked~div.sk-toggleable__content {max-height: 200px;max-width: 100%;overflow: auto;}#sk-container-id-8 input.sk-toggleable__control:checked~label.sk-toggleable__label-arrow:before {content: \"▾\";}#sk-container-id-8 div.sk-estimator input.sk-toggleable__control:checked~label.sk-toggleable__label {background-color: #d4ebff;}#sk-container-id-8 div.sk-label input.sk-toggleable__control:checked~label.sk-toggleable__label {background-color: #d4ebff;}#sk-container-id-8 input.sk-hidden--visually {border: 0;clip: rect(1px 1px 1px 1px);clip: rect(1px, 1px, 1px, 1px);height: 1px;margin: -1px;overflow: hidden;padding: 0;position: absolute;width: 1px;}#sk-container-id-8 div.sk-estimator {font-family: monospace;background-color: #f0f8ff;border: 1px dotted black;border-radius: 0.25em;box-sizing: border-box;margin-bottom: 0.5em;}#sk-container-id-8 div.sk-estimator:hover {background-color: #d4ebff;}#sk-container-id-8 div.sk-parallel-item::after {content: \"\";width: 100%;border-bottom: 1px solid gray;flex-grow: 1;}#sk-container-id-8 div.sk-label:hover label.sk-toggleable__label {background-color: #d4ebff;}#sk-container-id-8 div.sk-serial::before {content: \"\";position: absolute;border-left: 1px solid gray;box-sizing: border-box;top: 0;bottom: 0;left: 50%;z-index: 0;}#sk-container-id-8 div.sk-serial {display: flex;flex-direction: column;align-items: center;background-color: white;padding-right: 0.2em;padding-left: 0.2em;position: relative;}#sk-container-id-8 div.sk-item {position: relative;z-index: 1;}#sk-container-id-8 div.sk-parallel {display: flex;align-items: stretch;justify-content: center;background-color: white;position: relative;}#sk-container-id-8 div.sk-item::before, #sk-container-id-8 div.sk-parallel-item::before {content: \"\";position: absolute;border-left: 1px solid gray;box-sizing: border-box;top: 0;bottom: 0;left: 50%;z-index: -1;}#sk-container-id-8 div.sk-parallel-item {display: flex;flex-direction: column;z-index: 1;position: relative;background-color: white;}#sk-container-id-8 div.sk-parallel-item:first-child::after {align-self: flex-end;width: 50%;}#sk-container-id-8 div.sk-parallel-item:last-child::after {align-self: flex-start;width: 50%;}#sk-container-id-8 div.sk-parallel-item:only-child::after {width: 0;}#sk-container-id-8 div.sk-dashed-wrapped {border: 1px dashed gray;margin: 0 0.4em 0.5em 0.4em;box-sizing: border-box;padding-bottom: 0.4em;background-color: white;}#sk-container-id-8 div.sk-label label {font-family: monospace;font-weight: bold;display: inline-block;line-height: 1.2em;}#sk-container-id-8 div.sk-label-container {text-align: center;}#sk-container-id-8 div.sk-container {/* jupyter's `normalize.less` sets `[hidden] { display: none; }` but bootstrap.min.css set `[hidden] { display: none !important; }` so we also need the `!important` here to be able to override the default hidden behavior on the sphinx rendered scikit-learn.org. See: https://github.com/scikit-learn/scikit-learn/issues/21755 */display: inline-block !important;position: relative;}#sk-container-id-8 div.sk-text-repr-fallback {display: none;}</style><div id=\"sk-container-id-8\" class=\"sk-top-container\"><div class=\"sk-text-repr-fallback\"><pre>XGBClassifier(base_score=None, booster=None, callbacks=None,\n              colsample_bylevel=None, colsample_bynode=None,\n              colsample_bytree=None, device=&#x27;cuda&#x27;, early_stopping_rounds=10,\n              enable_categorical=False, eval_metric=&#x27;auc&#x27;, feature_types=None,\n              gamma=None, grow_policy=None, importance_type=None,\n              interaction_constraints=None, learning_rate=None, max_bin=None,\n              max_cat_threshold=None, max_cat_to_onehot=None,\n              max_delta_step=None, max_depth=None, max_leaves=None,\n              min_child_weight=None, missing=nan, monotone_constraints=None,\n              multi_strategy=None, n_estimators=1000, n_jobs=None,\n              num_parallel_tree=None, random_state=42, ...)</pre><b>In a Jupyter environment, please rerun this cell to show the HTML representation or trust the notebook. <br />On GitHub, the HTML representation is unable to render, please try loading this page with nbviewer.org.</b></div><div class=\"sk-container\" hidden><div class=\"sk-item\"><div class=\"sk-estimator sk-toggleable\"><input class=\"sk-toggleable__control sk-hidden--visually\" id=\"sk-estimator-id-8\" type=\"checkbox\" checked><label for=\"sk-estimator-id-8\" class=\"sk-toggleable__label sk-toggleable__label-arrow\">XGBClassifier</label><div class=\"sk-toggleable__content\"><pre>XGBClassifier(base_score=None, booster=None, callbacks=None,\n              colsample_bylevel=None, colsample_bynode=None,\n              colsample_bytree=None, device=&#x27;cuda&#x27;, early_stopping_rounds=10,\n              enable_categorical=False, eval_metric=&#x27;auc&#x27;, feature_types=None,\n              gamma=None, grow_policy=None, importance_type=None,\n              interaction_constraints=None, learning_rate=None, max_bin=None,\n              max_cat_threshold=None, max_cat_to_onehot=None,\n              max_delta_step=None, max_depth=None, max_leaves=None,\n              min_child_weight=None, missing=nan, monotone_constraints=None,\n              multi_strategy=None, n_estimators=1000, n_jobs=None,\n              num_parallel_tree=None, random_state=42, ...)</pre></div></div></div></div></div>"
     },
     "execution_count": 121,
     "metadata": {},
     "output_type": "execute_result"
    }
   ],
   "source": [
    "import warnings\n",
    "warnings.filterwarnings('ignore')\n",
    "\n",
    "model.fit(X_train,\n",
    "          y_train,\n",
    "          eval_set=[(X_val, y_val)],\n",
    "          verbose=True)"
   ],
   "metadata": {
    "collapsed": false,
    "ExecuteTime": {
     "end_time": "2023-10-14T21:52:55.879639300Z",
     "start_time": "2023-10-14T21:52:45.484818800Z"
    }
   },
   "id": "e14021a95e7de1e7"
  },
  {
   "cell_type": "code",
   "execution_count": 122,
   "outputs": [
    {
     "name": "stdout",
     "output_type": "stream",
     "text": [
      "Metric train = 0.99 - Metric val = 0.96 - Metric test = 0.97\n"
     ]
    }
   ],
   "source": [
    "pred_train_p = model.predict_proba(X_train)\n",
    "pred_val_p = model.predict_proba(X_val)\n",
    "pred_test_p = model.predict_proba(X_test)\n",
    "# Calcular métricas de evaluación\n",
    "auc_train = metric(y_train, pred_train_p[:,1])\n",
    "auc_val = metric(y_val, pred_val_p[:,1])\n",
    "auc_test = metric(y_test, pred_test_p[:,1])\n",
    "# print error\n",
    "print('Metric train = %.2f - Metric val = %.2f - Metric test = %.2f'\n",
    "      % (auc_train, auc_val, auc_test))"
   ],
   "metadata": {
    "collapsed": false,
    "ExecuteTime": {
     "end_time": "2023-10-14T21:53:14.124356500Z",
     "start_time": "2023-10-14T21:53:11.237287400Z"
    }
   },
   "id": "9c9006c4d5e25932"
  },
  {
   "cell_type": "code",
   "execution_count": 136,
   "outputs": [],
   "source": [
    "pred_te_tr_new_p = model.predict_proba(te_tr_new)[:, 1]"
   ],
   "metadata": {
    "collapsed": false,
    "ExecuteTime": {
     "end_time": "2023-10-14T21:57:41.037244300Z",
     "start_time": "2023-10-14T21:57:38.664778100Z"
    }
   },
   "id": "6ecb328d809156da"
  },
  {
   "cell_type": "code",
   "execution_count": 138,
   "outputs": [],
   "source": [
    "output_df = pd.DataFrame({\n",
    "    'TransactionID': te_tr_new.reset_index()['TransactionID'],\n",
    "    'isFraud': pred_te_tr_new_p\n",
    "})\n",
    "\n",
    "# Save to CSV\n",
    "output_df.to_csv('predicted_fraud.csv', index=False)"
   ],
   "metadata": {
    "collapsed": false,
    "ExecuteTime": {
     "end_time": "2023-10-14T21:57:55.843407500Z",
     "start_time": "2023-10-14T21:57:54.239020400Z"
    }
   },
   "id": "236080e76411f72"
  },
  {
   "cell_type": "code",
   "execution_count": 139,
   "outputs": [
    {
     "data": {
      "text/plain": "(506691, 2)"
     },
     "execution_count": 139,
     "metadata": {},
     "output_type": "execute_result"
    }
   ],
   "source": [
    "output_df.shape"
   ],
   "metadata": {
    "collapsed": false,
    "ExecuteTime": {
     "end_time": "2023-10-14T21:58:25.629962300Z",
     "start_time": "2023-10-14T21:58:25.606557700Z"
    }
   },
   "id": "8618a59165223e4"
  }
 ],
 "metadata": {
  "kernelspec": {
   "display_name": "Python 3",
   "language": "python",
   "name": "python3"
  },
  "language_info": {
   "codemirror_mode": {
    "name": "ipython",
    "version": 2
   },
   "file_extension": ".py",
   "mimetype": "text/x-python",
   "name": "python",
   "nbconvert_exporter": "python",
   "pygments_lexer": "ipython2",
   "version": "2.7.6"
  }
 },
 "nbformat": 4,
 "nbformat_minor": 5
}
