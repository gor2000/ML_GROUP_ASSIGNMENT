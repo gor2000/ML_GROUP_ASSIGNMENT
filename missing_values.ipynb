{
 "cells": [
  {
   "cell_type": "code",
   "execution_count": 1,
   "id": "initial_id",
   "metadata": {
    "collapsed": true,
    "ExecuteTime": {
     "end_time": "2023-10-14T16:51:23.690528700Z",
     "start_time": "2023-10-14T16:51:23.659100Z"
    }
   },
   "outputs": [],
   "source": [
    "import pandas as pd\n",
    "import matplotlib.pyplot as plt\n",
    "import seaborn as sns\n",
    "import math\n",
    "import joblib"
   ]
  },
  {
   "cell_type": "code",
   "execution_count": 2,
   "outputs": [],
   "source": [
    "from fancyimpute import IterativeImputer as MICE # pip install fancyimpute"
   ],
   "metadata": {
    "collapsed": false,
    "ExecuteTime": {
     "end_time": "2023-10-14T16:53:28.497434100Z",
     "start_time": "2023-10-14T16:53:26.898365400Z"
    }
   },
   "id": "bd6765480d6177a1"
  },
  {
   "cell_type": "code",
   "execution_count": 3,
   "outputs": [],
   "source": [
    "tr_tr_new = joblib.load('joblib/tr_tr_encoded.joblib')"
   ],
   "metadata": {
    "collapsed": false,
    "ExecuteTime": {
     "end_time": "2023-10-14T16:53:30.143959300Z",
     "start_time": "2023-10-14T16:53:29.476366600Z"
    }
   },
   "id": "4a49dbfc430beb43"
  },
  {
   "cell_type": "code",
   "execution_count": 4,
   "outputs": [],
   "source": [
    "te_tr_new = joblib.load('joblib/te_tr_encoded.joblib')"
   ],
   "metadata": {
    "collapsed": false,
    "ExecuteTime": {
     "end_time": "2023-10-14T16:53:32.456796200Z",
     "start_time": "2023-10-14T16:53:31.866387200Z"
    }
   },
   "id": "ce7dea385c080a42"
  },
  {
   "cell_type": "code",
   "execution_count": null,
   "outputs": [],
   "source": [
    "model = MICE()\n",
    "\n",
    "# 4) Train \"model\"\n",
    "model.fit(tr_tr_new)"
   ],
   "metadata": {
    "collapsed": false,
    "is_executing": true,
    "ExecuteTime": {
     "start_time": "2023-10-14T16:54:38.810646700Z"
    }
   },
   "id": "833530377188a99b"
  },
  {
   "cell_type": "code",
   "execution_count": null,
   "outputs": [],
   "source": [
    "# 5) \"Predict\"\n",
    "tr_tr_new = model.transform(tr_tr_new)"
   ],
   "metadata": {
    "collapsed": false
   },
   "id": "ee31f2c8015eb928"
  }
 ],
 "metadata": {
  "kernelspec": {
   "display_name": "Python 3",
   "language": "python",
   "name": "python3"
  },
  "language_info": {
   "codemirror_mode": {
    "name": "ipython",
    "version": 2
   },
   "file_extension": ".py",
   "mimetype": "text/x-python",
   "name": "python",
   "nbconvert_exporter": "python",
   "pygments_lexer": "ipython2",
   "version": "2.7.6"
  }
 },
 "nbformat": 4,
 "nbformat_minor": 5
}
