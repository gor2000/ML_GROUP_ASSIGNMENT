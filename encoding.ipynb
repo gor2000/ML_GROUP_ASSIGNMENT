{
 "cells": [
  {
   "cell_type": "code",
   "execution_count": 1,
   "id": "initial_id",
   "metadata": {
    "collapsed": true,
    "ExecuteTime": {
     "end_time": "2023-10-14T16:38:44.748114200Z",
     "start_time": "2023-10-14T16:38:44.667027Z"
    }
   },
   "outputs": [],
   "source": [
    "import pandas as pd\n",
    "import matplotlib.pyplot as plt\n",
    "import seaborn as sns\n",
    "import math\n",
    "import joblib"
   ]
  },
  {
   "cell_type": "code",
   "execution_count": 2,
   "outputs": [],
   "source": [
    "tr_tr_new = joblib.load('tr_tr_new.joblib')"
   ],
   "metadata": {
    "collapsed": false,
    "ExecuteTime": {
     "end_time": "2023-10-14T16:38:53.148264500Z",
     "start_time": "2023-10-14T16:38:48.139753400Z"
    }
   },
   "id": "92e6989a9d8baa6e"
  },
  {
   "cell_type": "code",
   "execution_count": 3,
   "outputs": [
    {
     "data": {
      "text/plain": "               addr2   C7    D4   card6   M6   C2   C4   D5 ProductCD  C14  \\\nTransactionID                                                                \n2987000         87.0  0.0   NaN  credit    T  1.0  0.0  NaN         W  1.0   \n2987001         87.0  0.0   0.0  credit    T  1.0  0.0  NaN         W  1.0   \n2987002         87.0  0.0   0.0   debit    F  1.0  0.0  NaN         W  1.0   \n2987003         87.0  0.0  94.0   debit    F  5.0  0.0  0.0         W  1.0   \n2987004         87.0  0.0   NaN  credit  NaN  1.0  0.0  NaN         H  1.0   \n\n               ...                id_31  id_32      id_33           id_34  \\\nTransactionID  ...                                                          \n2987000        ...                  NaN    NaN        NaN             NaN   \n2987001        ...                  NaN    NaN        NaN             NaN   \n2987002        ...                  NaN    NaN        NaN             NaN   \n2987003        ...                  NaN    NaN        NaN             NaN   \n2987004        ...  samsung browser 6.2   32.0  2220x1080  match_status:2   \n\n               id_35  id_36  id_37 id_38  DeviceType  \\\nTransactionID                                          \n2987000          NaN    NaN    NaN   NaN         NaN   \n2987001          NaN    NaN    NaN   NaN         NaN   \n2987002          NaN    NaN    NaN   NaN         NaN   \n2987003          NaN    NaN    NaN   NaN         NaN   \n2987004            T      F      T     T      mobile   \n\n                                  DeviceInfo  \nTransactionID                                 \n2987000                                  NaN  \n2987001                                  NaN  \n2987002                                  NaN  \n2987003                                  NaN  \n2987004        SAMSUNG SM-G892A Build/NRD90M  \n\n[5 rows x 215 columns]",
      "text/html": "<div>\n<style scoped>\n    .dataframe tbody tr th:only-of-type {\n        vertical-align: middle;\n    }\n\n    .dataframe tbody tr th {\n        vertical-align: top;\n    }\n\n    .dataframe thead th {\n        text-align: right;\n    }\n</style>\n<table border=\"1\" class=\"dataframe\">\n  <thead>\n    <tr style=\"text-align: right;\">\n      <th></th>\n      <th>addr2</th>\n      <th>C7</th>\n      <th>D4</th>\n      <th>card6</th>\n      <th>M6</th>\n      <th>C2</th>\n      <th>C4</th>\n      <th>D5</th>\n      <th>ProductCD</th>\n      <th>C14</th>\n      <th>...</th>\n      <th>id_31</th>\n      <th>id_32</th>\n      <th>id_33</th>\n      <th>id_34</th>\n      <th>id_35</th>\n      <th>id_36</th>\n      <th>id_37</th>\n      <th>id_38</th>\n      <th>DeviceType</th>\n      <th>DeviceInfo</th>\n    </tr>\n    <tr>\n      <th>TransactionID</th>\n      <th></th>\n      <th></th>\n      <th></th>\n      <th></th>\n      <th></th>\n      <th></th>\n      <th></th>\n      <th></th>\n      <th></th>\n      <th></th>\n      <th></th>\n      <th></th>\n      <th></th>\n      <th></th>\n      <th></th>\n      <th></th>\n      <th></th>\n      <th></th>\n      <th></th>\n      <th></th>\n      <th></th>\n    </tr>\n  </thead>\n  <tbody>\n    <tr>\n      <th>2987000</th>\n      <td>87.0</td>\n      <td>0.0</td>\n      <td>NaN</td>\n      <td>credit</td>\n      <td>T</td>\n      <td>1.0</td>\n      <td>0.0</td>\n      <td>NaN</td>\n      <td>W</td>\n      <td>1.0</td>\n      <td>...</td>\n      <td>NaN</td>\n      <td>NaN</td>\n      <td>NaN</td>\n      <td>NaN</td>\n      <td>NaN</td>\n      <td>NaN</td>\n      <td>NaN</td>\n      <td>NaN</td>\n      <td>NaN</td>\n      <td>NaN</td>\n    </tr>\n    <tr>\n      <th>2987001</th>\n      <td>87.0</td>\n      <td>0.0</td>\n      <td>0.0</td>\n      <td>credit</td>\n      <td>T</td>\n      <td>1.0</td>\n      <td>0.0</td>\n      <td>NaN</td>\n      <td>W</td>\n      <td>1.0</td>\n      <td>...</td>\n      <td>NaN</td>\n      <td>NaN</td>\n      <td>NaN</td>\n      <td>NaN</td>\n      <td>NaN</td>\n      <td>NaN</td>\n      <td>NaN</td>\n      <td>NaN</td>\n      <td>NaN</td>\n      <td>NaN</td>\n    </tr>\n    <tr>\n      <th>2987002</th>\n      <td>87.0</td>\n      <td>0.0</td>\n      <td>0.0</td>\n      <td>debit</td>\n      <td>F</td>\n      <td>1.0</td>\n      <td>0.0</td>\n      <td>NaN</td>\n      <td>W</td>\n      <td>1.0</td>\n      <td>...</td>\n      <td>NaN</td>\n      <td>NaN</td>\n      <td>NaN</td>\n      <td>NaN</td>\n      <td>NaN</td>\n      <td>NaN</td>\n      <td>NaN</td>\n      <td>NaN</td>\n      <td>NaN</td>\n      <td>NaN</td>\n    </tr>\n    <tr>\n      <th>2987003</th>\n      <td>87.0</td>\n      <td>0.0</td>\n      <td>94.0</td>\n      <td>debit</td>\n      <td>F</td>\n      <td>5.0</td>\n      <td>0.0</td>\n      <td>0.0</td>\n      <td>W</td>\n      <td>1.0</td>\n      <td>...</td>\n      <td>NaN</td>\n      <td>NaN</td>\n      <td>NaN</td>\n      <td>NaN</td>\n      <td>NaN</td>\n      <td>NaN</td>\n      <td>NaN</td>\n      <td>NaN</td>\n      <td>NaN</td>\n      <td>NaN</td>\n    </tr>\n    <tr>\n      <th>2987004</th>\n      <td>87.0</td>\n      <td>0.0</td>\n      <td>NaN</td>\n      <td>credit</td>\n      <td>NaN</td>\n      <td>1.0</td>\n      <td>0.0</td>\n      <td>NaN</td>\n      <td>H</td>\n      <td>1.0</td>\n      <td>...</td>\n      <td>samsung browser 6.2</td>\n      <td>32.0</td>\n      <td>2220x1080</td>\n      <td>match_status:2</td>\n      <td>T</td>\n      <td>F</td>\n      <td>T</td>\n      <td>T</td>\n      <td>mobile</td>\n      <td>SAMSUNG SM-G892A Build/NRD90M</td>\n    </tr>\n  </tbody>\n</table>\n<p>5 rows × 215 columns</p>\n</div>"
     },
     "execution_count": 3,
     "metadata": {},
     "output_type": "execute_result"
    }
   ],
   "source": [
    "tr_tr_new.head()"
   ],
   "metadata": {
    "collapsed": false,
    "ExecuteTime": {
     "end_time": "2023-10-14T16:38:54.718077300Z",
     "start_time": "2023-10-14T16:38:54.682778400Z"
    }
   },
   "id": "b4c97f9e91f097df"
  },
  {
   "cell_type": "code",
   "execution_count": 4,
   "outputs": [],
   "source": [
    "te_tr_new = joblib.load('te_tr_new.joblib')"
   ],
   "metadata": {
    "collapsed": false,
    "ExecuteTime": {
     "end_time": "2023-10-14T16:39:02.688186300Z",
     "start_time": "2023-10-14T16:38:57.782364200Z"
    }
   },
   "id": "7d65ab9b1afeaea7"
  },
  {
   "cell_type": "code",
   "execution_count": 50,
   "outputs": [
    {
     "data": {
      "text/plain": "               addr2   C7     D4  card6 M6   C2   C4    D5 ProductCD  C14  \\\nTransactionID                                                               \n3663549         87.0  0.0  398.0  debit  F  6.0  0.0  27.0         W  6.0   \n3663550         87.0  0.0  634.0  debit  F  2.0  0.0   7.0         W  2.0   \n3663551         87.0  0.0   97.0  debit  F  2.0  0.0  10.0         W  2.0   \n3663552         87.0  0.0  242.0  debit  T  2.0  0.0  41.0         W  4.0   \n3663553         87.0  0.0   22.0  debit  F  6.0  0.0   0.0         W  6.0   \n\n               ...  id-31  id-32  id-33  id-34  id-35  id-36  id-37 id-38  \\\nTransactionID  ...                                                          \n3663549        ...    NaN    NaN    NaN    NaN    NaN    NaN    NaN   NaN   \n3663550        ...    NaN    NaN    NaN    NaN    NaN    NaN    NaN   NaN   \n3663551        ...    NaN    NaN    NaN    NaN    NaN    NaN    NaN   NaN   \n3663552        ...    NaN    NaN    NaN    NaN    NaN    NaN    NaN   NaN   \n3663553        ...    NaN    NaN    NaN    NaN    NaN    NaN    NaN   NaN   \n\n               DeviceType  DeviceInfo  \nTransactionID                          \n3663549               NaN         NaN  \n3663550               NaN         NaN  \n3663551               NaN         NaN  \n3663552               NaN         NaN  \n3663553               NaN         NaN  \n\n[5 rows x 214 columns]",
      "text/html": "<div>\n<style scoped>\n    .dataframe tbody tr th:only-of-type {\n        vertical-align: middle;\n    }\n\n    .dataframe tbody tr th {\n        vertical-align: top;\n    }\n\n    .dataframe thead th {\n        text-align: right;\n    }\n</style>\n<table border=\"1\" class=\"dataframe\">\n  <thead>\n    <tr style=\"text-align: right;\">\n      <th></th>\n      <th>addr2</th>\n      <th>C7</th>\n      <th>D4</th>\n      <th>card6</th>\n      <th>M6</th>\n      <th>C2</th>\n      <th>C4</th>\n      <th>D5</th>\n      <th>ProductCD</th>\n      <th>C14</th>\n      <th>...</th>\n      <th>id-31</th>\n      <th>id-32</th>\n      <th>id-33</th>\n      <th>id-34</th>\n      <th>id-35</th>\n      <th>id-36</th>\n      <th>id-37</th>\n      <th>id-38</th>\n      <th>DeviceType</th>\n      <th>DeviceInfo</th>\n    </tr>\n    <tr>\n      <th>TransactionID</th>\n      <th></th>\n      <th></th>\n      <th></th>\n      <th></th>\n      <th></th>\n      <th></th>\n      <th></th>\n      <th></th>\n      <th></th>\n      <th></th>\n      <th></th>\n      <th></th>\n      <th></th>\n      <th></th>\n      <th></th>\n      <th></th>\n      <th></th>\n      <th></th>\n      <th></th>\n      <th></th>\n      <th></th>\n    </tr>\n  </thead>\n  <tbody>\n    <tr>\n      <th>3663549</th>\n      <td>87.0</td>\n      <td>0.0</td>\n      <td>398.0</td>\n      <td>debit</td>\n      <td>F</td>\n      <td>6.0</td>\n      <td>0.0</td>\n      <td>27.0</td>\n      <td>W</td>\n      <td>6.0</td>\n      <td>...</td>\n      <td>NaN</td>\n      <td>NaN</td>\n      <td>NaN</td>\n      <td>NaN</td>\n      <td>NaN</td>\n      <td>NaN</td>\n      <td>NaN</td>\n      <td>NaN</td>\n      <td>NaN</td>\n      <td>NaN</td>\n    </tr>\n    <tr>\n      <th>3663550</th>\n      <td>87.0</td>\n      <td>0.0</td>\n      <td>634.0</td>\n      <td>debit</td>\n      <td>F</td>\n      <td>2.0</td>\n      <td>0.0</td>\n      <td>7.0</td>\n      <td>W</td>\n      <td>2.0</td>\n      <td>...</td>\n      <td>NaN</td>\n      <td>NaN</td>\n      <td>NaN</td>\n      <td>NaN</td>\n      <td>NaN</td>\n      <td>NaN</td>\n      <td>NaN</td>\n      <td>NaN</td>\n      <td>NaN</td>\n      <td>NaN</td>\n    </tr>\n    <tr>\n      <th>3663551</th>\n      <td>87.0</td>\n      <td>0.0</td>\n      <td>97.0</td>\n      <td>debit</td>\n      <td>F</td>\n      <td>2.0</td>\n      <td>0.0</td>\n      <td>10.0</td>\n      <td>W</td>\n      <td>2.0</td>\n      <td>...</td>\n      <td>NaN</td>\n      <td>NaN</td>\n      <td>NaN</td>\n      <td>NaN</td>\n      <td>NaN</td>\n      <td>NaN</td>\n      <td>NaN</td>\n      <td>NaN</td>\n      <td>NaN</td>\n      <td>NaN</td>\n    </tr>\n    <tr>\n      <th>3663552</th>\n      <td>87.0</td>\n      <td>0.0</td>\n      <td>242.0</td>\n      <td>debit</td>\n      <td>T</td>\n      <td>2.0</td>\n      <td>0.0</td>\n      <td>41.0</td>\n      <td>W</td>\n      <td>4.0</td>\n      <td>...</td>\n      <td>NaN</td>\n      <td>NaN</td>\n      <td>NaN</td>\n      <td>NaN</td>\n      <td>NaN</td>\n      <td>NaN</td>\n      <td>NaN</td>\n      <td>NaN</td>\n      <td>NaN</td>\n      <td>NaN</td>\n    </tr>\n    <tr>\n      <th>3663553</th>\n      <td>87.0</td>\n      <td>0.0</td>\n      <td>22.0</td>\n      <td>debit</td>\n      <td>F</td>\n      <td>6.0</td>\n      <td>0.0</td>\n      <td>0.0</td>\n      <td>W</td>\n      <td>6.0</td>\n      <td>...</td>\n      <td>NaN</td>\n      <td>NaN</td>\n      <td>NaN</td>\n      <td>NaN</td>\n      <td>NaN</td>\n      <td>NaN</td>\n      <td>NaN</td>\n      <td>NaN</td>\n      <td>NaN</td>\n      <td>NaN</td>\n    </tr>\n  </tbody>\n</table>\n<p>5 rows × 214 columns</p>\n</div>"
     },
     "execution_count": 50,
     "metadata": {},
     "output_type": "execute_result"
    }
   ],
   "source": [
    "te_tr_new.head()"
   ],
   "metadata": {
    "collapsed": false,
    "ExecuteTime": {
     "end_time": "2023-10-14T10:47:19.432060800Z",
     "start_time": "2023-10-14T10:47:19.416545200Z"
    }
   },
   "id": "999eb2611f3c923c"
  },
  {
   "cell_type": "code",
   "execution_count": 5,
   "outputs": [],
   "source": [
    "tr_tr_new.drop(columns=['isFraud'], inplace=True)"
   ],
   "metadata": {
    "collapsed": false,
    "ExecuteTime": {
     "end_time": "2023-10-14T16:39:05.342553200Z",
     "start_time": "2023-10-14T16:39:05.065146300Z"
    }
   },
   "id": "c55f446a424a3ff3"
  },
  {
   "cell_type": "code",
   "execution_count": 69,
   "outputs": [
    {
     "name": "stdout",
     "output_type": "stream",
     "text": [
      "(590540, 214) (506691, 214)\n"
     ]
    }
   ],
   "source": [
    "print(tr_tr_new.shape, te_tr_new.shape)"
   ],
   "metadata": {
    "collapsed": false,
    "ExecuteTime": {
     "end_time": "2023-10-14T16:06:17.602636900Z",
     "start_time": "2023-10-14T16:06:17.576955300Z"
    }
   },
   "id": "f205e72d0b51b931"
  },
  {
   "cell_type": "code",
   "execution_count": 53,
   "outputs": [
    {
     "data": {
      "text/plain": "addr2         float64\nC7            float64\nD4            float64\ncard6          object\nM6             object\n               ...   \nid_36          object\nid_37          object\nid_38          object\nDeviceType     object\nDeviceInfo     object\nLength: 214, dtype: object"
     },
     "execution_count": 53,
     "metadata": {},
     "output_type": "execute_result"
    }
   ],
   "source": [
    "tr_tr_new.dtypes"
   ],
   "metadata": {
    "collapsed": false,
    "ExecuteTime": {
     "end_time": "2023-10-14T10:47:19.781401700Z",
     "start_time": "2023-10-14T10:47:19.737142100Z"
    }
   },
   "id": "68b76aad148d49f6"
  },
  {
   "cell_type": "code",
   "execution_count": 54,
   "outputs": [
    {
     "data": {
      "text/plain": "id_12\nNaN         446307\nNotFound    123025\nFound        21208\nName: count, dtype: int64"
     },
     "execution_count": 54,
     "metadata": {},
     "output_type": "execute_result"
    }
   ],
   "source": [
    "tr_tr_new['id_12'].value_counts(dropna=False)"
   ],
   "metadata": {
    "collapsed": false,
    "ExecuteTime": {
     "end_time": "2023-10-14T10:47:19.832113900Z",
     "start_time": "2023-10-14T10:47:19.757369200Z"
    }
   },
   "id": "5c793c466b7b4848"
  },
  {
   "cell_type": "code",
   "execution_count": 6,
   "outputs": [],
   "source": [
    "te_tr_new.rename(columns=lambda col: col.replace('id-', 'id_'), inplace=True)"
   ],
   "metadata": {
    "collapsed": false,
    "ExecuteTime": {
     "end_time": "2023-10-14T16:39:09.930393400Z",
     "start_time": "2023-10-14T16:39:09.918867300Z"
    }
   },
   "id": "f72e0b2d84632e57"
  },
  {
   "cell_type": "code",
   "execution_count": 56,
   "outputs": [
    {
     "data": {
      "text/plain": "['id_01',\n 'id_02',\n 'id_03',\n 'id_04',\n 'id_05',\n 'id_06',\n 'id_07',\n 'id_08',\n 'id_09',\n 'id_10',\n 'id_11',\n 'id_12',\n 'id_13',\n 'id_14',\n 'id_15',\n 'id_16',\n 'id_17',\n 'id_18',\n 'id_19',\n 'id_20',\n 'id_21',\n 'id_22',\n 'id_23',\n 'id_24',\n 'id_25',\n 'id_26',\n 'id_27',\n 'id_28',\n 'id_29',\n 'id_30',\n 'id_31',\n 'id_32',\n 'id_33',\n 'id_34',\n 'id_35',\n 'id_36',\n 'id_37',\n 'id_38']"
     },
     "execution_count": 56,
     "metadata": {},
     "output_type": "execute_result"
    }
   ],
   "source": [
    "[col for col in tr_tr_new.columns if col.startswith('id_')]"
   ],
   "metadata": {
    "collapsed": false,
    "ExecuteTime": {
     "end_time": "2023-10-14T10:47:19.832113900Z",
     "start_time": "2023-10-14T10:47:19.801087Z"
    }
   },
   "id": "89eb83effcb70958"
  },
  {
   "cell_type": "code",
   "execution_count": 7,
   "outputs": [],
   "source": [
    "cat_var = ['ProductCD', \n",
    "           'card6', 'card2', 'card5', 'card1', 'card4', 'card3',\n",
    "           'addr2', 'addr1',\n",
    "           'P_emaildomain',\n",
    "           'R_emaildomain',\n",
    "           'M6', 'M7', 'M8', 'M4', 'M9', 'M1', 'M2', 'M5', 'M3',\n",
    "           'DeviceType',\n",
    "           'DeviceInfo',\n",
    "           'id_12', 'id_13', 'id_14', 'id_15', 'id_16', 'id_17', 'id_18', 'id_19',\n",
    "           'id_20', 'id_21', 'id_22', 'id_23', 'id_24', 'id_25', 'id_26', 'id_27',\n",
    "           'id_28', 'id_29', 'id_30', 'id_31', 'id_32', 'id_33', 'id_34', 'id_35', \n",
    "           'id_36', 'id_37', 'id_38']"
   ],
   "metadata": {
    "collapsed": false,
    "ExecuteTime": {
     "end_time": "2023-10-14T16:39:12.935319600Z",
     "start_time": "2023-10-14T16:39:12.923787200Z"
    }
   },
   "id": "955d32fbcbd56fff"
  },
  {
   "cell_type": "code",
   "execution_count": 8,
   "outputs": [],
   "source": [
    "non_categorical_vars = list(set(tr_tr_new.columns) - set(cat_var))"
   ],
   "metadata": {
    "collapsed": false,
    "ExecuteTime": {
     "end_time": "2023-10-14T16:39:15.622324500Z",
     "start_time": "2023-10-14T16:39:15.608768600Z"
    }
   },
   "id": "94ac9f555542b3ef"
  },
  {
   "cell_type": "code",
   "execution_count": 9,
   "outputs": [],
   "source": [
    "one_hot_vars = ['ProductCD', 'M6', 'M7', 'M8', 'M4', 'M9', 'M1', 'M2', 'M5', 'M3', 'DeviceType', 'id_12',\n",
    "                'id_15','id_16', 'id_23', 'id_27', 'id_28', 'id_29', 'id_32', 'id_34','id_35', 'id_36', 'id_37', 'id_38']"
   ],
   "metadata": {
    "collapsed": false,
    "ExecuteTime": {
     "end_time": "2023-10-14T16:39:17.493764700Z",
     "start_time": "2023-10-14T16:39:17.479726400Z"
    }
   },
   "id": "4ec646640a1d4385"
  },
  {
   "cell_type": "code",
   "execution_count": 73,
   "outputs": [
    {
     "data": {
      "text/plain": "id_38\nF    95058\nT    41919\nName: count, dtype: int64"
     },
     "execution_count": 73,
     "metadata": {},
     "output_type": "execute_result"
    }
   ],
   "source": [
    "te_tr_new['id_38'].value_counts()"
   ],
   "metadata": {
    "collapsed": false,
    "ExecuteTime": {
     "end_time": "2023-10-14T16:28:08.393513900Z",
     "start_time": "2023-10-14T16:28:08.363286300Z"
    }
   },
   "id": "2639e6af1b7d2b60"
  },
  {
   "cell_type": "code",
   "execution_count": 11,
   "outputs": [],
   "source": [
    "from sklearn.preprocessing import LabelEncoder\n",
    "\n",
    "target_encode_vars = list(set(cat_var) - set(one_hot_vars))\n",
    "\n",
    "# Perform label encoding on the specified variables\n",
    "label_encoders = {}  # Store each encoder for potential use later\n",
    "\n",
    "for var in target_encode_vars:\n",
    "    le = LabelEncoder()\n",
    "    \n",
    "    # Fit on combined data to ensure all categories are known (useful for unseen categories in the test set)\n",
    "    combined_data = pd.concat([tr_tr_new[var], te_tr_new[var]], axis=0)\n",
    "    le.fit(combined_data)\n",
    "    \n",
    "    tr_tr_new[var] = le.transform(tr_tr_new[var])\n",
    "    te_tr_new[var] = le.transform(te_tr_new[var])\n",
    "    \n",
    "    label_encoders[var] = le"
   ],
   "metadata": {
    "collapsed": false,
    "ExecuteTime": {
     "end_time": "2023-10-14T16:43:48.740835Z",
     "start_time": "2023-10-14T16:43:40.270389Z"
    }
   },
   "id": "4462db8ace6ded00"
  },
  {
   "cell_type": "code",
   "execution_count": 12,
   "outputs": [
    {
     "data": {
      "text/plain": "OneHotEncoder(drop='first', handle_unknown='ignore', sparse_output=False)",
      "text/html": "<style>#sk-container-id-1 {color: black;}#sk-container-id-1 pre{padding: 0;}#sk-container-id-1 div.sk-toggleable {background-color: white;}#sk-container-id-1 label.sk-toggleable__label {cursor: pointer;display: block;width: 100%;margin-bottom: 0;padding: 0.3em;box-sizing: border-box;text-align: center;}#sk-container-id-1 label.sk-toggleable__label-arrow:before {content: \"▸\";float: left;margin-right: 0.25em;color: #696969;}#sk-container-id-1 label.sk-toggleable__label-arrow:hover:before {color: black;}#sk-container-id-1 div.sk-estimator:hover label.sk-toggleable__label-arrow:before {color: black;}#sk-container-id-1 div.sk-toggleable__content {max-height: 0;max-width: 0;overflow: hidden;text-align: left;background-color: #f0f8ff;}#sk-container-id-1 div.sk-toggleable__content pre {margin: 0.2em;color: black;border-radius: 0.25em;background-color: #f0f8ff;}#sk-container-id-1 input.sk-toggleable__control:checked~div.sk-toggleable__content {max-height: 200px;max-width: 100%;overflow: auto;}#sk-container-id-1 input.sk-toggleable__control:checked~label.sk-toggleable__label-arrow:before {content: \"▾\";}#sk-container-id-1 div.sk-estimator input.sk-toggleable__control:checked~label.sk-toggleable__label {background-color: #d4ebff;}#sk-container-id-1 div.sk-label input.sk-toggleable__control:checked~label.sk-toggleable__label {background-color: #d4ebff;}#sk-container-id-1 input.sk-hidden--visually {border: 0;clip: rect(1px 1px 1px 1px);clip: rect(1px, 1px, 1px, 1px);height: 1px;margin: -1px;overflow: hidden;padding: 0;position: absolute;width: 1px;}#sk-container-id-1 div.sk-estimator {font-family: monospace;background-color: #f0f8ff;border: 1px dotted black;border-radius: 0.25em;box-sizing: border-box;margin-bottom: 0.5em;}#sk-container-id-1 div.sk-estimator:hover {background-color: #d4ebff;}#sk-container-id-1 div.sk-parallel-item::after {content: \"\";width: 100%;border-bottom: 1px solid gray;flex-grow: 1;}#sk-container-id-1 div.sk-label:hover label.sk-toggleable__label {background-color: #d4ebff;}#sk-container-id-1 div.sk-serial::before {content: \"\";position: absolute;border-left: 1px solid gray;box-sizing: border-box;top: 0;bottom: 0;left: 50%;z-index: 0;}#sk-container-id-1 div.sk-serial {display: flex;flex-direction: column;align-items: center;background-color: white;padding-right: 0.2em;padding-left: 0.2em;position: relative;}#sk-container-id-1 div.sk-item {position: relative;z-index: 1;}#sk-container-id-1 div.sk-parallel {display: flex;align-items: stretch;justify-content: center;background-color: white;position: relative;}#sk-container-id-1 div.sk-item::before, #sk-container-id-1 div.sk-parallel-item::before {content: \"\";position: absolute;border-left: 1px solid gray;box-sizing: border-box;top: 0;bottom: 0;left: 50%;z-index: -1;}#sk-container-id-1 div.sk-parallel-item {display: flex;flex-direction: column;z-index: 1;position: relative;background-color: white;}#sk-container-id-1 div.sk-parallel-item:first-child::after {align-self: flex-end;width: 50%;}#sk-container-id-1 div.sk-parallel-item:last-child::after {align-self: flex-start;width: 50%;}#sk-container-id-1 div.sk-parallel-item:only-child::after {width: 0;}#sk-container-id-1 div.sk-dashed-wrapped {border: 1px dashed gray;margin: 0 0.4em 0.5em 0.4em;box-sizing: border-box;padding-bottom: 0.4em;background-color: white;}#sk-container-id-1 div.sk-label label {font-family: monospace;font-weight: bold;display: inline-block;line-height: 1.2em;}#sk-container-id-1 div.sk-label-container {text-align: center;}#sk-container-id-1 div.sk-container {/* jupyter's `normalize.less` sets `[hidden] { display: none; }` but bootstrap.min.css set `[hidden] { display: none !important; }` so we also need the `!important` here to be able to override the default hidden behavior on the sphinx rendered scikit-learn.org. See: https://github.com/scikit-learn/scikit-learn/issues/21755 */display: inline-block !important;position: relative;}#sk-container-id-1 div.sk-text-repr-fallback {display: none;}</style><div id=\"sk-container-id-1\" class=\"sk-top-container\"><div class=\"sk-text-repr-fallback\"><pre>OneHotEncoder(drop=&#x27;first&#x27;, handle_unknown=&#x27;ignore&#x27;, sparse_output=False)</pre><b>In a Jupyter environment, please rerun this cell to show the HTML representation or trust the notebook. <br />On GitHub, the HTML representation is unable to render, please try loading this page with nbviewer.org.</b></div><div class=\"sk-container\" hidden><div class=\"sk-item\"><div class=\"sk-estimator sk-toggleable\"><input class=\"sk-toggleable__control sk-hidden--visually\" id=\"sk-estimator-id-1\" type=\"checkbox\" checked><label for=\"sk-estimator-id-1\" class=\"sk-toggleable__label sk-toggleable__label-arrow\">OneHotEncoder</label><div class=\"sk-toggleable__content\"><pre>OneHotEncoder(drop=&#x27;first&#x27;, handle_unknown=&#x27;ignore&#x27;, sparse_output=False)</pre></div></div></div></div></div>"
     },
     "execution_count": 12,
     "metadata": {},
     "output_type": "execute_result"
    }
   ],
   "source": [
    "from sklearn.preprocessing import OneHotEncoder\n",
    "\n",
    "# 3) Define \"model\"\n",
    "ohe = OneHotEncoder(sparse_output=False, drop='first', handle_unknown='ignore')\n",
    "\n",
    "# 4) Train \"model\" on the training dataset\n",
    "ohe.fit(tr_tr_new[one_hot_vars])"
   ],
   "metadata": {
    "collapsed": false,
    "ExecuteTime": {
     "end_time": "2023-10-14T16:43:57.167460Z",
     "start_time": "2023-10-14T16:43:51.725697400Z"
    }
   },
   "id": "8fba590ae4091813"
  },
  {
   "cell_type": "code",
   "execution_count": 13,
   "outputs": [],
   "source": [
    "# 5) \"Predict\" for both train and test datasets\n",
    "tr_ohe = pd.DataFrame(ohe.transform(tr_tr_new[one_hot_vars]))"
   ],
   "metadata": {
    "collapsed": false,
    "ExecuteTime": {
     "end_time": "2023-10-14T16:44:35.930815200Z",
     "start_time": "2023-10-14T16:44:22.965248200Z"
    }
   },
   "id": "ab4a20e195e42f04"
  },
  {
   "cell_type": "code",
   "execution_count": 14,
   "outputs": [
    {
     "data": {
      "text/plain": "   0      1      2      3      4      5      6      7      8      9      ...  \\\n0    0.0    0.0    0.0    1.0    1.0    0.0    0.0    0.0    0.0    0.0  ...   \n1    0.0    0.0    0.0    1.0    1.0    0.0    0.0    0.0    0.0    0.0  ...   \n2    0.0    0.0    0.0    1.0    0.0    1.0    0.0    0.0    0.0    0.0  ...   \n3    0.0    0.0    0.0    1.0    0.0    1.0    0.0    0.0    0.0    0.0  ...   \n4    1.0    0.0    0.0    0.0    1.0    0.0    0.0    0.0    0.0    0.0  ...   \n\n   19196  19197  19198  19199  19200  19201  19202  19203  19204  19205  \n0    0.0    1.0    0.0    1.0    0.0    1.0    0.0    1.0    0.0    1.0  \n1    0.0    1.0    0.0    1.0    0.0    1.0    0.0    1.0    0.0    1.0  \n2    0.0    1.0    0.0    1.0    0.0    1.0    0.0    1.0    0.0    1.0  \n3    0.0    1.0    0.0    1.0    0.0    1.0    0.0    1.0    0.0    1.0  \n4    1.0    0.0    1.0    0.0    0.0    0.0    1.0    0.0    1.0    0.0  \n\n[5 rows x 19206 columns]",
      "text/html": "<div>\n<style scoped>\n    .dataframe tbody tr th:only-of-type {\n        vertical-align: middle;\n    }\n\n    .dataframe tbody tr th {\n        vertical-align: top;\n    }\n\n    .dataframe thead th {\n        text-align: right;\n    }\n</style>\n<table border=\"1\" class=\"dataframe\">\n  <thead>\n    <tr style=\"text-align: right;\">\n      <th></th>\n      <th>0</th>\n      <th>1</th>\n      <th>2</th>\n      <th>3</th>\n      <th>4</th>\n      <th>5</th>\n      <th>6</th>\n      <th>7</th>\n      <th>8</th>\n      <th>9</th>\n      <th>...</th>\n      <th>19196</th>\n      <th>19197</th>\n      <th>19198</th>\n      <th>19199</th>\n      <th>19200</th>\n      <th>19201</th>\n      <th>19202</th>\n      <th>19203</th>\n      <th>19204</th>\n      <th>19205</th>\n    </tr>\n  </thead>\n  <tbody>\n    <tr>\n      <th>0</th>\n      <td>0.0</td>\n      <td>0.0</td>\n      <td>0.0</td>\n      <td>1.0</td>\n      <td>1.0</td>\n      <td>0.0</td>\n      <td>0.0</td>\n      <td>0.0</td>\n      <td>0.0</td>\n      <td>0.0</td>\n      <td>...</td>\n      <td>0.0</td>\n      <td>1.0</td>\n      <td>0.0</td>\n      <td>1.0</td>\n      <td>0.0</td>\n      <td>1.0</td>\n      <td>0.0</td>\n      <td>1.0</td>\n      <td>0.0</td>\n      <td>1.0</td>\n    </tr>\n    <tr>\n      <th>1</th>\n      <td>0.0</td>\n      <td>0.0</td>\n      <td>0.0</td>\n      <td>1.0</td>\n      <td>1.0</td>\n      <td>0.0</td>\n      <td>0.0</td>\n      <td>0.0</td>\n      <td>0.0</td>\n      <td>0.0</td>\n      <td>...</td>\n      <td>0.0</td>\n      <td>1.0</td>\n      <td>0.0</td>\n      <td>1.0</td>\n      <td>0.0</td>\n      <td>1.0</td>\n      <td>0.0</td>\n      <td>1.0</td>\n      <td>0.0</td>\n      <td>1.0</td>\n    </tr>\n    <tr>\n      <th>2</th>\n      <td>0.0</td>\n      <td>0.0</td>\n      <td>0.0</td>\n      <td>1.0</td>\n      <td>0.0</td>\n      <td>1.0</td>\n      <td>0.0</td>\n      <td>0.0</td>\n      <td>0.0</td>\n      <td>0.0</td>\n      <td>...</td>\n      <td>0.0</td>\n      <td>1.0</td>\n      <td>0.0</td>\n      <td>1.0</td>\n      <td>0.0</td>\n      <td>1.0</td>\n      <td>0.0</td>\n      <td>1.0</td>\n      <td>0.0</td>\n      <td>1.0</td>\n    </tr>\n    <tr>\n      <th>3</th>\n      <td>0.0</td>\n      <td>0.0</td>\n      <td>0.0</td>\n      <td>1.0</td>\n      <td>0.0</td>\n      <td>1.0</td>\n      <td>0.0</td>\n      <td>0.0</td>\n      <td>0.0</td>\n      <td>0.0</td>\n      <td>...</td>\n      <td>0.0</td>\n      <td>1.0</td>\n      <td>0.0</td>\n      <td>1.0</td>\n      <td>0.0</td>\n      <td>1.0</td>\n      <td>0.0</td>\n      <td>1.0</td>\n      <td>0.0</td>\n      <td>1.0</td>\n    </tr>\n    <tr>\n      <th>4</th>\n      <td>1.0</td>\n      <td>0.0</td>\n      <td>0.0</td>\n      <td>0.0</td>\n      <td>1.0</td>\n      <td>0.0</td>\n      <td>0.0</td>\n      <td>0.0</td>\n      <td>0.0</td>\n      <td>0.0</td>\n      <td>...</td>\n      <td>1.0</td>\n      <td>0.0</td>\n      <td>1.0</td>\n      <td>0.0</td>\n      <td>0.0</td>\n      <td>0.0</td>\n      <td>1.0</td>\n      <td>0.0</td>\n      <td>1.0</td>\n      <td>0.0</td>\n    </tr>\n  </tbody>\n</table>\n<p>5 rows × 19206 columns</p>\n</div>"
     },
     "execution_count": 14,
     "metadata": {},
     "output_type": "execute_result"
    }
   ],
   "source": [
    "tr_ohe.head()"
   ],
   "metadata": {
    "collapsed": false,
    "ExecuteTime": {
     "start_time": "2023-10-14T16:16:57.529948600Z"
    }
   },
   "id": "747e4be74173aceb"
  },
  {
   "cell_type": "code",
   "execution_count": 14,
   "outputs": [
    {
     "name": "stderr",
     "output_type": "stream",
     "text": [
      "J:\\IE\\SECOND TERM\\MLII\\venv\\Lib\\site-packages\\sklearn\\preprocessing\\_encoders.py:227: UserWarning: Found unknown categories in columns [18] during transform. These unknown categories will be encoded as all zeros\n",
      "  warnings.warn(\n"
     ]
    }
   ],
   "source": [
    "te_ohe = pd.DataFrame(ohe.transform(te_tr_new[one_hot_vars]))"
   ],
   "metadata": {
    "collapsed": false,
    "ExecuteTime": {
     "end_time": "2023-10-14T16:48:09.224979600Z",
     "start_time": "2023-10-14T16:47:58.463138800Z"
    }
   },
   "id": "4a32f8e3bd586dde"
  },
  {
   "cell_type": "code",
   "execution_count": 15,
   "outputs": [],
   "source": [
    "# Optional: Name the columns\n",
    "tr_ohe.columns = ohe.get_feature_names_out()\n",
    "te_ohe.columns = ohe.get_feature_names_out()\n",
    "\n",
    "# Combine numerical and categorical for both train and test datasets\n",
    "tr_tr_new = pd.concat((tr_tr_new[non_categorical_vars], tr_ohe), axis=1)\n",
    "te_tr_new = pd.concat((te_tr_new[non_categorical_vars], te_ohe), axis=1)"
   ],
   "metadata": {
    "collapsed": false,
    "ExecuteTime": {
     "end_time": "2023-10-14T16:48:12.728979Z",
     "start_time": "2023-10-14T16:48:10.844217900Z"
    }
   },
   "id": "69b40b103ed8f1f2"
  },
  {
   "cell_type": "code",
   "execution_count": 16,
   "outputs": [
    {
     "data": {
      "text/plain": "['te_tr_encoded.joblib']"
     },
     "execution_count": 16,
     "metadata": {},
     "output_type": "execute_result"
    }
   ],
   "source": [
    "import joblib\n",
    "\n",
    "joblib.dump(tr_tr_new, 'tr_tr_encoded.joblib')\n",
    "joblib.dump(te_tr_new, 'te_tr_encoded.joblib')"
   ],
   "metadata": {
    "collapsed": false,
    "ExecuteTime": {
     "end_time": "2023-10-14T16:49:43.573438300Z",
     "start_time": "2023-10-14T16:49:18.755511500Z"
    }
   },
   "id": "7df88e55afeab470"
  },
  {
   "cell_type": "markdown",
   "source": [],
   "metadata": {
    "collapsed": false
   },
   "id": "b5bfc30b6fba6411"
  }
 ],
 "metadata": {
  "kernelspec": {
   "display_name": "Python 3",
   "language": "python",
   "name": "python3"
  },
  "language_info": {
   "codemirror_mode": {
    "name": "ipython",
    "version": 2
   },
   "file_extension": ".py",
   "mimetype": "text/x-python",
   "name": "python",
   "nbconvert_exporter": "python",
   "pygments_lexer": "ipython2",
   "version": "2.7.6"
  }
 },
 "nbformat": 4,
 "nbformat_minor": 5
}
