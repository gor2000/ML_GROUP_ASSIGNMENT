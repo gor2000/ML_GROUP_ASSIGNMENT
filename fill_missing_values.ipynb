{
 "cells": [
  {
   "cell_type": "code",
   "execution_count": 46,
   "id": "initial_id",
   "metadata": {
    "collapsed": true,
    "ExecuteTime": {
     "end_time": "2023-10-14T10:47:17.167542400Z",
     "start_time": "2023-10-14T10:47:16.978149800Z"
    }
   },
   "outputs": [],
   "source": [
    "import pandas as pd\n",
    "import matplotlib.pyplot as plt\n",
    "import seaborn as sns\n",
    "import math\n",
    "import joblib"
   ]
  },
  {
   "cell_type": "code",
   "execution_count": 47,
   "outputs": [],
   "source": [
    "tr_tr_new = joblib.load('tr_tr_new.joblib')"
   ],
   "metadata": {
    "collapsed": false,
    "ExecuteTime": {
     "end_time": "2023-10-14T10:47:18.329624400Z",
     "start_time": "2023-10-14T10:47:16.982173100Z"
    }
   },
   "id": "92e6989a9d8baa6e"
  },
  {
   "cell_type": "code",
   "execution_count": 48,
   "outputs": [
    {
     "data": {
      "text/plain": "               addr2   C7    D4   card6   M6   C2   C4   D5 ProductCD  C14  \\\nTransactionID                                                                \n2987000         87.0  0.0   NaN  credit    T  1.0  0.0  NaN         W  1.0   \n2987001         87.0  0.0   0.0  credit    T  1.0  0.0  NaN         W  1.0   \n2987002         87.0  0.0   0.0   debit    F  1.0  0.0  NaN         W  1.0   \n2987003         87.0  0.0  94.0   debit    F  5.0  0.0  0.0         W  1.0   \n2987004         87.0  0.0   NaN  credit  NaN  1.0  0.0  NaN         H  1.0   \n\n               ...                id_31  id_32      id_33           id_34  \\\nTransactionID  ...                                                          \n2987000        ...                  NaN    NaN        NaN             NaN   \n2987001        ...                  NaN    NaN        NaN             NaN   \n2987002        ...                  NaN    NaN        NaN             NaN   \n2987003        ...                  NaN    NaN        NaN             NaN   \n2987004        ...  samsung browser 6.2   32.0  2220x1080  match_status:2   \n\n               id_35  id_36  id_37 id_38  DeviceType  \\\nTransactionID                                          \n2987000          NaN    NaN    NaN   NaN         NaN   \n2987001          NaN    NaN    NaN   NaN         NaN   \n2987002          NaN    NaN    NaN   NaN         NaN   \n2987003          NaN    NaN    NaN   NaN         NaN   \n2987004            T      F      T     T      mobile   \n\n                                  DeviceInfo  \nTransactionID                                 \n2987000                                  NaN  \n2987001                                  NaN  \n2987002                                  NaN  \n2987003                                  NaN  \n2987004        SAMSUNG SM-G892A Build/NRD90M  \n\n[5 rows x 215 columns]",
      "text/html": "<div>\n<style scoped>\n    .dataframe tbody tr th:only-of-type {\n        vertical-align: middle;\n    }\n\n    .dataframe tbody tr th {\n        vertical-align: top;\n    }\n\n    .dataframe thead th {\n        text-align: right;\n    }\n</style>\n<table border=\"1\" class=\"dataframe\">\n  <thead>\n    <tr style=\"text-align: right;\">\n      <th></th>\n      <th>addr2</th>\n      <th>C7</th>\n      <th>D4</th>\n      <th>card6</th>\n      <th>M6</th>\n      <th>C2</th>\n      <th>C4</th>\n      <th>D5</th>\n      <th>ProductCD</th>\n      <th>C14</th>\n      <th>...</th>\n      <th>id_31</th>\n      <th>id_32</th>\n      <th>id_33</th>\n      <th>id_34</th>\n      <th>id_35</th>\n      <th>id_36</th>\n      <th>id_37</th>\n      <th>id_38</th>\n      <th>DeviceType</th>\n      <th>DeviceInfo</th>\n    </tr>\n    <tr>\n      <th>TransactionID</th>\n      <th></th>\n      <th></th>\n      <th></th>\n      <th></th>\n      <th></th>\n      <th></th>\n      <th></th>\n      <th></th>\n      <th></th>\n      <th></th>\n      <th></th>\n      <th></th>\n      <th></th>\n      <th></th>\n      <th></th>\n      <th></th>\n      <th></th>\n      <th></th>\n      <th></th>\n      <th></th>\n      <th></th>\n    </tr>\n  </thead>\n  <tbody>\n    <tr>\n      <th>2987000</th>\n      <td>87.0</td>\n      <td>0.0</td>\n      <td>NaN</td>\n      <td>credit</td>\n      <td>T</td>\n      <td>1.0</td>\n      <td>0.0</td>\n      <td>NaN</td>\n      <td>W</td>\n      <td>1.0</td>\n      <td>...</td>\n      <td>NaN</td>\n      <td>NaN</td>\n      <td>NaN</td>\n      <td>NaN</td>\n      <td>NaN</td>\n      <td>NaN</td>\n      <td>NaN</td>\n      <td>NaN</td>\n      <td>NaN</td>\n      <td>NaN</td>\n    </tr>\n    <tr>\n      <th>2987001</th>\n      <td>87.0</td>\n      <td>0.0</td>\n      <td>0.0</td>\n      <td>credit</td>\n      <td>T</td>\n      <td>1.0</td>\n      <td>0.0</td>\n      <td>NaN</td>\n      <td>W</td>\n      <td>1.0</td>\n      <td>...</td>\n      <td>NaN</td>\n      <td>NaN</td>\n      <td>NaN</td>\n      <td>NaN</td>\n      <td>NaN</td>\n      <td>NaN</td>\n      <td>NaN</td>\n      <td>NaN</td>\n      <td>NaN</td>\n      <td>NaN</td>\n    </tr>\n    <tr>\n      <th>2987002</th>\n      <td>87.0</td>\n      <td>0.0</td>\n      <td>0.0</td>\n      <td>debit</td>\n      <td>F</td>\n      <td>1.0</td>\n      <td>0.0</td>\n      <td>NaN</td>\n      <td>W</td>\n      <td>1.0</td>\n      <td>...</td>\n      <td>NaN</td>\n      <td>NaN</td>\n      <td>NaN</td>\n      <td>NaN</td>\n      <td>NaN</td>\n      <td>NaN</td>\n      <td>NaN</td>\n      <td>NaN</td>\n      <td>NaN</td>\n      <td>NaN</td>\n    </tr>\n    <tr>\n      <th>2987003</th>\n      <td>87.0</td>\n      <td>0.0</td>\n      <td>94.0</td>\n      <td>debit</td>\n      <td>F</td>\n      <td>5.0</td>\n      <td>0.0</td>\n      <td>0.0</td>\n      <td>W</td>\n      <td>1.0</td>\n      <td>...</td>\n      <td>NaN</td>\n      <td>NaN</td>\n      <td>NaN</td>\n      <td>NaN</td>\n      <td>NaN</td>\n      <td>NaN</td>\n      <td>NaN</td>\n      <td>NaN</td>\n      <td>NaN</td>\n      <td>NaN</td>\n    </tr>\n    <tr>\n      <th>2987004</th>\n      <td>87.0</td>\n      <td>0.0</td>\n      <td>NaN</td>\n      <td>credit</td>\n      <td>NaN</td>\n      <td>1.0</td>\n      <td>0.0</td>\n      <td>NaN</td>\n      <td>H</td>\n      <td>1.0</td>\n      <td>...</td>\n      <td>samsung browser 6.2</td>\n      <td>32.0</td>\n      <td>2220x1080</td>\n      <td>match_status:2</td>\n      <td>T</td>\n      <td>F</td>\n      <td>T</td>\n      <td>T</td>\n      <td>mobile</td>\n      <td>SAMSUNG SM-G892A Build/NRD90M</td>\n    </tr>\n  </tbody>\n</table>\n<p>5 rows × 215 columns</p>\n</div>"
     },
     "execution_count": 48,
     "metadata": {},
     "output_type": "execute_result"
    }
   ],
   "source": [
    "tr_tr_new.head()"
   ],
   "metadata": {
    "collapsed": false,
    "ExecuteTime": {
     "end_time": "2023-10-14T10:47:18.347023200Z",
     "start_time": "2023-10-14T10:47:18.330625700Z"
    }
   },
   "id": "b4c97f9e91f097df"
  },
  {
   "cell_type": "code",
   "execution_count": 49,
   "outputs": [],
   "source": [
    "te_tr_new = joblib.load('te_tr_new.joblib')"
   ],
   "metadata": {
    "collapsed": false,
    "ExecuteTime": {
     "end_time": "2023-10-14T10:47:19.414546100Z",
     "start_time": "2023-10-14T10:47:18.346023100Z"
    }
   },
   "id": "7d65ab9b1afeaea7"
  },
  {
   "cell_type": "code",
   "execution_count": 50,
   "outputs": [
    {
     "data": {
      "text/plain": "               addr2   C7     D4  card6 M6   C2   C4    D5 ProductCD  C14  \\\nTransactionID                                                               \n3663549         87.0  0.0  398.0  debit  F  6.0  0.0  27.0         W  6.0   \n3663550         87.0  0.0  634.0  debit  F  2.0  0.0   7.0         W  2.0   \n3663551         87.0  0.0   97.0  debit  F  2.0  0.0  10.0         W  2.0   \n3663552         87.0  0.0  242.0  debit  T  2.0  0.0  41.0         W  4.0   \n3663553         87.0  0.0   22.0  debit  F  6.0  0.0   0.0         W  6.0   \n\n               ...  id-31  id-32  id-33  id-34  id-35  id-36  id-37 id-38  \\\nTransactionID  ...                                                          \n3663549        ...    NaN    NaN    NaN    NaN    NaN    NaN    NaN   NaN   \n3663550        ...    NaN    NaN    NaN    NaN    NaN    NaN    NaN   NaN   \n3663551        ...    NaN    NaN    NaN    NaN    NaN    NaN    NaN   NaN   \n3663552        ...    NaN    NaN    NaN    NaN    NaN    NaN    NaN   NaN   \n3663553        ...    NaN    NaN    NaN    NaN    NaN    NaN    NaN   NaN   \n\n               DeviceType  DeviceInfo  \nTransactionID                          \n3663549               NaN         NaN  \n3663550               NaN         NaN  \n3663551               NaN         NaN  \n3663552               NaN         NaN  \n3663553               NaN         NaN  \n\n[5 rows x 214 columns]",
      "text/html": "<div>\n<style scoped>\n    .dataframe tbody tr th:only-of-type {\n        vertical-align: middle;\n    }\n\n    .dataframe tbody tr th {\n        vertical-align: top;\n    }\n\n    .dataframe thead th {\n        text-align: right;\n    }\n</style>\n<table border=\"1\" class=\"dataframe\">\n  <thead>\n    <tr style=\"text-align: right;\">\n      <th></th>\n      <th>addr2</th>\n      <th>C7</th>\n      <th>D4</th>\n      <th>card6</th>\n      <th>M6</th>\n      <th>C2</th>\n      <th>C4</th>\n      <th>D5</th>\n      <th>ProductCD</th>\n      <th>C14</th>\n      <th>...</th>\n      <th>id-31</th>\n      <th>id-32</th>\n      <th>id-33</th>\n      <th>id-34</th>\n      <th>id-35</th>\n      <th>id-36</th>\n      <th>id-37</th>\n      <th>id-38</th>\n      <th>DeviceType</th>\n      <th>DeviceInfo</th>\n    </tr>\n    <tr>\n      <th>TransactionID</th>\n      <th></th>\n      <th></th>\n      <th></th>\n      <th></th>\n      <th></th>\n      <th></th>\n      <th></th>\n      <th></th>\n      <th></th>\n      <th></th>\n      <th></th>\n      <th></th>\n      <th></th>\n      <th></th>\n      <th></th>\n      <th></th>\n      <th></th>\n      <th></th>\n      <th></th>\n      <th></th>\n      <th></th>\n    </tr>\n  </thead>\n  <tbody>\n    <tr>\n      <th>3663549</th>\n      <td>87.0</td>\n      <td>0.0</td>\n      <td>398.0</td>\n      <td>debit</td>\n      <td>F</td>\n      <td>6.0</td>\n      <td>0.0</td>\n      <td>27.0</td>\n      <td>W</td>\n      <td>6.0</td>\n      <td>...</td>\n      <td>NaN</td>\n      <td>NaN</td>\n      <td>NaN</td>\n      <td>NaN</td>\n      <td>NaN</td>\n      <td>NaN</td>\n      <td>NaN</td>\n      <td>NaN</td>\n      <td>NaN</td>\n      <td>NaN</td>\n    </tr>\n    <tr>\n      <th>3663550</th>\n      <td>87.0</td>\n      <td>0.0</td>\n      <td>634.0</td>\n      <td>debit</td>\n      <td>F</td>\n      <td>2.0</td>\n      <td>0.0</td>\n      <td>7.0</td>\n      <td>W</td>\n      <td>2.0</td>\n      <td>...</td>\n      <td>NaN</td>\n      <td>NaN</td>\n      <td>NaN</td>\n      <td>NaN</td>\n      <td>NaN</td>\n      <td>NaN</td>\n      <td>NaN</td>\n      <td>NaN</td>\n      <td>NaN</td>\n      <td>NaN</td>\n    </tr>\n    <tr>\n      <th>3663551</th>\n      <td>87.0</td>\n      <td>0.0</td>\n      <td>97.0</td>\n      <td>debit</td>\n      <td>F</td>\n      <td>2.0</td>\n      <td>0.0</td>\n      <td>10.0</td>\n      <td>W</td>\n      <td>2.0</td>\n      <td>...</td>\n      <td>NaN</td>\n      <td>NaN</td>\n      <td>NaN</td>\n      <td>NaN</td>\n      <td>NaN</td>\n      <td>NaN</td>\n      <td>NaN</td>\n      <td>NaN</td>\n      <td>NaN</td>\n      <td>NaN</td>\n    </tr>\n    <tr>\n      <th>3663552</th>\n      <td>87.0</td>\n      <td>0.0</td>\n      <td>242.0</td>\n      <td>debit</td>\n      <td>T</td>\n      <td>2.0</td>\n      <td>0.0</td>\n      <td>41.0</td>\n      <td>W</td>\n      <td>4.0</td>\n      <td>...</td>\n      <td>NaN</td>\n      <td>NaN</td>\n      <td>NaN</td>\n      <td>NaN</td>\n      <td>NaN</td>\n      <td>NaN</td>\n      <td>NaN</td>\n      <td>NaN</td>\n      <td>NaN</td>\n      <td>NaN</td>\n    </tr>\n    <tr>\n      <th>3663553</th>\n      <td>87.0</td>\n      <td>0.0</td>\n      <td>22.0</td>\n      <td>debit</td>\n      <td>F</td>\n      <td>6.0</td>\n      <td>0.0</td>\n      <td>0.0</td>\n      <td>W</td>\n      <td>6.0</td>\n      <td>...</td>\n      <td>NaN</td>\n      <td>NaN</td>\n      <td>NaN</td>\n      <td>NaN</td>\n      <td>NaN</td>\n      <td>NaN</td>\n      <td>NaN</td>\n      <td>NaN</td>\n      <td>NaN</td>\n      <td>NaN</td>\n    </tr>\n  </tbody>\n</table>\n<p>5 rows × 214 columns</p>\n</div>"
     },
     "execution_count": 50,
     "metadata": {},
     "output_type": "execute_result"
    }
   ],
   "source": [
    "te_tr_new.head()"
   ],
   "metadata": {
    "collapsed": false,
    "ExecuteTime": {
     "end_time": "2023-10-14T10:47:19.432060800Z",
     "start_time": "2023-10-14T10:47:19.416545200Z"
    }
   },
   "id": "999eb2611f3c923c"
  },
  {
   "cell_type": "code",
   "execution_count": 51,
   "outputs": [],
   "source": [
    "tr_tr_new.drop(columns=['isFraud'], inplace=True)"
   ],
   "metadata": {
    "collapsed": false,
    "ExecuteTime": {
     "end_time": "2023-10-14T10:47:19.728938Z",
     "start_time": "2023-10-14T10:47:19.431058900Z"
    }
   },
   "id": "c55f446a424a3ff3"
  },
  {
   "cell_type": "code",
   "execution_count": 52,
   "outputs": [
    {
     "name": "stdout",
     "output_type": "stream",
     "text": [
      "(590540, 214) (506691, 214)\n"
     ]
    }
   ],
   "source": [
    "print(tr_tr_new.shape, te_tr_new.shape)"
   ],
   "metadata": {
    "collapsed": false,
    "ExecuteTime": {
     "end_time": "2023-10-14T10:47:19.745659100Z",
     "start_time": "2023-10-14T10:47:19.730940900Z"
    }
   },
   "id": "f205e72d0b51b931"
  },
  {
   "cell_type": "code",
   "execution_count": 53,
   "outputs": [
    {
     "data": {
      "text/plain": "addr2         float64\nC7            float64\nD4            float64\ncard6          object\nM6             object\n               ...   \nid_36          object\nid_37          object\nid_38          object\nDeviceType     object\nDeviceInfo     object\nLength: 214, dtype: object"
     },
     "execution_count": 53,
     "metadata": {},
     "output_type": "execute_result"
    }
   ],
   "source": [
    "tr_tr_new.dtypes"
   ],
   "metadata": {
    "collapsed": false,
    "ExecuteTime": {
     "end_time": "2023-10-14T10:47:19.781401700Z",
     "start_time": "2023-10-14T10:47:19.737142100Z"
    }
   },
   "id": "68b76aad148d49f6"
  },
  {
   "cell_type": "code",
   "execution_count": 54,
   "outputs": [
    {
     "data": {
      "text/plain": "id_12\nNaN         446307\nNotFound    123025\nFound        21208\nName: count, dtype: int64"
     },
     "execution_count": 54,
     "metadata": {},
     "output_type": "execute_result"
    }
   ],
   "source": [
    "tr_tr_new['id_12'].value_counts(dropna=False)"
   ],
   "metadata": {
    "collapsed": false,
    "ExecuteTime": {
     "end_time": "2023-10-14T10:47:19.832113900Z",
     "start_time": "2023-10-14T10:47:19.757369200Z"
    }
   },
   "id": "5c793c466b7b4848"
  },
  {
   "cell_type": "code",
   "execution_count": 55,
   "outputs": [],
   "source": [
    "te_tr_new.rename(columns=lambda col: col.replace('id-', 'id_'), inplace=True)"
   ],
   "metadata": {
    "collapsed": false,
    "ExecuteTime": {
     "end_time": "2023-10-14T10:47:19.832113900Z",
     "start_time": "2023-10-14T10:47:19.789517600Z"
    }
   },
   "id": "f72e0b2d84632e57"
  },
  {
   "cell_type": "code",
   "execution_count": 56,
   "outputs": [
    {
     "data": {
      "text/plain": "['id_01',\n 'id_02',\n 'id_03',\n 'id_04',\n 'id_05',\n 'id_06',\n 'id_07',\n 'id_08',\n 'id_09',\n 'id_10',\n 'id_11',\n 'id_12',\n 'id_13',\n 'id_14',\n 'id_15',\n 'id_16',\n 'id_17',\n 'id_18',\n 'id_19',\n 'id_20',\n 'id_21',\n 'id_22',\n 'id_23',\n 'id_24',\n 'id_25',\n 'id_26',\n 'id_27',\n 'id_28',\n 'id_29',\n 'id_30',\n 'id_31',\n 'id_32',\n 'id_33',\n 'id_34',\n 'id_35',\n 'id_36',\n 'id_37',\n 'id_38']"
     },
     "execution_count": 56,
     "metadata": {},
     "output_type": "execute_result"
    }
   ],
   "source": [
    "[col for col in tr_tr_new.columns if col.startswith('id_')]"
   ],
   "metadata": {
    "collapsed": false,
    "ExecuteTime": {
     "end_time": "2023-10-14T10:47:19.832113900Z",
     "start_time": "2023-10-14T10:47:19.801087Z"
    }
   },
   "id": "89eb83effcb70958"
  },
  {
   "cell_type": "code",
   "execution_count": 57,
   "outputs": [],
   "source": [
    "cat_var = ['ProductCD', \n",
    "           'card6', 'card2', 'card5', 'card1', 'card4', 'card3',\n",
    "           'addr2', 'addr1',\n",
    "           'P_emaildomain',\n",
    "           'R_emaildomain',\n",
    "           'M6', 'M7', 'M8', 'M4', 'M9', 'M1', 'M2', 'M5', 'M3',\n",
    "           'DeviceType',\n",
    "           'DeviceInfo',\n",
    "           'id_12', 'id_13', 'id_14', 'id_15', 'id_16', 'id_17', 'id_18', 'id_19',\n",
    "           'id_20', 'id_21', 'id_22', 'id_23', 'id_24', 'id_25', 'id_26', 'id_27',\n",
    "           'id_28', 'id_29', 'id_30', 'id_31', 'id_32', 'id_33', 'id_34', 'id_35', \n",
    "           'id_36', 'id_37', 'id_38']"
   ],
   "metadata": {
    "collapsed": false,
    "ExecuteTime": {
     "end_time": "2023-10-14T10:47:19.872338500Z",
     "start_time": "2023-10-14T10:47:19.814258200Z"
    }
   },
   "id": "955d32fbcbd56fff"
  },
  {
   "cell_type": "code",
   "execution_count": 58,
   "outputs": [],
   "source": [
    "non_categorical_vars = list(set(tr_tr_new.columns) - set(cat_var))"
   ],
   "metadata": {
    "collapsed": false,
    "ExecuteTime": {
     "end_time": "2023-10-14T10:47:19.902417700Z",
     "start_time": "2023-10-14T10:47:19.822019100Z"
    }
   },
   "id": "94ac9f555542b3ef"
  },
  {
   "cell_type": "code",
   "execution_count": 59,
   "outputs": [
    {
     "data": {
      "text/plain": "TransactionID\n3663549         NaN\n3663550         NaN\n3663551         NaN\n3663552         NaN\n3663553         NaN\n             ...   \n4170235         NaN\n4170236    NotFound\n4170237         NaN\n4170238         NaN\n4170239    NotFound\nName: id_12, Length: 506691, dtype: object"
     },
     "execution_count": 59,
     "metadata": {},
     "output_type": "execute_result"
    }
   ],
   "source": [
    "te_tr_new['id_12']"
   ],
   "metadata": {
    "collapsed": false,
    "ExecuteTime": {
     "end_time": "2023-10-14T10:47:19.944496200Z",
     "start_time": "2023-10-14T10:47:19.836441100Z"
    }
   },
   "id": "2639e6af1b7d2b60"
  },
  {
   "cell_type": "code",
   "execution_count": 60,
   "outputs": [
    {
     "data": {
      "text/plain": "OneHotEncoder(drop='first')",
      "text/html": "<style>#sk-container-id-3 {color: black;}#sk-container-id-3 pre{padding: 0;}#sk-container-id-3 div.sk-toggleable {background-color: white;}#sk-container-id-3 label.sk-toggleable__label {cursor: pointer;display: block;width: 100%;margin-bottom: 0;padding: 0.3em;box-sizing: border-box;text-align: center;}#sk-container-id-3 label.sk-toggleable__label-arrow:before {content: \"▸\";float: left;margin-right: 0.25em;color: #696969;}#sk-container-id-3 label.sk-toggleable__label-arrow:hover:before {color: black;}#sk-container-id-3 div.sk-estimator:hover label.sk-toggleable__label-arrow:before {color: black;}#sk-container-id-3 div.sk-toggleable__content {max-height: 0;max-width: 0;overflow: hidden;text-align: left;background-color: #f0f8ff;}#sk-container-id-3 div.sk-toggleable__content pre {margin: 0.2em;color: black;border-radius: 0.25em;background-color: #f0f8ff;}#sk-container-id-3 input.sk-toggleable__control:checked~div.sk-toggleable__content {max-height: 200px;max-width: 100%;overflow: auto;}#sk-container-id-3 input.sk-toggleable__control:checked~label.sk-toggleable__label-arrow:before {content: \"▾\";}#sk-container-id-3 div.sk-estimator input.sk-toggleable__control:checked~label.sk-toggleable__label {background-color: #d4ebff;}#sk-container-id-3 div.sk-label input.sk-toggleable__control:checked~label.sk-toggleable__label {background-color: #d4ebff;}#sk-container-id-3 input.sk-hidden--visually {border: 0;clip: rect(1px 1px 1px 1px);clip: rect(1px, 1px, 1px, 1px);height: 1px;margin: -1px;overflow: hidden;padding: 0;position: absolute;width: 1px;}#sk-container-id-3 div.sk-estimator {font-family: monospace;background-color: #f0f8ff;border: 1px dotted black;border-radius: 0.25em;box-sizing: border-box;margin-bottom: 0.5em;}#sk-container-id-3 div.sk-estimator:hover {background-color: #d4ebff;}#sk-container-id-3 div.sk-parallel-item::after {content: \"\";width: 100%;border-bottom: 1px solid gray;flex-grow: 1;}#sk-container-id-3 div.sk-label:hover label.sk-toggleable__label {background-color: #d4ebff;}#sk-container-id-3 div.sk-serial::before {content: \"\";position: absolute;border-left: 1px solid gray;box-sizing: border-box;top: 0;bottom: 0;left: 50%;z-index: 0;}#sk-container-id-3 div.sk-serial {display: flex;flex-direction: column;align-items: center;background-color: white;padding-right: 0.2em;padding-left: 0.2em;position: relative;}#sk-container-id-3 div.sk-item {position: relative;z-index: 1;}#sk-container-id-3 div.sk-parallel {display: flex;align-items: stretch;justify-content: center;background-color: white;position: relative;}#sk-container-id-3 div.sk-item::before, #sk-container-id-3 div.sk-parallel-item::before {content: \"\";position: absolute;border-left: 1px solid gray;box-sizing: border-box;top: 0;bottom: 0;left: 50%;z-index: -1;}#sk-container-id-3 div.sk-parallel-item {display: flex;flex-direction: column;z-index: 1;position: relative;background-color: white;}#sk-container-id-3 div.sk-parallel-item:first-child::after {align-self: flex-end;width: 50%;}#sk-container-id-3 div.sk-parallel-item:last-child::after {align-self: flex-start;width: 50%;}#sk-container-id-3 div.sk-parallel-item:only-child::after {width: 0;}#sk-container-id-3 div.sk-dashed-wrapped {border: 1px dashed gray;margin: 0 0.4em 0.5em 0.4em;box-sizing: border-box;padding-bottom: 0.4em;background-color: white;}#sk-container-id-3 div.sk-label label {font-family: monospace;font-weight: bold;display: inline-block;line-height: 1.2em;}#sk-container-id-3 div.sk-label-container {text-align: center;}#sk-container-id-3 div.sk-container {/* jupyter's `normalize.less` sets `[hidden] { display: none; }` but bootstrap.min.css set `[hidden] { display: none !important; }` so we also need the `!important` here to be able to override the default hidden behavior on the sphinx rendered scikit-learn.org. See: https://github.com/scikit-learn/scikit-learn/issues/21755 */display: inline-block !important;position: relative;}#sk-container-id-3 div.sk-text-repr-fallback {display: none;}</style><div id=\"sk-container-id-3\" class=\"sk-top-container\"><div class=\"sk-text-repr-fallback\"><pre>OneHotEncoder(drop=&#x27;first&#x27;)</pre><b>In a Jupyter environment, please rerun this cell to show the HTML representation or trust the notebook. <br />On GitHub, the HTML representation is unable to render, please try loading this page with nbviewer.org.</b></div><div class=\"sk-container\" hidden><div class=\"sk-item\"><div class=\"sk-estimator sk-toggleable\"><input class=\"sk-toggleable__control sk-hidden--visually\" id=\"sk-estimator-id-3\" type=\"checkbox\" checked><label for=\"sk-estimator-id-3\" class=\"sk-toggleable__label sk-toggleable__label-arrow\">OneHotEncoder</label><div class=\"sk-toggleable__content\"><pre>OneHotEncoder(drop=&#x27;first&#x27;)</pre></div></div></div></div></div>"
     },
     "execution_count": 60,
     "metadata": {},
     "output_type": "execute_result"
    }
   ],
   "source": [
    "from sklearn.preprocessing import OneHotEncoder\n",
    "\n",
    "# 3) Define \"model\"\n",
    "ohe = OneHotEncoder(sparse_output=True, drop='first')\n",
    "\n",
    "# 4) Train \"model\" on the training dataset\n",
    "ohe.fit(tr_tr_new[cat_var])"
   ],
   "metadata": {
    "collapsed": false,
    "ExecuteTime": {
     "end_time": "2023-10-14T10:47:28.062215800Z",
     "start_time": "2023-10-14T10:47:19.849793400Z"
    }
   },
   "id": "8fba590ae4091813"
  },
  {
   "cell_type": "code",
   "execution_count": 61,
   "outputs": [],
   "source": [
    "# 5) \"Predict\" for both train and test datasets\n",
    "tr_ohe = pd.DataFrame(ohe.transform(tr_tr_new[cat_var]))"
   ],
   "metadata": {
    "collapsed": false,
    "ExecuteTime": {
     "end_time": "2023-10-14T10:48:02.789930Z",
     "start_time": "2023-10-14T10:47:28.060711100Z"
    }
   },
   "id": "ab4a20e195e42f04"
  },
  {
   "cell_type": "code",
   "execution_count": 61,
   "outputs": [],
   "source": [],
   "metadata": {
    "collapsed": false,
    "ExecuteTime": {
     "end_time": "2023-10-14T10:48:02.801957100Z",
     "start_time": "2023-10-14T10:48:02.790929700Z"
    }
   },
   "id": "2ae6ccbda9498afe"
  },
  {
   "cell_type": "code",
   "execution_count": 62,
   "outputs": [
    {
     "data": {
      "text/plain": "               addr2   C7     D4  card6 M6   C2   C4    D5 ProductCD  C14  \\\nTransactionID                                                               \n3663549         87.0  0.0  398.0  debit  F  6.0  0.0  27.0         W  6.0   \n3663550         87.0  0.0  634.0  debit  F  2.0  0.0   7.0         W  2.0   \n3663551         87.0  0.0   97.0  debit  F  2.0  0.0  10.0         W  2.0   \n3663552         87.0  0.0  242.0  debit  T  2.0  0.0  41.0         W  4.0   \n3663553         87.0  0.0   22.0  debit  F  6.0  0.0   0.0         W  6.0   \n\n               ...  id_31  id_32  id_33  id_34  id_35  id_36  id_37 id_38  \\\nTransactionID  ...                                                          \n3663549        ...    NaN    NaN    NaN    NaN    NaN    NaN    NaN   NaN   \n3663550        ...    NaN    NaN    NaN    NaN    NaN    NaN    NaN   NaN   \n3663551        ...    NaN    NaN    NaN    NaN    NaN    NaN    NaN   NaN   \n3663552        ...    NaN    NaN    NaN    NaN    NaN    NaN    NaN   NaN   \n3663553        ...    NaN    NaN    NaN    NaN    NaN    NaN    NaN   NaN   \n\n               DeviceType  DeviceInfo  \nTransactionID                          \n3663549               NaN         NaN  \n3663550               NaN         NaN  \n3663551               NaN         NaN  \n3663552               NaN         NaN  \n3663553               NaN         NaN  \n\n[5 rows x 214 columns]",
      "text/html": "<div>\n<style scoped>\n    .dataframe tbody tr th:only-of-type {\n        vertical-align: middle;\n    }\n\n    .dataframe tbody tr th {\n        vertical-align: top;\n    }\n\n    .dataframe thead th {\n        text-align: right;\n    }\n</style>\n<table border=\"1\" class=\"dataframe\">\n  <thead>\n    <tr style=\"text-align: right;\">\n      <th></th>\n      <th>addr2</th>\n      <th>C7</th>\n      <th>D4</th>\n      <th>card6</th>\n      <th>M6</th>\n      <th>C2</th>\n      <th>C4</th>\n      <th>D5</th>\n      <th>ProductCD</th>\n      <th>C14</th>\n      <th>...</th>\n      <th>id_31</th>\n      <th>id_32</th>\n      <th>id_33</th>\n      <th>id_34</th>\n      <th>id_35</th>\n      <th>id_36</th>\n      <th>id_37</th>\n      <th>id_38</th>\n      <th>DeviceType</th>\n      <th>DeviceInfo</th>\n    </tr>\n    <tr>\n      <th>TransactionID</th>\n      <th></th>\n      <th></th>\n      <th></th>\n      <th></th>\n      <th></th>\n      <th></th>\n      <th></th>\n      <th></th>\n      <th></th>\n      <th></th>\n      <th></th>\n      <th></th>\n      <th></th>\n      <th></th>\n      <th></th>\n      <th></th>\n      <th></th>\n      <th></th>\n      <th></th>\n      <th></th>\n      <th></th>\n    </tr>\n  </thead>\n  <tbody>\n    <tr>\n      <th>3663549</th>\n      <td>87.0</td>\n      <td>0.0</td>\n      <td>398.0</td>\n      <td>debit</td>\n      <td>F</td>\n      <td>6.0</td>\n      <td>0.0</td>\n      <td>27.0</td>\n      <td>W</td>\n      <td>6.0</td>\n      <td>...</td>\n      <td>NaN</td>\n      <td>NaN</td>\n      <td>NaN</td>\n      <td>NaN</td>\n      <td>NaN</td>\n      <td>NaN</td>\n      <td>NaN</td>\n      <td>NaN</td>\n      <td>NaN</td>\n      <td>NaN</td>\n    </tr>\n    <tr>\n      <th>3663550</th>\n      <td>87.0</td>\n      <td>0.0</td>\n      <td>634.0</td>\n      <td>debit</td>\n      <td>F</td>\n      <td>2.0</td>\n      <td>0.0</td>\n      <td>7.0</td>\n      <td>W</td>\n      <td>2.0</td>\n      <td>...</td>\n      <td>NaN</td>\n      <td>NaN</td>\n      <td>NaN</td>\n      <td>NaN</td>\n      <td>NaN</td>\n      <td>NaN</td>\n      <td>NaN</td>\n      <td>NaN</td>\n      <td>NaN</td>\n      <td>NaN</td>\n    </tr>\n    <tr>\n      <th>3663551</th>\n      <td>87.0</td>\n      <td>0.0</td>\n      <td>97.0</td>\n      <td>debit</td>\n      <td>F</td>\n      <td>2.0</td>\n      <td>0.0</td>\n      <td>10.0</td>\n      <td>W</td>\n      <td>2.0</td>\n      <td>...</td>\n      <td>NaN</td>\n      <td>NaN</td>\n      <td>NaN</td>\n      <td>NaN</td>\n      <td>NaN</td>\n      <td>NaN</td>\n      <td>NaN</td>\n      <td>NaN</td>\n      <td>NaN</td>\n      <td>NaN</td>\n    </tr>\n    <tr>\n      <th>3663552</th>\n      <td>87.0</td>\n      <td>0.0</td>\n      <td>242.0</td>\n      <td>debit</td>\n      <td>T</td>\n      <td>2.0</td>\n      <td>0.0</td>\n      <td>41.0</td>\n      <td>W</td>\n      <td>4.0</td>\n      <td>...</td>\n      <td>NaN</td>\n      <td>NaN</td>\n      <td>NaN</td>\n      <td>NaN</td>\n      <td>NaN</td>\n      <td>NaN</td>\n      <td>NaN</td>\n      <td>NaN</td>\n      <td>NaN</td>\n      <td>NaN</td>\n    </tr>\n    <tr>\n      <th>3663553</th>\n      <td>87.0</td>\n      <td>0.0</td>\n      <td>22.0</td>\n      <td>debit</td>\n      <td>F</td>\n      <td>6.0</td>\n      <td>0.0</td>\n      <td>0.0</td>\n      <td>W</td>\n      <td>6.0</td>\n      <td>...</td>\n      <td>NaN</td>\n      <td>NaN</td>\n      <td>NaN</td>\n      <td>NaN</td>\n      <td>NaN</td>\n      <td>NaN</td>\n      <td>NaN</td>\n      <td>NaN</td>\n      <td>NaN</td>\n      <td>NaN</td>\n    </tr>\n  </tbody>\n</table>\n<p>5 rows × 214 columns</p>\n</div>"
     },
     "execution_count": 62,
     "metadata": {},
     "output_type": "execute_result"
    }
   ],
   "source": [
    "te_tr_new.head()"
   ],
   "metadata": {
    "collapsed": false,
    "ExecuteTime": {
     "end_time": "2023-10-14T10:48:02.815043900Z",
     "start_time": "2023-10-14T10:48:02.795449100Z"
    }
   },
   "id": "747e4be74173aceb"
  },
  {
   "cell_type": "code",
   "execution_count": 63,
   "outputs": [
    {
     "ename": "ValueError",
     "evalue": "Found unknown categories [107.0] in column 2 during transform",
     "output_type": "error",
     "traceback": [
      "\u001B[1;31m---------------------------------------------------------------------------\u001B[0m",
      "\u001B[1;31mValueError\u001B[0m                                Traceback (most recent call last)",
      "Cell \u001B[1;32mIn[63], line 1\u001B[0m\n\u001B[1;32m----> 1\u001B[0m te_ohe \u001B[38;5;241m=\u001B[39m pd\u001B[38;5;241m.\u001B[39mDataFrame(\u001B[43mohe\u001B[49m\u001B[38;5;241;43m.\u001B[39;49m\u001B[43mtransform\u001B[49m\u001B[43m(\u001B[49m\u001B[43mte_tr_new\u001B[49m\u001B[43m[\u001B[49m\u001B[43mcat_var\u001B[49m\u001B[43m]\u001B[49m\u001B[43m)\u001B[49m)\n",
      "File \u001B[1;32mJ:\\IE\\SECOND TERM\\MLII\\venv\\Lib\\site-packages\\sklearn\\utils\\_set_output.py:140\u001B[0m, in \u001B[0;36m_wrap_method_output.<locals>.wrapped\u001B[1;34m(self, X, *args, **kwargs)\u001B[0m\n\u001B[0;32m    138\u001B[0m \u001B[38;5;129m@wraps\u001B[39m(f)\n\u001B[0;32m    139\u001B[0m \u001B[38;5;28;01mdef\u001B[39;00m \u001B[38;5;21mwrapped\u001B[39m(\u001B[38;5;28mself\u001B[39m, X, \u001B[38;5;241m*\u001B[39margs, \u001B[38;5;241m*\u001B[39m\u001B[38;5;241m*\u001B[39mkwargs):\n\u001B[1;32m--> 140\u001B[0m     data_to_wrap \u001B[38;5;241m=\u001B[39m \u001B[43mf\u001B[49m\u001B[43m(\u001B[49m\u001B[38;5;28;43mself\u001B[39;49m\u001B[43m,\u001B[49m\u001B[43m \u001B[49m\u001B[43mX\u001B[49m\u001B[43m,\u001B[49m\u001B[43m \u001B[49m\u001B[38;5;241;43m*\u001B[39;49m\u001B[43margs\u001B[49m\u001B[43m,\u001B[49m\u001B[43m \u001B[49m\u001B[38;5;241;43m*\u001B[39;49m\u001B[38;5;241;43m*\u001B[39;49m\u001B[43mkwargs\u001B[49m\u001B[43m)\u001B[49m\n\u001B[0;32m    141\u001B[0m     \u001B[38;5;28;01mif\u001B[39;00m \u001B[38;5;28misinstance\u001B[39m(data_to_wrap, \u001B[38;5;28mtuple\u001B[39m):\n\u001B[0;32m    142\u001B[0m         \u001B[38;5;66;03m# only wrap the first output for cross decomposition\u001B[39;00m\n\u001B[0;32m    143\u001B[0m         return_tuple \u001B[38;5;241m=\u001B[39m (\n\u001B[0;32m    144\u001B[0m             _wrap_data_with_container(method, data_to_wrap[\u001B[38;5;241m0\u001B[39m], X, \u001B[38;5;28mself\u001B[39m),\n\u001B[0;32m    145\u001B[0m             \u001B[38;5;241m*\u001B[39mdata_to_wrap[\u001B[38;5;241m1\u001B[39m:],\n\u001B[0;32m    146\u001B[0m         )\n",
      "File \u001B[1;32mJ:\\IE\\SECOND TERM\\MLII\\venv\\Lib\\site-packages\\sklearn\\preprocessing\\_encoders.py:1016\u001B[0m, in \u001B[0;36mOneHotEncoder.transform\u001B[1;34m(self, X)\u001B[0m\n\u001B[0;32m   1011\u001B[0m \u001B[38;5;66;03m# validation of X happens in _check_X called by _transform\u001B[39;00m\n\u001B[0;32m   1012\u001B[0m warn_on_unknown \u001B[38;5;241m=\u001B[39m \u001B[38;5;28mself\u001B[39m\u001B[38;5;241m.\u001B[39mdrop \u001B[38;5;129;01mis\u001B[39;00m \u001B[38;5;129;01mnot\u001B[39;00m \u001B[38;5;28;01mNone\u001B[39;00m \u001B[38;5;129;01mand\u001B[39;00m \u001B[38;5;28mself\u001B[39m\u001B[38;5;241m.\u001B[39mhandle_unknown \u001B[38;5;129;01min\u001B[39;00m {\n\u001B[0;32m   1013\u001B[0m     \u001B[38;5;124m\"\u001B[39m\u001B[38;5;124mignore\u001B[39m\u001B[38;5;124m\"\u001B[39m,\n\u001B[0;32m   1014\u001B[0m     \u001B[38;5;124m\"\u001B[39m\u001B[38;5;124minfrequent_if_exist\u001B[39m\u001B[38;5;124m\"\u001B[39m,\n\u001B[0;32m   1015\u001B[0m }\n\u001B[1;32m-> 1016\u001B[0m X_int, X_mask \u001B[38;5;241m=\u001B[39m \u001B[38;5;28;43mself\u001B[39;49m\u001B[38;5;241;43m.\u001B[39;49m\u001B[43m_transform\u001B[49m\u001B[43m(\u001B[49m\n\u001B[0;32m   1017\u001B[0m \u001B[43m    \u001B[49m\u001B[43mX\u001B[49m\u001B[43m,\u001B[49m\n\u001B[0;32m   1018\u001B[0m \u001B[43m    \u001B[49m\u001B[43mhandle_unknown\u001B[49m\u001B[38;5;241;43m=\u001B[39;49m\u001B[38;5;28;43mself\u001B[39;49m\u001B[38;5;241;43m.\u001B[39;49m\u001B[43mhandle_unknown\u001B[49m\u001B[43m,\u001B[49m\n\u001B[0;32m   1019\u001B[0m \u001B[43m    \u001B[49m\u001B[43mforce_all_finite\u001B[49m\u001B[38;5;241;43m=\u001B[39;49m\u001B[38;5;124;43m\"\u001B[39;49m\u001B[38;5;124;43mallow-nan\u001B[39;49m\u001B[38;5;124;43m\"\u001B[39;49m\u001B[43m,\u001B[49m\n\u001B[0;32m   1020\u001B[0m \u001B[43m    \u001B[49m\u001B[43mwarn_on_unknown\u001B[49m\u001B[38;5;241;43m=\u001B[39;49m\u001B[43mwarn_on_unknown\u001B[49m\u001B[43m,\u001B[49m\n\u001B[0;32m   1021\u001B[0m \u001B[43m\u001B[49m\u001B[43m)\u001B[49m\n\u001B[0;32m   1023\u001B[0m n_samples, n_features \u001B[38;5;241m=\u001B[39m X_int\u001B[38;5;241m.\u001B[39mshape\n\u001B[0;32m   1025\u001B[0m \u001B[38;5;28;01mif\u001B[39;00m \u001B[38;5;28mself\u001B[39m\u001B[38;5;241m.\u001B[39m_drop_idx_after_grouping \u001B[38;5;129;01mis\u001B[39;00m \u001B[38;5;129;01mnot\u001B[39;00m \u001B[38;5;28;01mNone\u001B[39;00m:\n",
      "File \u001B[1;32mJ:\\IE\\SECOND TERM\\MLII\\venv\\Lib\\site-packages\\sklearn\\preprocessing\\_encoders.py:199\u001B[0m, in \u001B[0;36m_BaseEncoder._transform\u001B[1;34m(self, X, handle_unknown, force_all_finite, warn_on_unknown, ignore_category_indices)\u001B[0m\n\u001B[0;32m    194\u001B[0m \u001B[38;5;28;01mif\u001B[39;00m handle_unknown \u001B[38;5;241m==\u001B[39m \u001B[38;5;124m\"\u001B[39m\u001B[38;5;124merror\u001B[39m\u001B[38;5;124m\"\u001B[39m:\n\u001B[0;32m    195\u001B[0m     msg \u001B[38;5;241m=\u001B[39m (\n\u001B[0;32m    196\u001B[0m         \u001B[38;5;124m\"\u001B[39m\u001B[38;5;124mFound unknown categories \u001B[39m\u001B[38;5;132;01m{0}\u001B[39;00m\u001B[38;5;124m in column \u001B[39m\u001B[38;5;132;01m{1}\u001B[39;00m\u001B[38;5;124m\"\u001B[39m\n\u001B[0;32m    197\u001B[0m         \u001B[38;5;124m\"\u001B[39m\u001B[38;5;124m during transform\u001B[39m\u001B[38;5;124m\"\u001B[39m\u001B[38;5;241m.\u001B[39mformat(diff, i)\n\u001B[0;32m    198\u001B[0m     )\n\u001B[1;32m--> 199\u001B[0m     \u001B[38;5;28;01mraise\u001B[39;00m \u001B[38;5;167;01mValueError\u001B[39;00m(msg)\n\u001B[0;32m    200\u001B[0m \u001B[38;5;28;01melse\u001B[39;00m:\n\u001B[0;32m    201\u001B[0m     \u001B[38;5;28;01mif\u001B[39;00m warn_on_unknown:\n",
      "\u001B[1;31mValueError\u001B[0m: Found unknown categories [107.0] in column 2 during transform"
     ]
    }
   ],
   "source": [
    "te_ohe = pd.DataFrame(ohe.transform(te_tr_new[cat_var]))"
   ],
   "metadata": {
    "collapsed": false,
    "ExecuteTime": {
     "end_time": "2023-10-14T10:48:03.215455800Z",
     "start_time": "2023-10-14T10:48:02.810527200Z"
    }
   },
   "id": "4a32f8e3bd586dde"
  },
  {
   "cell_type": "code",
   "execution_count": null,
   "outputs": [],
   "source": [
    "# Optional: Name the columns\n",
    "tr_ohe.columns = ohe.get_feature_names_out()\n",
    "te_ohe.columns = ohe.get_feature_names_out()\n",
    "\n",
    "# Combine numerical and categorical for both train and test datasets\n",
    "tr_tr_new = pd.concat((tr_tr_new[non_categorical_vars], tr_ohe), axis=1)\n",
    "te_tr_new = pd.concat((te_tr_new[non_categorical_vars], te_ohe), axis=1)"
   ],
   "metadata": {
    "collapsed": false,
    "ExecuteTime": {
     "start_time": "2023-10-14T10:48:03.215455800Z"
    }
   },
   "id": "69b40b103ed8f1f2"
  }
 ],
 "metadata": {
  "kernelspec": {
   "display_name": "Python 3",
   "language": "python",
   "name": "python3"
  },
  "language_info": {
   "codemirror_mode": {
    "name": "ipython",
    "version": 2
   },
   "file_extension": ".py",
   "mimetype": "text/x-python",
   "name": "python",
   "nbconvert_exporter": "python",
   "pygments_lexer": "ipython2",
   "version": "2.7.6"
  }
 },
 "nbformat": 4,
 "nbformat_minor": 5
}
